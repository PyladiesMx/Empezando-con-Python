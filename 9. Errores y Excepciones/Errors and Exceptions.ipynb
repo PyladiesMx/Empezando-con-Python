{
 "cells": [
  {
   "cell_type": "markdown",
   "metadata": {},
   "source": [
    "# Errores y excepciones en Python\n",
    "\n",
    "\n",
    "Bienvenidas nuevamente a una reunión de Pyladies! En esta sesión aprenderemos acerca de los errores de python y como manejar casos 'Excepcionales' cuando generamos nuestros programas.\n",
    "\n",
    "Primero empezaremos con errores.\n",
    "\n",
    "¿Qué es un error? Seguramente en este punto ya has de estar familiarizada con los errores que python puede marcarte cuando ejecutas el código que escribiste. Los errores son incompatibilidades entre el código que escribes y la ejecución de python. Algo así como la falta de comunicación entre parejas :P ... Generalmente hay dos tipos de errores: \n",
    "\n",
    "* __Errores de sintaxis__: que son los más comunes y ocurren cuando nosotros escribimos algo en el código que python no puede interpretar. Como cuando olvidamos poner comas, alguna comilla o cerrar un paréntesis.\n",
    "\n",
    "* El otro tipo de errores se llaman __excepciones__: estan ocurren cuando python no puede operar de acuerdo a las instrucciones que le dimos (aunque estén sintácticamente correctas).\n",
    "\n",
    "En [este enlace](https://docs.python.org/3/library/exceptions.html#bltin-exceptions) se muestran todas las excepciones que existen en python. Dentro de las más comunes se encuentran __ZeroDivisionError__, __NameError__ y __TypeError__\n"
   ]
  },
  {
   "cell_type": "markdown",
   "metadata": {},
   "source": [
    "### Ejercicio 1\n",
    "\n",
    "Piensa en un ejemplo de cada tipo de errores (sintaxis y excepciones) y compártelo con el resto de pyladies."
   ]
  },
  {
   "cell_type": "code",
   "execution_count": null,
   "metadata": {
    "collapsed": true
   },
   "outputs": [],
   "source": []
  },
  {
   "cell_type": "code",
   "execution_count": null,
   "metadata": {
    "collapsed": true
   },
   "outputs": [],
   "source": []
  },
  {
   "cell_type": "markdown",
   "metadata": {},
   "source": [
    "Afortunadamente hay formas de lidiar con excepciones en python. Para explorar como podemos manejar excepciones, e incluso crear las nuestras vamos a hacer uso de la plataforma [**'Codecademy'**](https://www.codecademy.com/courses/python-intermediate-en-D8LVD/0/1)"
   ]
  },
  {
   "cell_type": "markdown",
   "metadata": {},
   "source": [
    "Finalmente usaremos lo aprendido para hacer un pequeño modelito de crecimiento bacteriano ![imagen](Bacteria.jpg)"
   ]
  },
  {
   "cell_type": "markdown",
   "metadata": {},
   "source": [
    "### Ejercicio 2\n",
    "\n",
    "Crea un programa para modelar el crecimiento bactriano **Recuerda que hoy vimos excepciones y como generar las propias**. En especial presta atención a los valores que puede tomar cada parámetro de modelo!"
   ]
  },
  {
   "cell_type": "code",
   "execution_count": null,
   "metadata": {
    "collapsed": true
   },
   "outputs": [],
   "source": []
  },
  {
   "cell_type": "code",
   "execution_count": null,
   "metadata": {
    "collapsed": true
   },
   "outputs": [],
   "source": []
  },
  {
   "cell_type": "code",
   "execution_count": null,
   "metadata": {
    "collapsed": true
   },
   "outputs": [],
   "source": []
  },
  {
   "cell_type": "code",
   "execution_count": null,
   "metadata": {
    "collapsed": true
   },
   "outputs": [],
   "source": []
  }
 ],
 "metadata": {
  "kernelspec": {
   "display_name": "Python 3",
   "language": "python",
   "name": "python3"
  },
  "language_info": {
   "codemirror_mode": {
    "name": "ipython",
    "version": 3
   },
   "file_extension": ".py",
   "mimetype": "text/x-python",
   "name": "python",
   "nbconvert_exporter": "python",
   "pygments_lexer": "ipython3",
   "version": "3.5.2"
  }
 },
 "nbformat": 4,
 "nbformat_minor": 0
}
