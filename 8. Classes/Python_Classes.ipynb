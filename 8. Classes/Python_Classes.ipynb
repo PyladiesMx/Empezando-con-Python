{
 "cells": [
  {
   "cell_type": "markdown",
   "metadata": {},
   "source": [
    "# Clases en Python\n",
    "\n",
    "## Bienvenidas nuevamente!!!\n",
    "\n",
    "En esta sesión veremos qué son las clases, para qué sirven y cómo funcionan. Además crearemos nuevas clases y veremos que es muy fácil hacer objetos nuevos en python!\n",
    "\n",
    "La primera pregunta será dirigida hacia ustedes, ¿alguna sabe algo acerca de las clases? o ¿para ustedes qué es una clase?\n"
   ]
  },
  {
   "cell_type": "markdown",
   "metadata": {},
   "source": [
    "Bueno después de haber escuchado sus opiniones veremos que una clase es esto:\n",
    "\n",
    "<img src='blueprint.png'>"
   ]
  },
  {
   "cell_type": "markdown",
   "metadata": {},
   "source": [
    "Esta imagen significa que las clases son una especie de plano (o instrucciones) para crear un nuevo objeto. En el caso de la imagen el objeto sería un edificio, pero podemos crear cualquier tipo de objetos!!! OJO, no hay que confundirnos, las **clases no son los objetos como tal**, si te das cuenta un mismo plano nos sirve para crear 1,2 ... 'n' número de casas, todas las casas o edificios que se construyan con el mismo plano van a tener exactamente las mismas propiedades. Por ejemplo, todas las casas construídas van a tener cuartos del mismo tamaño, con el mismo arreglo espacial y los mismos enchufes! \n",
    "\n",
    "Lo mismo pasa en python, si creas una clase 'casa', cada vez que llames a esa clase vas a crear un objeto casa con las características especificadas dentro de la clase."
   ]
  },
  {
   "cell_type": "markdown",
   "metadata": {},
   "source": [
    "Aunque no lo sabíamos (a excepción de las que si sabían de las clases) ya habíamos trabajado con clases anteriormente. Cuando tu creas un 'string', todas las propiedades de la clase 'string' son heredadas al objeto que creaste. Recuerdas que ya habíamos visto unas cuantas de las propiedades de las 'string' y de las funciones que se pueden hacer con ellas..."
   ]
  },
  {
   "cell_type": "markdown",
   "metadata": {},
   "source": [
    "Esto me lleva al siguiente punto que hay que abordar. Las clases llevan dentro de sí funciones (que cuando están en las clases se llaman métodos) y atributos (que son las características del objeto). Así que se puede pensar en las clases como un nivel de jerarquía mayor a lo que ya habíamos visto antes, como variables y funciones.\n",
    "\n",
    "### Antes de pasar a la parte del código, alguien tiene alguna duda hasta ahora??"
   ]
  },
  {
   "cell_type": "markdown",
   "metadata": {},
   "source": [
    "## Sintaxis de las clases, a.k.a cómo se escriben las clases en python.\n",
    "\n",
    "Ya que hemos comprendido el concepto de las clases pasaremos a ver cómo es que le tiene uno que escribir a python para que entienda que queremos crear una.\n",
    "\n",
    "Lo primero con lo que se inicia es con la palabra ``` class ``` seguido del nombre de nuestra clase con unos paréntesis que llevan la palabra objeto dentro de si. Al final de todo esto llevan dos puntos, al estilo de las funciones que ya vimos.\n",
    "\n",
    "``` class MiCasa(object):```\n",
    "\n"
   ]
  },
  {
   "cell_type": "markdown",
   "metadata": {},
   "source": [
    "Después viene la parte importante de una clase. Para que se pueda inicializar correctamente, una clase debe de contar con un método \"inicializador\" que se llama **__init__** que va a depender del objeto (o instancia) que estamos creando y de todos los atributos que queramos darle. Después vamos a crear variables para cada instancia. Sé que suena un poco complicado pero veamos como se escribe un ejemplo.\n",
    "\n",
    "``` class MiCasa(object):\n",
    "        \"\"\"Clase que va a crear un objeto casa con los atributos\n",
    "        cuartos, puertas, ventanas y tamaño\"\"\"\n",
    "        def __init__(self, cuartos, puertas, ventanas, tamaño):\n",
    "            self.cuartos = cuartos\n",
    "            self.puertas = puertas\n",
    "            self.ventanas = ventanas\n",
    "            self.tamaño = tamaño```"
   ]
  },
  {
   "cell_type": "markdown",
   "metadata": {},
   "source": [
    "Con esto ya podemos empezar a ver la forma de una clase. En este ejemplo, lo que vemos es una clase con atributos. \n",
    "\n",
    "### Ejercicio 1\n",
    "\n",
    "Prueba escribir esta clase para empezar a crear \"casas\"."
   ]
  },
  {
   "cell_type": "code",
   "execution_count": null,
   "metadata": {
    "collapsed": false
   },
   "outputs": [],
   "source": []
  },
  {
   "cell_type": "code",
   "execution_count": null,
   "metadata": {
    "collapsed": true
   },
   "outputs": [],
   "source": []
  },
  {
   "cell_type": "code",
   "execution_count": null,
   "metadata": {
    "collapsed": true
   },
   "outputs": [],
   "source": []
  },
  {
   "cell_type": "markdown",
   "metadata": {},
   "source": [
    "### Ejercicio 2\n",
    "\n",
    "Después de que creaste una (o varias) instancias de esta clase, prueba acceder a sus atributos con la notación de punto. Ejemplo\n",
    "\n",
    "```casa.ventanas``` "
   ]
  },
  {
   "cell_type": "code",
   "execution_count": null,
   "metadata": {
    "collapsed": true
   },
   "outputs": [],
   "source": []
  },
  {
   "cell_type": "code",
   "execution_count": null,
   "metadata": {
    "collapsed": true
   },
   "outputs": [],
   "source": []
  },
  {
   "cell_type": "code",
   "execution_count": null,
   "metadata": {
    "collapsed": true
   },
   "outputs": [],
   "source": []
  },
  {
   "cell_type": "markdown",
   "metadata": {},
   "source": [
    "Ya que tenemos una instancia con atributos, por qué no empezar a meter métodos que operen sobre estos atributos. Se me ocurre que tal vez queremos calcular el precio de nuestra casa y eso dependerá del número de cuartos y el tamaño. Por cuarto podremos cobrar 50,000.00 mxn y el tamaño si es menor o igual a 150m la tarifa es de 800,000.00 mnx pero si es mayor a 150m cobraremos 1,000,000.00 mxn. \n",
    "\n",
    "### Ejercicio 3\n",
    "\n",
    "Escribe la función \"precio\" que fue descrita anteriormente"
   ]
  },
  {
   "cell_type": "code",
   "execution_count": null,
   "metadata": {
    "collapsed": true
   },
   "outputs": [],
   "source": []
  },
  {
   "cell_type": "code",
   "execution_count": null,
   "metadata": {
    "collapsed": true
   },
   "outputs": [],
   "source": []
  },
  {
   "cell_type": "code",
   "execution_count": null,
   "metadata": {
    "collapsed": true
   },
   "outputs": [],
   "source": []
  },
  {
   "cell_type": "markdown",
   "metadata": {},
   "source": [
    "Ahora que ya tenemos la función, podemos agregarla a nuestra clase para que se convierta en un método. Esto es bastante sencillo ya que solo tenemos que poner nuestro método dentro de la indentación de nuestra clase y para llamar al método ocuparemos la misma notación de punto. Ejemplo\n",
    "\n",
    "``` casa.precio ```\n"
   ]
  },
  {
   "cell_type": "markdown",
   "metadata": {},
   "source": [
    "### Ejercicio 4\n",
    "\n",
    "copia el método \"precio que escribiste anteriormente en la clase **MiCasa** y ve en cuánto está valuada la casa que construíste"
   ]
  },
  {
   "cell_type": "code",
   "execution_count": null,
   "metadata": {
    "collapsed": true
   },
   "outputs": [],
   "source": []
  },
  {
   "cell_type": "code",
   "execution_count": null,
   "metadata": {
    "collapsed": true
   },
   "outputs": [],
   "source": []
  },
  {
   "cell_type": "code",
   "execution_count": null,
   "metadata": {
    "collapsed": true
   },
   "outputs": [],
   "source": []
  },
  {
   "cell_type": "markdown",
   "metadata": {},
   "source": [
    "## Felicidades!!!\n",
    "\n",
    "Hemos finalizado con el concepto básico y la sintaxis de las clases, ahora vamos a profundizar un poco en las particularidades.\n",
    "\n",
    "Pero antes de continuar, alguien tiene preguntas?"
   ]
  },
  {
   "cell_type": "markdown",
   "metadata": {},
   "source": [
    "Yo si tengo algunas, la primera es qué pasa si queremos usar un método que está fuera de la clase, podemos llamarlo? o el caso contrario, qué pasa si queremos usar un método que hay en una clase para que funcione en otro ejemplo independiente de la instancia?\n",
    "\n",
    "Para responder esto hay que experimentar!!! \n",
    "\n",
    "### Ejercicio 5\n",
    "\n",
    "Haz una función que se llame expandir que dependa de del tamaño de la casa. Esta función debería de agrandar el tamaño en un 25%. Ahora prueba usar esta función con una instancia de **MiCasa**"
   ]
  },
  {
   "cell_type": "code",
   "execution_count": null,
   "metadata": {
    "collapsed": true
   },
   "outputs": [],
   "source": []
  },
  {
   "cell_type": "code",
   "execution_count": null,
   "metadata": {
    "collapsed": true
   },
   "outputs": [],
   "source": []
  },
  {
   "cell_type": "code",
   "execution_count": null,
   "metadata": {
    "collapsed": true
   },
   "outputs": [],
   "source": []
  },
  {
   "cell_type": "markdown",
   "metadata": {},
   "source": [
    "### Ejercicio 6\n",
    "\n",
    "Intenta usar el método **precio** para calcular el costo de 5 cuartos con 800m\n"
   ]
  },
  {
   "cell_type": "code",
   "execution_count": null,
   "metadata": {
    "collapsed": true
   },
   "outputs": [],
   "source": []
  },
  {
   "cell_type": "code",
   "execution_count": null,
   "metadata": {
    "collapsed": true
   },
   "outputs": [],
   "source": []
  },
  {
   "cell_type": "code",
   "execution_count": null,
   "metadata": {
    "collapsed": true
   },
   "outputs": [],
   "source": []
  },
  {
   "cell_type": "markdown",
   "metadata": {},
   "source": [
    "Otra pregunta que se me ocurre es si podemos hacer que un atributo sea constante, es decir, que todas las instancias que creemos con **MiCasa** sean de color blanco...\n",
    "\n",
    "### Ejercicio 7\n",
    "\n",
    "Crea un atributo constante en **MiCasa**"
   ]
  },
  {
   "cell_type": "code",
   "execution_count": null,
   "metadata": {
    "collapsed": true
   },
   "outputs": [],
   "source": []
  },
  {
   "cell_type": "code",
   "execution_count": null,
   "metadata": {
    "collapsed": true
   },
   "outputs": [],
   "source": []
  },
  {
   "cell_type": "code",
   "execution_count": null,
   "metadata": {
    "collapsed": true
   },
   "outputs": [],
   "source": []
  },
  {
   "cell_type": "markdown",
   "metadata": {},
   "source": [
    "Lo último que veremos en esta sesión es el concepto de **\"Herencia\"**, así como tus padres crearon un@ hij@ con características similares a los ellos, las clases también pueden dar origen a otras clases.\n",
    "\n",
    "Básicamente, la herencia en las clases significa que puedes crear una clase nueva que posea atributos y métodos similares a otros que tiene una clase creada anteriormente. Como ejemplo, piensa en nuestra clase MiCasa, los atributos que tiene pueden bien compartirse con otros objetos parecidos como son edificios, hospitales, restaurantes, entre otros. Si quisiéramos abstraer estos objetos físicos en un concepto podríamos hacer una clase madre llamada **Inmueble**. Un inmueble es un concepto que tenemos que es muy general y puede abarcar varios objetos físicos (como los mencionados anteriormente) y podríamos pensar como que un inmueble es \"la madre\" de cualquier tipo de construcción. Todos los atributos y métodos que posea la clase **Inmueble** pueden ser utilizados por la clase **Edificio**, **MiCasa**, etc y lo que es mejor aún, no sólo los puedes utilizar, si no puedes agregar más cosas e incluso modificar los métodos o atributos de la clase madre."
   ]
  },
  {
   "cell_type": "markdown",
   "metadata": {},
   "source": [
    "Para crear una clase hija, lo que debes hacer es escribir de la siguiente manera:\n",
    "\n",
    "``` class Hija(Madre):```\n"
   ]
  },
  {
   "cell_type": "markdown",
   "metadata": {},
   "source": [
    "Yo calculo que para este entonces se abrá terminado el tiempo, así que l@s invito a hacer los ejercicios de codecademy acerca de las clases en Python. Creo que son muy buenos y divertidos de hacer, y pueden complementar lo que vimos hoy. La liga es la siguiente: [Codecademy](https://www.codecademy.com/en/courses/python-intermediate-en-WL8e4/0/1?curriculum_id=4f89dab3d788890003000096)"
   ]
  },
  {
   "cell_type": "markdown",
   "metadata": {},
   "source": [
    "### Gracias y nos vemos la siguiente reunión!!!"
   ]
  },
  {
   "cell_type": "code",
   "execution_count": null,
   "metadata": {
    "collapsed": true
   },
   "outputs": [],
   "source": []
  }
 ],
 "metadata": {
  "kernelspec": {
   "display_name": "Python 3",
   "language": "python",
   "name": "python3"
  },
  "language_info": {
   "codemirror_mode": {
    "name": "ipython",
    "version": 3
   },
   "file_extension": ".py",
   "mimetype": "text/x-python",
   "name": "python",
   "nbconvert_exporter": "python",
   "pygments_lexer": "ipython3",
   "version": "3.5.2"
  }
 },
 "nbformat": 4,
 "nbformat_minor": 0
}
