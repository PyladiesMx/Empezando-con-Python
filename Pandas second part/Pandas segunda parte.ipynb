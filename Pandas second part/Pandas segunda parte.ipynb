{
 "cells": [
  {
   "cell_type": "markdown",
   "metadata": {},
   "source": [
    "# Bienvenidas a otra sesión de Pyladies!!\n",
    "\n",
    "En esta ocasión lo que haremos será continuar aprendiendo a usar la biblioteca para análisis de datos llamada Pandas!!\n",
    "\n",
    "En la introducción de pandas vimos Series, 'Data Frames' y como crearlos, además vimos como podemos acceder a un subgrupo de elementos tanto en series como en data frames. Está sesión va a estar más enfocada a ver como manipular y ordenar tus datos y análisis estadísticos básicos.\n",
    "\n",
    "Sin más preámbulo comenzamos!!! :)"
   ]
  },
  {
   "cell_type": "markdown",
   "metadata": {},
   "source": [
    "Iniciaremos cargando los paquetes necesarios y creando unos arreglos de datos."
   ]
  },
  {
   "cell_type": "code",
   "execution_count": 1,
   "metadata": {
    "collapsed": true
   },
   "outputs": [],
   "source": [
    "#Cargamos los paquetes necesarios\n",
    "\n",
    "import pandas as pd\n",
    "import numpy as np\n",
    "import matplotlib.pyplot as plt"
   ]
  },
  {
   "cell_type": "code",
   "execution_count": 3,
   "metadata": {
    "collapsed": false
   },
   "outputs": [
    {
     "data": {
      "text/html": [
       "<div>\n",
       "<table border=\"1\" class=\"dataframe\">\n",
       "  <thead>\n",
       "    <tr style=\"text-align: right;\">\n",
       "      <th></th>\n",
       "      <th>A</th>\n",
       "      <th>B</th>\n",
       "      <th>C</th>\n",
       "      <th>D</th>\n",
       "    </tr>\n",
       "  </thead>\n",
       "  <tbody>\n",
       "    <tr>\n",
       "      <th>0</th>\n",
       "      <td>0.131053</td>\n",
       "      <td>-0.860202</td>\n",
       "      <td>0.281749</td>\n",
       "      <td>-0.625497</td>\n",
       "    </tr>\n",
       "    <tr>\n",
       "      <th>1</th>\n",
       "      <td>1.155817</td>\n",
       "      <td>1.640577</td>\n",
       "      <td>0.736785</td>\n",
       "      <td>1.142968</td>\n",
       "    </tr>\n",
       "    <tr>\n",
       "      <th>2</th>\n",
       "      <td>-0.962845</td>\n",
       "      <td>1.402777</td>\n",
       "      <td>-0.704439</td>\n",
       "      <td>0.636314</td>\n",
       "    </tr>\n",
       "    <tr>\n",
       "      <th>3</th>\n",
       "      <td>0.798315</td>\n",
       "      <td>-0.398095</td>\n",
       "      <td>1.791975</td>\n",
       "      <td>0.263193</td>\n",
       "    </tr>\n",
       "    <tr>\n",
       "      <th>4</th>\n",
       "      <td>-1.446837</td>\n",
       "      <td>0.553332</td>\n",
       "      <td>-0.939147</td>\n",
       "      <td>-1.711504</td>\n",
       "    </tr>\n",
       "    <tr>\n",
       "      <th>5</th>\n",
       "      <td>1.116232</td>\n",
       "      <td>0.465874</td>\n",
       "      <td>0.529144</td>\n",
       "      <td>-2.296299</td>\n",
       "    </tr>\n",
       "    <tr>\n",
       "      <th>6</th>\n",
       "      <td>1.265890</td>\n",
       "      <td>0.160612</td>\n",
       "      <td>-0.746620</td>\n",
       "      <td>2.118032</td>\n",
       "    </tr>\n",
       "  </tbody>\n",
       "</table>\n",
       "</div>"
      ],
      "text/plain": [
       "          A         B         C         D\n",
       "0  0.131053 -0.860202  0.281749 -0.625497\n",
       "1  1.155817  1.640577  0.736785  1.142968\n",
       "2 -0.962845  1.402777 -0.704439  0.636314\n",
       "3  0.798315 -0.398095  1.791975  0.263193\n",
       "4 -1.446837  0.553332 -0.939147 -1.711504\n",
       "5  1.116232  0.465874  0.529144 -2.296299\n",
       "6  1.265890  0.160612 -0.746620  2.118032"
      ]
     },
     "execution_count": 3,
     "metadata": {},
     "output_type": "execute_result"
    }
   ],
   "source": [
    "#Creamos arreglos de datos por un arreglo de numpy\n",
    "\n",
    "arreglo = np.random.randn(7,4)\n",
    "columnas = list('ABCD')\n",
    "df = pd.DataFrame(arreglo, columns=columnas )\n",
    "df"
   ]
  },
  {
   "cell_type": "code",
   "execution_count": 11,
   "metadata": {
    "collapsed": false
   },
   "outputs": [],
   "source": [
    "#Creamos arreglo de datos por diccionario \n",
    "\n",
    "df2 = pd.DataFrame({'Orden':list(range(5)),'Valor': np.random.random_sample(5),\n",
    "                      'Categoría':['a', 'a', np.nan, 'b', 'b']})"
   ]
  },
  {
   "cell_type": "code",
   "execution_count": 12,
   "metadata": {
    "collapsed": false
   },
   "outputs": [
    {
     "data": {
      "text/html": [
       "<div>\n",
       "<table border=\"1\" class=\"dataframe\">\n",
       "  <thead>\n",
       "    <tr style=\"text-align: right;\">\n",
       "      <th></th>\n",
       "      <th>Categoría</th>\n",
       "      <th>Orden</th>\n",
       "      <th>Valor</th>\n",
       "    </tr>\n",
       "  </thead>\n",
       "  <tbody>\n",
       "    <tr>\n",
       "      <th>0</th>\n",
       "      <td>a</td>\n",
       "      <td>0</td>\n",
       "      <td>0.293650</td>\n",
       "    </tr>\n",
       "    <tr>\n",
       "      <th>1</th>\n",
       "      <td>a</td>\n",
       "      <td>1</td>\n",
       "      <td>0.105914</td>\n",
       "    </tr>\n",
       "    <tr>\n",
       "      <th>2</th>\n",
       "      <td>NaN</td>\n",
       "      <td>2</td>\n",
       "      <td>0.833202</td>\n",
       "    </tr>\n",
       "    <tr>\n",
       "      <th>3</th>\n",
       "      <td>b</td>\n",
       "      <td>3</td>\n",
       "      <td>0.854258</td>\n",
       "    </tr>\n",
       "    <tr>\n",
       "      <th>4</th>\n",
       "      <td>b</td>\n",
       "      <td>4</td>\n",
       "      <td>0.480150</td>\n",
       "    </tr>\n",
       "  </tbody>\n",
       "</table>\n",
       "</div>"
      ],
      "text/plain": [
       "  Categoría  Orden     Valor\n",
       "0         a      0  0.293650\n",
       "1         a      1  0.105914\n",
       "2       NaN      2  0.833202\n",
       "3         b      3  0.854258\n",
       "4         b      4  0.480150"
      ]
     },
     "execution_count": 12,
     "metadata": {},
     "output_type": "execute_result"
    }
   ],
   "source": [
    "df2"
   ]
  },
  {
   "cell_type": "code",
   "execution_count": 14,
   "metadata": {
    "collapsed": false
   },
   "outputs": [
    {
     "data": {
      "text/html": [
       "<div>\n",
       "<table border=\"1\" class=\"dataframe\">\n",
       "  <thead>\n",
       "    <tr style=\"text-align: right;\">\n",
       "      <th></th>\n",
       "      <th>Pclass</th>\n",
       "      <th>Sex</th>\n",
       "      <th>Age</th>\n",
       "      <th>SibSp</th>\n",
       "      <th>Parch</th>\n",
       "      <th>Fare</th>\n",
       "      <th>Survived</th>\n",
       "    </tr>\n",
       "  </thead>\n",
       "  <tbody>\n",
       "    <tr>\n",
       "      <th>0</th>\n",
       "      <td>3</td>\n",
       "      <td>1</td>\n",
       "      <td>22.0</td>\n",
       "      <td>1</td>\n",
       "      <td>0</td>\n",
       "      <td>7.2500</td>\n",
       "      <td>0</td>\n",
       "    </tr>\n",
       "    <tr>\n",
       "      <th>1</th>\n",
       "      <td>1</td>\n",
       "      <td>0</td>\n",
       "      <td>38.0</td>\n",
       "      <td>1</td>\n",
       "      <td>0</td>\n",
       "      <td>71.2833</td>\n",
       "      <td>1</td>\n",
       "    </tr>\n",
       "    <tr>\n",
       "      <th>2</th>\n",
       "      <td>3</td>\n",
       "      <td>0</td>\n",
       "      <td>26.0</td>\n",
       "      <td>0</td>\n",
       "      <td>0</td>\n",
       "      <td>7.9250</td>\n",
       "      <td>1</td>\n",
       "    </tr>\n",
       "    <tr>\n",
       "      <th>3</th>\n",
       "      <td>1</td>\n",
       "      <td>0</td>\n",
       "      <td>35.0</td>\n",
       "      <td>1</td>\n",
       "      <td>0</td>\n",
       "      <td>53.1000</td>\n",
       "      <td>1</td>\n",
       "    </tr>\n",
       "    <tr>\n",
       "      <th>4</th>\n",
       "      <td>3</td>\n",
       "      <td>1</td>\n",
       "      <td>35.0</td>\n",
       "      <td>0</td>\n",
       "      <td>0</td>\n",
       "      <td>8.0500</td>\n",
       "      <td>0</td>\n",
       "    </tr>\n",
       "  </tbody>\n",
       "</table>\n",
       "</div>"
      ],
      "text/plain": [
       "   Pclass  Sex   Age  SibSp  Parch     Fare  Survived\n",
       "0       3    1  22.0      1      0   7.2500         0\n",
       "1       1    0  38.0      1      0  71.2833         1\n",
       "2       3    0  26.0      0      0   7.9250         1\n",
       "3       1    0  35.0      1      0  53.1000         1\n",
       "4       3    1  35.0      0      0   8.0500         0"
      ]
     },
     "execution_count": 14,
     "metadata": {},
     "output_type": "execute_result"
    }
   ],
   "source": [
    "#Creamos arreglo de datos desde archivo existente\n",
    "\n",
    "df3 = pd.read_csv('titanic.csv', header=0)\n",
    "df3.head()"
   ]
  },
  {
   "cell_type": "markdown",
   "metadata": {},
   "source": [
    "Ya que tenemos hechos nuestros arreglos, ahora vamos a ver las características generales de ellos..."
   ]
  },
  {
   "cell_type": "code",
   "execution_count": 15,
   "metadata": {
    "collapsed": false
   },
   "outputs": [
    {
     "data": {
      "text/plain": [
       "RangeIndex(start=0, stop=7, step=1)"
      ]
     },
     "execution_count": 15,
     "metadata": {},
     "output_type": "execute_result"
    }
   ],
   "source": [
    "#¿cuáles son los índices?\n",
    "\n",
    "df.index"
   ]
  },
  {
   "cell_type": "code",
   "execution_count": 16,
   "metadata": {
    "collapsed": false
   },
   "outputs": [
    {
     "data": {
      "text/plain": [
       "Index(['A', 'B', 'C', 'D'], dtype='object')"
      ]
     },
     "execution_count": 16,
     "metadata": {},
     "output_type": "execute_result"
    }
   ],
   "source": [
    "#¿cuáles son las etiquetas?\n",
    "\n",
    "df.columns"
   ]
  },
  {
   "cell_type": "code",
   "execution_count": 17,
   "metadata": {
    "collapsed": false
   },
   "outputs": [
    {
     "data": {
      "text/plain": [
       "array([[ 0.13105293, -0.86020212,  0.2817491 , -0.62549666],\n",
       "       [ 1.15581654,  1.64057737,  0.73678538,  1.14296846],\n",
       "       [-0.96284517,  1.40277673, -0.70443887,  0.63631411],\n",
       "       [ 0.79831518, -0.39809476,  1.79197503,  0.26319252],\n",
       "       [-1.44683719,  0.55333218, -0.93914695, -1.71150372],\n",
       "       [ 1.11623171,  0.46587416,  0.52914362, -2.29629905],\n",
       "       [ 1.26589029,  0.16061153, -0.74662032,  2.11803193]])"
      ]
     },
     "execution_count": 17,
     "metadata": {},
     "output_type": "execute_result"
    }
   ],
   "source": [
    "#¿qué valores contiene mi arreglo?\n",
    "\n",
    "df.values"
   ]
  },
  {
   "cell_type": "code",
   "execution_count": 20,
   "metadata": {
    "collapsed": false
   },
   "outputs": [
    {
     "data": {
      "text/html": [
       "<div>\n",
       "<table border=\"1\" class=\"dataframe\">\n",
       "  <thead>\n",
       "    <tr style=\"text-align: right;\">\n",
       "      <th></th>\n",
       "      <th>A</th>\n",
       "      <th>B</th>\n",
       "      <th>C</th>\n",
       "      <th>D</th>\n",
       "    </tr>\n",
       "  </thead>\n",
       "  <tbody>\n",
       "    <tr>\n",
       "      <th>count</th>\n",
       "      <td>7.000000</td>\n",
       "      <td>7.000000</td>\n",
       "      <td>7.000000</td>\n",
       "      <td>7.000000</td>\n",
       "    </tr>\n",
       "    <tr>\n",
       "      <th>mean</th>\n",
       "      <td>0.293946</td>\n",
       "      <td>0.423554</td>\n",
       "      <td>0.135635</td>\n",
       "      <td>-0.067542</td>\n",
       "    </tr>\n",
       "    <tr>\n",
       "      <th>std</th>\n",
       "      <td>1.099577</td>\n",
       "      <td>0.899160</td>\n",
       "      <td>0.993336</td>\n",
       "      <td>1.572055</td>\n",
       "    </tr>\n",
       "    <tr>\n",
       "      <th>min</th>\n",
       "      <td>-1.446837</td>\n",
       "      <td>-0.860202</td>\n",
       "      <td>-0.939147</td>\n",
       "      <td>-2.296299</td>\n",
       "    </tr>\n",
       "    <tr>\n",
       "      <th>25%</th>\n",
       "      <td>-0.415896</td>\n",
       "      <td>-0.118742</td>\n",
       "      <td>-0.725530</td>\n",
       "      <td>-1.168500</td>\n",
       "    </tr>\n",
       "    <tr>\n",
       "      <th>50%</th>\n",
       "      <td>0.798315</td>\n",
       "      <td>0.465874</td>\n",
       "      <td>0.281749</td>\n",
       "      <td>0.263193</td>\n",
       "    </tr>\n",
       "    <tr>\n",
       "      <th>75%</th>\n",
       "      <td>1.136024</td>\n",
       "      <td>0.978054</td>\n",
       "      <td>0.632965</td>\n",
       "      <td>0.889641</td>\n",
       "    </tr>\n",
       "    <tr>\n",
       "      <th>max</th>\n",
       "      <td>1.265890</td>\n",
       "      <td>1.640577</td>\n",
       "      <td>1.791975</td>\n",
       "      <td>2.118032</td>\n",
       "    </tr>\n",
       "  </tbody>\n",
       "</table>\n",
       "</div>"
      ],
      "text/plain": [
       "              A         B         C         D\n",
       "count  7.000000  7.000000  7.000000  7.000000\n",
       "mean   0.293946  0.423554  0.135635 -0.067542\n",
       "std    1.099577  0.899160  0.993336  1.572055\n",
       "min   -1.446837 -0.860202 -0.939147 -2.296299\n",
       "25%   -0.415896 -0.118742 -0.725530 -1.168500\n",
       "50%    0.798315  0.465874  0.281749  0.263193\n",
       "75%    1.136024  0.978054  0.632965  0.889641\n",
       "max    1.265890  1.640577  1.791975  2.118032"
      ]
     },
     "execution_count": 20,
     "metadata": {},
     "output_type": "execute_result"
    }
   ],
   "source": [
    "# Ahora vamos a ver un resumen de nuestros datos\n",
    "\n",
    "df.describe()"
   ]
  },
  {
   "cell_type": "code",
   "execution_count": 21,
   "metadata": {
    "collapsed": true
   },
   "outputs": [],
   "source": [
    "#si quieres saber qué más hace este método ejecuta este comando\n",
    "df.describe?"
   ]
  },
  {
   "cell_type": "markdown",
   "metadata": {},
   "source": [
    "### Ejercicio 1\n",
    "\n",
    "Crea un data frame de la clase de pyladies que contenga la información de los miembros. Cada fila va a ser un miembro y cada columna una cualidad que describa a esos miembros. Las columnas serán las siguientes: **Edad, Estatura, Origen(ciudad), Grado(estudios), Género(codificado con 0 y 1)**"
   ]
  },
  {
   "cell_type": "code",
   "execution_count": null,
   "metadata": {
    "collapsed": true
   },
   "outputs": [],
   "source": []
  },
  {
   "cell_type": "code",
   "execution_count": null,
   "metadata": {
    "collapsed": true
   },
   "outputs": [],
   "source": []
  },
  {
   "cell_type": "markdown",
   "metadata": {},
   "source": [
    "## Ordenando tu arreglo\n",
    "\n",
    "Imagina que quieres que tus datos se presenten en diferente orden en tu arreglo de datos porque de esta forma se pueden entender mejor, o es el formato que te piden en tu trabajo o simplemente porque te gusta más. Para esto usamos los métodos de 'sort'"
   ]
  },
  {
   "cell_type": "code",
   "execution_count": 23,
   "metadata": {
    "collapsed": false
   },
   "outputs": [
    {
     "data": {
      "text/html": [
       "<div>\n",
       "<table border=\"1\" class=\"dataframe\">\n",
       "  <thead>\n",
       "    <tr style=\"text-align: right;\">\n",
       "      <th></th>\n",
       "      <th>Categoría</th>\n",
       "      <th>Orden</th>\n",
       "      <th>Valor</th>\n",
       "    </tr>\n",
       "  </thead>\n",
       "  <tbody>\n",
       "    <tr>\n",
       "      <th>1</th>\n",
       "      <td>a</td>\n",
       "      <td>1</td>\n",
       "      <td>0.105914</td>\n",
       "    </tr>\n",
       "    <tr>\n",
       "      <th>0</th>\n",
       "      <td>a</td>\n",
       "      <td>0</td>\n",
       "      <td>0.293650</td>\n",
       "    </tr>\n",
       "    <tr>\n",
       "      <th>4</th>\n",
       "      <td>b</td>\n",
       "      <td>4</td>\n",
       "      <td>0.480150</td>\n",
       "    </tr>\n",
       "    <tr>\n",
       "      <th>2</th>\n",
       "      <td>NaN</td>\n",
       "      <td>2</td>\n",
       "      <td>0.833202</td>\n",
       "    </tr>\n",
       "    <tr>\n",
       "      <th>3</th>\n",
       "      <td>b</td>\n",
       "      <td>3</td>\n",
       "      <td>0.854258</td>\n",
       "    </tr>\n",
       "  </tbody>\n",
       "</table>\n",
       "</div>"
      ],
      "text/plain": [
       "  Categoría  Orden     Valor\n",
       "1         a      1  0.105914\n",
       "0         a      0  0.293650\n",
       "4         b      4  0.480150\n",
       "2       NaN      2  0.833202\n",
       "3         b      3  0.854258"
      ]
     },
     "execution_count": 23,
     "metadata": {},
     "output_type": "execute_result"
    }
   ],
   "source": [
    "#Ordenamiento por valores en las columnas\n",
    "\n",
    "df2.sort_values(by='Valor')"
   ]
  },
  {
   "cell_type": "code",
   "execution_count": 24,
   "metadata": {
    "collapsed": false
   },
   "outputs": [
    {
     "data": {
      "text/html": [
       "<div>\n",
       "<table border=\"1\" class=\"dataframe\">\n",
       "  <thead>\n",
       "    <tr style=\"text-align: right;\">\n",
       "      <th></th>\n",
       "      <th>D</th>\n",
       "      <th>C</th>\n",
       "      <th>B</th>\n",
       "      <th>A</th>\n",
       "    </tr>\n",
       "  </thead>\n",
       "  <tbody>\n",
       "    <tr>\n",
       "      <th>0</th>\n",
       "      <td>-0.625497</td>\n",
       "      <td>0.281749</td>\n",
       "      <td>-0.860202</td>\n",
       "      <td>0.131053</td>\n",
       "    </tr>\n",
       "    <tr>\n",
       "      <th>1</th>\n",
       "      <td>1.142968</td>\n",
       "      <td>0.736785</td>\n",
       "      <td>1.640577</td>\n",
       "      <td>1.155817</td>\n",
       "    </tr>\n",
       "    <tr>\n",
       "      <th>2</th>\n",
       "      <td>0.636314</td>\n",
       "      <td>-0.704439</td>\n",
       "      <td>1.402777</td>\n",
       "      <td>-0.962845</td>\n",
       "    </tr>\n",
       "    <tr>\n",
       "      <th>3</th>\n",
       "      <td>0.263193</td>\n",
       "      <td>1.791975</td>\n",
       "      <td>-0.398095</td>\n",
       "      <td>0.798315</td>\n",
       "    </tr>\n",
       "    <tr>\n",
       "      <th>4</th>\n",
       "      <td>-1.711504</td>\n",
       "      <td>-0.939147</td>\n",
       "      <td>0.553332</td>\n",
       "      <td>-1.446837</td>\n",
       "    </tr>\n",
       "    <tr>\n",
       "      <th>5</th>\n",
       "      <td>-2.296299</td>\n",
       "      <td>0.529144</td>\n",
       "      <td>0.465874</td>\n",
       "      <td>1.116232</td>\n",
       "    </tr>\n",
       "    <tr>\n",
       "      <th>6</th>\n",
       "      <td>2.118032</td>\n",
       "      <td>-0.746620</td>\n",
       "      <td>0.160612</td>\n",
       "      <td>1.265890</td>\n",
       "    </tr>\n",
       "  </tbody>\n",
       "</table>\n",
       "</div>"
      ],
      "text/plain": [
       "          D         C         B         A\n",
       "0 -0.625497  0.281749 -0.860202  0.131053\n",
       "1  1.142968  0.736785  1.640577  1.155817\n",
       "2  0.636314 -0.704439  1.402777 -0.962845\n",
       "3  0.263193  1.791975 -0.398095  0.798315\n",
       "4 -1.711504 -0.939147  0.553332 -1.446837\n",
       "5 -2.296299  0.529144  0.465874  1.116232\n",
       "6  2.118032 -0.746620  0.160612  1.265890"
      ]
     },
     "execution_count": 24,
     "metadata": {},
     "output_type": "execute_result"
    }
   ],
   "source": [
    "#Ordenamiento por etiquetas de las columnas\n",
    "\n",
    "df.sort_index(axis=1, ascending=False)"
   ]
  },
  {
   "cell_type": "markdown",
   "metadata": {},
   "source": [
    "### Ejercicio 2\n",
    "\n",
    "Haz un data frame que contenga a los 3 miembros con menor estatura, de modo que el data frame contenga sólo el nombre y la estatura"
   ]
  },
  {
   "cell_type": "code",
   "execution_count": null,
   "metadata": {
    "collapsed": true
   },
   "outputs": [],
   "source": []
  },
  {
   "cell_type": "code",
   "execution_count": null,
   "metadata": {
    "collapsed": true
   },
   "outputs": [],
   "source": []
  },
  {
   "cell_type": "markdown",
   "metadata": {},
   "source": [
    "## Buscando valores específicos en nuestros datos\n",
    "\n",
    "Cuando analizas datos no siempre van a estar todos ordenaditos, filtrados y arreglados de tal modo que tu puedas hacer las computaciones necesarias para el anális. De hecho lo más frecuente es que te encuentres con datos faltantes o valores innecesarios o cosas que no quieres y/o necesitas para tu análisis.\n",
    "\n",
    "Como ejemplo toma el segundo data frame que hicimos, te das cuenta que hay un 'NaN' por ahí que simplemente representa un valor faltante. \n",
    "\n",
    "**¿Qué harías en este caso?**\n",
    "\n",
    "y una vez que decidiste hacerlo, **¿Cómo lo lograrías?**\n",
    "\n",
    "Por suerte pandas tiene unos métodos para encontrar valores específicos o faltantes, y formas de lidiar con ellos..."
   ]
  },
  {
   "cell_type": "code",
   "execution_count": 25,
   "metadata": {
    "collapsed": false
   },
   "outputs": [
    {
     "data": {
      "text/plain": [
       "0    False\n",
       "1    False\n",
       "2    False\n",
       "3     True\n",
       "4     True\n",
       "Name: Categoría, dtype: bool"
      ]
     },
     "execution_count": 25,
     "metadata": {},
     "output_type": "execute_result"
    }
   ],
   "source": [
    "# Primero vamos a buscar valores específicos en una columna de nuestros datos\n",
    "\n",
    "df2.Categoría.isin(['A', 'B', 'b'])"
   ]
  },
  {
   "cell_type": "code",
   "execution_count": 26,
   "metadata": {
    "collapsed": false
   },
   "outputs": [
    {
     "data": {
      "text/html": [
       "<div>\n",
       "<table border=\"1\" class=\"dataframe\">\n",
       "  <thead>\n",
       "    <tr style=\"text-align: right;\">\n",
       "      <th></th>\n",
       "      <th>Categoría</th>\n",
       "      <th>Orden</th>\n",
       "      <th>Valor</th>\n",
       "    </tr>\n",
       "  </thead>\n",
       "  <tbody>\n",
       "    <tr>\n",
       "      <th>0</th>\n",
       "      <td>False</td>\n",
       "      <td>False</td>\n",
       "      <td>False</td>\n",
       "    </tr>\n",
       "    <tr>\n",
       "      <th>1</th>\n",
       "      <td>False</td>\n",
       "      <td>False</td>\n",
       "      <td>False</td>\n",
       "    </tr>\n",
       "    <tr>\n",
       "      <th>2</th>\n",
       "      <td>False</td>\n",
       "      <td>False</td>\n",
       "      <td>False</td>\n",
       "    </tr>\n",
       "    <tr>\n",
       "      <th>3</th>\n",
       "      <td>True</td>\n",
       "      <td>False</td>\n",
       "      <td>False</td>\n",
       "    </tr>\n",
       "    <tr>\n",
       "      <th>4</th>\n",
       "      <td>True</td>\n",
       "      <td>False</td>\n",
       "      <td>False</td>\n",
       "    </tr>\n",
       "  </tbody>\n",
       "</table>\n",
       "</div>"
      ],
      "text/plain": [
       "  Categoría  Orden  Valor\n",
       "0     False  False  False\n",
       "1     False  False  False\n",
       "2     False  False  False\n",
       "3      True  False  False\n",
       "4      True  False  False"
      ]
     },
     "execution_count": 26,
     "metadata": {},
     "output_type": "execute_result"
    }
   ],
   "source": [
    "# Ahora veremos en todo el arreglo\n",
    "\n",
    "df2.isin(['A', 'B', 'b'])"
   ]
  },
  {
   "cell_type": "code",
   "execution_count": 27,
   "metadata": {
    "collapsed": false
   },
   "outputs": [
    {
     "data": {
      "text/html": [
       "<div>\n",
       "<table border=\"1\" class=\"dataframe\">\n",
       "  <thead>\n",
       "    <tr style=\"text-align: right;\">\n",
       "      <th></th>\n",
       "      <th>Categoría</th>\n",
       "      <th>Orden</th>\n",
       "      <th>Valor</th>\n",
       "    </tr>\n",
       "  </thead>\n",
       "  <tbody>\n",
       "    <tr>\n",
       "      <th>0</th>\n",
       "      <td>False</td>\n",
       "      <td>False</td>\n",
       "      <td>False</td>\n",
       "    </tr>\n",
       "    <tr>\n",
       "      <th>1</th>\n",
       "      <td>False</td>\n",
       "      <td>False</td>\n",
       "      <td>False</td>\n",
       "    </tr>\n",
       "    <tr>\n",
       "      <th>2</th>\n",
       "      <td>True</td>\n",
       "      <td>False</td>\n",
       "      <td>False</td>\n",
       "    </tr>\n",
       "    <tr>\n",
       "      <th>3</th>\n",
       "      <td>False</td>\n",
       "      <td>False</td>\n",
       "      <td>False</td>\n",
       "    </tr>\n",
       "    <tr>\n",
       "      <th>4</th>\n",
       "      <td>False</td>\n",
       "      <td>False</td>\n",
       "      <td>False</td>\n",
       "    </tr>\n",
       "  </tbody>\n",
       "</table>\n",
       "</div>"
      ],
      "text/plain": [
       "  Categoría  Orden  Valor\n",
       "0     False  False  False\n",
       "1     False  False  False\n",
       "2      True  False  False\n",
       "3     False  False  False\n",
       "4     False  False  False"
      ]
     },
     "execution_count": 27,
     "metadata": {},
     "output_type": "execute_result"
    }
   ],
   "source": [
    "# Busquemos valores vacíos\n",
    "\n",
    "pd.isnull(df2)"
   ]
  },
  {
   "cell_type": "code",
   "execution_count": 28,
   "metadata": {
    "collapsed": false
   },
   "outputs": [
    {
     "data": {
      "text/html": [
       "<div>\n",
       "<table border=\"1\" class=\"dataframe\">\n",
       "  <thead>\n",
       "    <tr style=\"text-align: right;\">\n",
       "      <th></th>\n",
       "      <th>Categoría</th>\n",
       "      <th>Orden</th>\n",
       "      <th>Valor</th>\n",
       "    </tr>\n",
       "  </thead>\n",
       "  <tbody>\n",
       "    <tr>\n",
       "      <th>0</th>\n",
       "      <td>a</td>\n",
       "      <td>0</td>\n",
       "      <td>0.293650</td>\n",
       "    </tr>\n",
       "    <tr>\n",
       "      <th>1</th>\n",
       "      <td>a</td>\n",
       "      <td>1</td>\n",
       "      <td>0.105914</td>\n",
       "    </tr>\n",
       "    <tr>\n",
       "      <th>3</th>\n",
       "      <td>b</td>\n",
       "      <td>3</td>\n",
       "      <td>0.854258</td>\n",
       "    </tr>\n",
       "    <tr>\n",
       "      <th>4</th>\n",
       "      <td>b</td>\n",
       "      <td>4</td>\n",
       "      <td>0.480150</td>\n",
       "    </tr>\n",
       "  </tbody>\n",
       "</table>\n",
       "</div>"
      ],
      "text/plain": [
       "  Categoría  Orden     Valor\n",
       "0         a      0  0.293650\n",
       "1         a      1  0.105914\n",
       "3         b      3  0.854258\n",
       "4         b      4  0.480150"
      ]
     },
     "execution_count": 28,
     "metadata": {},
     "output_type": "execute_result"
    }
   ],
   "source": [
    "# ¿qué hacemos con este? ¿lo botamos?\n",
    "\n",
    "df2.dropna(how='any')"
   ]
  },
  {
   "cell_type": "code",
   "execution_count": 29,
   "metadata": {
    "collapsed": false
   },
   "outputs": [
    {
     "data": {
      "text/html": [
       "<div>\n",
       "<table border=\"1\" class=\"dataframe\">\n",
       "  <thead>\n",
       "    <tr style=\"text-align: right;\">\n",
       "      <th></th>\n",
       "      <th>Categoría</th>\n",
       "      <th>Orden</th>\n",
       "      <th>Valor</th>\n",
       "    </tr>\n",
       "  </thead>\n",
       "  <tbody>\n",
       "    <tr>\n",
       "      <th>0</th>\n",
       "      <td>a</td>\n",
       "      <td>0</td>\n",
       "      <td>0.293650</td>\n",
       "    </tr>\n",
       "    <tr>\n",
       "      <th>1</th>\n",
       "      <td>a</td>\n",
       "      <td>1</td>\n",
       "      <td>0.105914</td>\n",
       "    </tr>\n",
       "    <tr>\n",
       "      <th>2</th>\n",
       "      <td>c</td>\n",
       "      <td>2</td>\n",
       "      <td>0.833202</td>\n",
       "    </tr>\n",
       "    <tr>\n",
       "      <th>3</th>\n",
       "      <td>b</td>\n",
       "      <td>3</td>\n",
       "      <td>0.854258</td>\n",
       "    </tr>\n",
       "    <tr>\n",
       "      <th>4</th>\n",
       "      <td>b</td>\n",
       "      <td>4</td>\n",
       "      <td>0.480150</td>\n",
       "    </tr>\n",
       "  </tbody>\n",
       "</table>\n",
       "</div>"
      ],
      "text/plain": [
       "  Categoría  Orden     Valor\n",
       "0         a      0  0.293650\n",
       "1         a      1  0.105914\n",
       "2         c      2  0.833202\n",
       "3         b      3  0.854258\n",
       "4         b      4  0.480150"
      ]
     },
     "execution_count": 29,
     "metadata": {},
     "output_type": "execute_result"
    }
   ],
   "source": [
    "# ¿o lo llenamos diferente?\n",
    "df2.fillna(value='c')"
   ]
  },
  {
   "cell_type": "markdown",
   "metadata": {},
   "source": [
    "## Estadísticos básicos\n",
    "\n",
    "Podemos ver rápidamente como se comportan nuestros datos sacando estadísticos. Normalmente tendrías que hacerlo para cada condición de forma 'manual', sin embargo pandas nos permite hacerlo de forma muy fácil y muy rápida (en comparación con los for loops).\n",
    "\n",
    "Veamos unos ejemplos."
   ]
  },
  {
   "cell_type": "code",
   "execution_count": 30,
   "metadata": {
    "collapsed": false
   },
   "outputs": [
    {
     "data": {
      "text/plain": [
       "A    0.293946\n",
       "B    0.423554\n",
       "C    0.135635\n",
       "D   -0.067542\n",
       "dtype: float64"
      ]
     },
     "execution_count": 30,
     "metadata": {},
     "output_type": "execute_result"
    }
   ],
   "source": [
    "#obtener promedio por columna\n",
    "df.mean()"
   ]
  },
  {
   "cell_type": "code",
   "execution_count": 31,
   "metadata": {
    "collapsed": false
   },
   "outputs": [
    {
     "data": {
      "text/plain": [
       "0   -0.268224\n",
       "1    1.169037\n",
       "2    0.092952\n",
       "3    0.613847\n",
       "4   -0.886039\n",
       "5   -0.046262\n",
       "6    0.699478\n",
       "dtype: float64"
      ]
     },
     "execution_count": 31,
     "metadata": {},
     "output_type": "execute_result"
    }
   ],
   "source": [
    "#obtener promedio por fila\n",
    "df.mean(1)"
   ]
  },
  {
   "cell_type": "code",
   "execution_count": 33,
   "metadata": {
    "collapsed": false
   },
   "outputs": [
    {
     "data": {
      "text/plain": [
       "A    1.209070\n",
       "B    0.808489\n",
       "C    0.986716\n",
       "D    2.471358\n",
       "dtype: float64"
      ]
     },
     "execution_count": 33,
     "metadata": {},
     "output_type": "execute_result"
    }
   ],
   "source": [
    "#varianza por columna\n",
    "df.var()"
   ]
  },
  {
   "cell_type": "code",
   "execution_count": 34,
   "metadata": {
    "collapsed": false
   },
   "outputs": [
    {
     "data": {
      "text/plain": [
       "0    0.313325\n",
       "1    0.136682\n",
       "2    1.253808\n",
       "3    0.856333\n",
       "4    1.023499\n",
       "5    2.335811\n",
       "6    1.571565\n",
       "dtype: float64"
      ]
     },
     "execution_count": 34,
     "metadata": {},
     "output_type": "execute_result"
    }
   ],
   "source": [
    "#varianza por fila\n",
    "df.var(1)"
   ]
  },
  {
   "cell_type": "code",
   "execution_count": 38,
   "metadata": {
    "collapsed": false
   },
   "outputs": [
    {
     "data": {
      "text/plain": [
       "a    2\n",
       "b    2\n",
       "Name: Categoría, dtype: int64"
      ]
     },
     "execution_count": 38,
     "metadata": {},
     "output_type": "execute_result"
    }
   ],
   "source": [
    "#Frecuencia de valores en una columna específica (series)\n",
    "df2.Categoría.value_counts()"
   ]
  },
  {
   "cell_type": "code",
   "execution_count": 42,
   "metadata": {
    "collapsed": false
   },
   "outputs": [
    {
     "name": "stdout",
     "output_type": "stream",
     "text": [
      "          A         B         C         D\n",
      "0  0.131053 -0.860202  0.281749 -0.625497\n",
      "1  1.155817  1.640577  0.736785  1.142968\n",
      "2 -0.962845  1.402777 -0.704439  0.636314\n",
      "3  0.798315 -0.398095  1.791975  0.263193\n",
      "4 -1.446837  0.553332 -0.939147 -1.711504\n",
      "5  1.116232  0.465874  0.529144 -2.296299\n",
      "6  1.265890  0.160612 -0.746620  2.118032\n"
     ]
    },
    {
     "data": {
      "text/plain": [
       "A    2.057624\n",
       "B    2.964875\n",
       "C    0.949447\n",
       "D   -0.472792\n",
       "dtype: float64"
      ]
     },
     "execution_count": 42,
     "metadata": {},
     "output_type": "execute_result"
    }
   ],
   "source": [
    "#Aplicar una función para todo el data frame\n",
    "print(df)\n",
    "df.apply(np.sum) #suma por columna"
   ]
  },
  {
   "cell_type": "code",
   "execution_count": 44,
   "metadata": {
    "collapsed": false
   },
   "outputs": [
    {
     "data": {
      "text/html": [
       "<div>\n",
       "<table border=\"1\" class=\"dataframe\">\n",
       "  <thead>\n",
       "    <tr style=\"text-align: right;\">\n",
       "      <th></th>\n",
       "      <th>A</th>\n",
       "      <th>B</th>\n",
       "      <th>C</th>\n",
       "      <th>D</th>\n",
       "    </tr>\n",
       "  </thead>\n",
       "  <tbody>\n",
       "    <tr>\n",
       "      <th>0</th>\n",
       "      <td>0.017175</td>\n",
       "      <td>0.739948</td>\n",
       "      <td>0.079383</td>\n",
       "      <td>0.391246</td>\n",
       "    </tr>\n",
       "    <tr>\n",
       "      <th>1</th>\n",
       "      <td>1.335912</td>\n",
       "      <td>2.691494</td>\n",
       "      <td>0.542853</td>\n",
       "      <td>1.306377</td>\n",
       "    </tr>\n",
       "    <tr>\n",
       "      <th>2</th>\n",
       "      <td>0.927071</td>\n",
       "      <td>1.967783</td>\n",
       "      <td>0.496234</td>\n",
       "      <td>0.404896</td>\n",
       "    </tr>\n",
       "    <tr>\n",
       "      <th>3</th>\n",
       "      <td>0.637307</td>\n",
       "      <td>0.158479</td>\n",
       "      <td>3.211175</td>\n",
       "      <td>0.069270</td>\n",
       "    </tr>\n",
       "    <tr>\n",
       "      <th>4</th>\n",
       "      <td>2.093338</td>\n",
       "      <td>0.306177</td>\n",
       "      <td>0.881997</td>\n",
       "      <td>2.929245</td>\n",
       "    </tr>\n",
       "    <tr>\n",
       "      <th>5</th>\n",
       "      <td>1.245973</td>\n",
       "      <td>0.217039</td>\n",
       "      <td>0.279993</td>\n",
       "      <td>5.272989</td>\n",
       "    </tr>\n",
       "    <tr>\n",
       "      <th>6</th>\n",
       "      <td>1.602478</td>\n",
       "      <td>0.025796</td>\n",
       "      <td>0.557442</td>\n",
       "      <td>4.486059</td>\n",
       "    </tr>\n",
       "  </tbody>\n",
       "</table>\n",
       "</div>"
      ],
      "text/plain": [
       "          A         B         C         D\n",
       "0  0.017175  0.739948  0.079383  0.391246\n",
       "1  1.335912  2.691494  0.542853  1.306377\n",
       "2  0.927071  1.967783  0.496234  0.404896\n",
       "3  0.637307  0.158479  3.211175  0.069270\n",
       "4  2.093338  0.306177  0.881997  2.929245\n",
       "5  1.245973  0.217039  0.279993  5.272989\n",
       "6  1.602478  0.025796  0.557442  4.486059"
      ]
     },
     "execution_count": 44,
     "metadata": {},
     "output_type": "execute_result"
    }
   ],
   "source": [
    "df.apply(np.square) # elevar valores al cuadrado"
   ]
  },
  {
   "cell_type": "code",
   "execution_count": 45,
   "metadata": {
    "collapsed": false
   },
   "outputs": [
    {
     "data": {
      "text/plain": [
       "0.017174888809"
      ]
     },
     "execution_count": 45,
     "metadata": {},
     "output_type": "execute_result"
    }
   ],
   "source": [
    "#solo para comprobar\n",
    "0.131053**2"
   ]
  },
  {
   "cell_type": "markdown",
   "metadata": {},
   "source": [
    "### Ejercicio 3\n",
    "\n",
    "Con el data frame de Pyladies haz lo siguiente:\n",
    "\n",
    "1. Obtén el promedio de edades y estaturas de los miembros de Pyladies\n",
    "2. Obtén un conteo de los orígenes de los miembros de Pyladies \n",
    "3. Obtén el índice de masa corporal asumiendo que el promedio de peso es 60kg, ese resultado ponlo como una columna nueva del data frame"
   ]
  },
  {
   "cell_type": "code",
   "execution_count": null,
   "metadata": {
    "collapsed": false
   },
   "outputs": [],
   "source": []
  },
  {
   "cell_type": "code",
   "execution_count": null,
   "metadata": {
    "collapsed": true
   },
   "outputs": [],
   "source": []
  },
  {
   "cell_type": "code",
   "execution_count": null,
   "metadata": {
    "collapsed": false
   },
   "outputs": [],
   "source": []
  },
  {
   "cell_type": "markdown",
   "metadata": {},
   "source": [
    "## Combinar arreglos\n",
    "\n",
    "A veces tenemos todos los datos que queremos analizar distribuidos en diferentes arreglos de datos y luego no sabemos como combinarlos. Para ello pandas tiene diferentes métodos que nos ayudan en esta tarea."
   ]
  },
  {
   "cell_type": "code",
   "execution_count": 56,
   "metadata": {
    "collapsed": false
   },
   "outputs": [
    {
     "data": {
      "text/html": [
       "<div>\n",
       "<table border=\"1\" class=\"dataframe\">\n",
       "  <thead>\n",
       "    <tr style=\"text-align: right;\">\n",
       "      <th></th>\n",
       "      <th>A</th>\n",
       "      <th>B</th>\n",
       "      <th>C</th>\n",
       "      <th>Categoría</th>\n",
       "      <th>D</th>\n",
       "      <th>Orden</th>\n",
       "      <th>Valor</th>\n",
       "    </tr>\n",
       "  </thead>\n",
       "  <tbody>\n",
       "    <tr>\n",
       "      <th>0</th>\n",
       "      <td>0.131053</td>\n",
       "      <td>-0.860202</td>\n",
       "      <td>0.281749</td>\n",
       "      <td>NaN</td>\n",
       "      <td>-0.625497</td>\n",
       "      <td>NaN</td>\n",
       "      <td>NaN</td>\n",
       "    </tr>\n",
       "    <tr>\n",
       "      <th>1</th>\n",
       "      <td>1.155817</td>\n",
       "      <td>1.640577</td>\n",
       "      <td>0.736785</td>\n",
       "      <td>NaN</td>\n",
       "      <td>1.142968</td>\n",
       "      <td>NaN</td>\n",
       "      <td>NaN</td>\n",
       "    </tr>\n",
       "    <tr>\n",
       "      <th>2</th>\n",
       "      <td>-0.962845</td>\n",
       "      <td>1.402777</td>\n",
       "      <td>-0.704439</td>\n",
       "      <td>NaN</td>\n",
       "      <td>0.636314</td>\n",
       "      <td>NaN</td>\n",
       "      <td>NaN</td>\n",
       "    </tr>\n",
       "    <tr>\n",
       "      <th>3</th>\n",
       "      <td>0.798315</td>\n",
       "      <td>-0.398095</td>\n",
       "      <td>1.791975</td>\n",
       "      <td>NaN</td>\n",
       "      <td>0.263193</td>\n",
       "      <td>NaN</td>\n",
       "      <td>NaN</td>\n",
       "    </tr>\n",
       "    <tr>\n",
       "      <th>4</th>\n",
       "      <td>-1.446837</td>\n",
       "      <td>0.553332</td>\n",
       "      <td>-0.939147</td>\n",
       "      <td>NaN</td>\n",
       "      <td>-1.711504</td>\n",
       "      <td>NaN</td>\n",
       "      <td>NaN</td>\n",
       "    </tr>\n",
       "    <tr>\n",
       "      <th>5</th>\n",
       "      <td>1.116232</td>\n",
       "      <td>0.465874</td>\n",
       "      <td>0.529144</td>\n",
       "      <td>NaN</td>\n",
       "      <td>-2.296299</td>\n",
       "      <td>NaN</td>\n",
       "      <td>NaN</td>\n",
       "    </tr>\n",
       "    <tr>\n",
       "      <th>6</th>\n",
       "      <td>1.265890</td>\n",
       "      <td>0.160612</td>\n",
       "      <td>-0.746620</td>\n",
       "      <td>NaN</td>\n",
       "      <td>2.118032</td>\n",
       "      <td>NaN</td>\n",
       "      <td>NaN</td>\n",
       "    </tr>\n",
       "    <tr>\n",
       "      <th>0</th>\n",
       "      <td>NaN</td>\n",
       "      <td>NaN</td>\n",
       "      <td>NaN</td>\n",
       "      <td>a</td>\n",
       "      <td>NaN</td>\n",
       "      <td>0.0</td>\n",
       "      <td>0.293650</td>\n",
       "    </tr>\n",
       "    <tr>\n",
       "      <th>1</th>\n",
       "      <td>NaN</td>\n",
       "      <td>NaN</td>\n",
       "      <td>NaN</td>\n",
       "      <td>a</td>\n",
       "      <td>NaN</td>\n",
       "      <td>1.0</td>\n",
       "      <td>0.105914</td>\n",
       "    </tr>\n",
       "    <tr>\n",
       "      <th>2</th>\n",
       "      <td>NaN</td>\n",
       "      <td>NaN</td>\n",
       "      <td>NaN</td>\n",
       "      <td>NaN</td>\n",
       "      <td>NaN</td>\n",
       "      <td>2.0</td>\n",
       "      <td>0.833202</td>\n",
       "    </tr>\n",
       "    <tr>\n",
       "      <th>3</th>\n",
       "      <td>NaN</td>\n",
       "      <td>NaN</td>\n",
       "      <td>NaN</td>\n",
       "      <td>b</td>\n",
       "      <td>NaN</td>\n",
       "      <td>3.0</td>\n",
       "      <td>0.854258</td>\n",
       "    </tr>\n",
       "    <tr>\n",
       "      <th>4</th>\n",
       "      <td>NaN</td>\n",
       "      <td>NaN</td>\n",
       "      <td>NaN</td>\n",
       "      <td>b</td>\n",
       "      <td>NaN</td>\n",
       "      <td>4.0</td>\n",
       "      <td>0.480150</td>\n",
       "    </tr>\n",
       "  </tbody>\n",
       "</table>\n",
       "</div>"
      ],
      "text/plain": [
       "          A         B         C Categoría         D  Orden     Valor\n",
       "0  0.131053 -0.860202  0.281749       NaN -0.625497    NaN       NaN\n",
       "1  1.155817  1.640577  0.736785       NaN  1.142968    NaN       NaN\n",
       "2 -0.962845  1.402777 -0.704439       NaN  0.636314    NaN       NaN\n",
       "3  0.798315 -0.398095  1.791975       NaN  0.263193    NaN       NaN\n",
       "4 -1.446837  0.553332 -0.939147       NaN -1.711504    NaN       NaN\n",
       "5  1.116232  0.465874  0.529144       NaN -2.296299    NaN       NaN\n",
       "6  1.265890  0.160612 -0.746620       NaN  2.118032    NaN       NaN\n",
       "0       NaN       NaN       NaN         a       NaN    0.0  0.293650\n",
       "1       NaN       NaN       NaN         a       NaN    1.0  0.105914\n",
       "2       NaN       NaN       NaN       NaN       NaN    2.0  0.833202\n",
       "3       NaN       NaN       NaN         b       NaN    3.0  0.854258\n",
       "4       NaN       NaN       NaN         b       NaN    4.0  0.480150"
      ]
     },
     "execution_count": 56,
     "metadata": {},
     "output_type": "execute_result"
    }
   ],
   "source": [
    "#Concatenar los dos data frames\n",
    "\n",
    "pd.concat([df, df2])"
   ]
  },
  {
   "cell_type": "code",
   "execution_count": 57,
   "metadata": {
    "collapsed": false
   },
   "outputs": [
    {
     "data": {
      "text/html": [
       "<div>\n",
       "<table border=\"1\" class=\"dataframe\">\n",
       "  <thead>\n",
       "    <tr style=\"text-align: right;\">\n",
       "      <th></th>\n",
       "      <th>A</th>\n",
       "      <th>B</th>\n",
       "      <th>C</th>\n",
       "      <th>D</th>\n",
       "      <th>Categoría</th>\n",
       "      <th>Orden</th>\n",
       "      <th>Valor</th>\n",
       "    </tr>\n",
       "  </thead>\n",
       "  <tbody>\n",
       "    <tr>\n",
       "      <th>0</th>\n",
       "      <td>0.131053</td>\n",
       "      <td>-0.860202</td>\n",
       "      <td>0.281749</td>\n",
       "      <td>-0.625497</td>\n",
       "      <td>a</td>\n",
       "      <td>0.0</td>\n",
       "      <td>0.293650</td>\n",
       "    </tr>\n",
       "    <tr>\n",
       "      <th>1</th>\n",
       "      <td>1.155817</td>\n",
       "      <td>1.640577</td>\n",
       "      <td>0.736785</td>\n",
       "      <td>1.142968</td>\n",
       "      <td>a</td>\n",
       "      <td>1.0</td>\n",
       "      <td>0.105914</td>\n",
       "    </tr>\n",
       "    <tr>\n",
       "      <th>2</th>\n",
       "      <td>-0.962845</td>\n",
       "      <td>1.402777</td>\n",
       "      <td>-0.704439</td>\n",
       "      <td>0.636314</td>\n",
       "      <td>NaN</td>\n",
       "      <td>2.0</td>\n",
       "      <td>0.833202</td>\n",
       "    </tr>\n",
       "    <tr>\n",
       "      <th>3</th>\n",
       "      <td>0.798315</td>\n",
       "      <td>-0.398095</td>\n",
       "      <td>1.791975</td>\n",
       "      <td>0.263193</td>\n",
       "      <td>b</td>\n",
       "      <td>3.0</td>\n",
       "      <td>0.854258</td>\n",
       "    </tr>\n",
       "    <tr>\n",
       "      <th>4</th>\n",
       "      <td>-1.446837</td>\n",
       "      <td>0.553332</td>\n",
       "      <td>-0.939147</td>\n",
       "      <td>-1.711504</td>\n",
       "      <td>b</td>\n",
       "      <td>4.0</td>\n",
       "      <td>0.480150</td>\n",
       "    </tr>\n",
       "    <tr>\n",
       "      <th>5</th>\n",
       "      <td>1.116232</td>\n",
       "      <td>0.465874</td>\n",
       "      <td>0.529144</td>\n",
       "      <td>-2.296299</td>\n",
       "      <td>NaN</td>\n",
       "      <td>NaN</td>\n",
       "      <td>NaN</td>\n",
       "    </tr>\n",
       "    <tr>\n",
       "      <th>6</th>\n",
       "      <td>1.265890</td>\n",
       "      <td>0.160612</td>\n",
       "      <td>-0.746620</td>\n",
       "      <td>2.118032</td>\n",
       "      <td>NaN</td>\n",
       "      <td>NaN</td>\n",
       "      <td>NaN</td>\n",
       "    </tr>\n",
       "  </tbody>\n",
       "</table>\n",
       "</div>"
      ],
      "text/plain": [
       "          A         B         C         D Categoría  Orden     Valor\n",
       "0  0.131053 -0.860202  0.281749 -0.625497         a    0.0  0.293650\n",
       "1  1.155817  1.640577  0.736785  1.142968         a    1.0  0.105914\n",
       "2 -0.962845  1.402777 -0.704439  0.636314       NaN    2.0  0.833202\n",
       "3  0.798315 -0.398095  1.791975  0.263193         b    3.0  0.854258\n",
       "4 -1.446837  0.553332 -0.939147 -1.711504         b    4.0  0.480150\n",
       "5  1.116232  0.465874  0.529144 -2.296299       NaN    NaN       NaN\n",
       "6  1.265890  0.160612 -0.746620  2.118032       NaN    NaN       NaN"
      ]
     },
     "execution_count": 57,
     "metadata": {},
     "output_type": "execute_result"
    }
   ],
   "source": [
    "#ahora por columnas\n",
    "\n",
    "pd.concat([df, df2], axis=1)"
   ]
  },
  {
   "cell_type": "markdown",
   "metadata": {},
   "source": [
    "Hay muchos otros métodos más para combinar data frames los cuales podemos encontrar en la [siguiente página](http://pandas.pydata.org/pandas-docs/stable/merging.html#merging-concatenation)"
   ]
  },
  {
   "cell_type": "markdown",
   "metadata": {},
   "source": [
    "## Agrupamiento\n",
    "\n",
    "Hay veces que tenemos datos sobre los cuales queremos operar los cuales pueden dividirse en un subgrupo de categorías. Para esto usamos la herramienta 'Groupby'.\n",
    "\n",
    "Cuando pensamos en agrupamiento podemos hacer referencia a las siguientes situaciones:\n",
    "\n",
    "1. Vamos a dividir el data frame en subgrupos\n",
    "2. vamos a aplicar una función específica a cada subgrupo\n",
    "3. Vamos a combinar los resultados en otro data frame"
   ]
  },
  {
   "cell_type": "code",
   "execution_count": 60,
   "metadata": {
    "collapsed": false
   },
   "outputs": [
    {
     "data": {
      "text/html": [
       "<div>\n",
       "<table border=\"1\" class=\"dataframe\">\n",
       "  <thead>\n",
       "    <tr style=\"text-align: right;\">\n",
       "      <th></th>\n",
       "      <th>Pclass</th>\n",
       "      <th>Sex</th>\n",
       "      <th>Age</th>\n",
       "      <th>SibSp</th>\n",
       "      <th>Parch</th>\n",
       "      <th>Fare</th>\n",
       "    </tr>\n",
       "    <tr>\n",
       "      <th>Survived</th>\n",
       "      <th></th>\n",
       "      <th></th>\n",
       "      <th></th>\n",
       "      <th></th>\n",
       "      <th></th>\n",
       "      <th></th>\n",
       "    </tr>\n",
       "  </thead>\n",
       "  <tbody>\n",
       "    <tr>\n",
       "      <th>0</th>\n",
       "      <td>2.530706</td>\n",
       "      <td>0.853346</td>\n",
       "      <td>33.256645</td>\n",
       "      <td>0.555454</td>\n",
       "      <td>0.32539</td>\n",
       "      <td>22.140653</td>\n",
       "    </tr>\n",
       "    <tr>\n",
       "      <th>1</th>\n",
       "      <td>1.951542</td>\n",
       "      <td>0.318649</td>\n",
       "      <td>30.414596</td>\n",
       "      <td>0.474302</td>\n",
       "      <td>0.46696</td>\n",
       "      <td>48.496899</td>\n",
       "    </tr>\n",
       "  </tbody>\n",
       "</table>\n",
       "</div>"
      ],
      "text/plain": [
       "            Pclass       Sex        Age     SibSp    Parch       Fare\n",
       "Survived                                                             \n",
       "0         2.530706  0.853346  33.256645  0.555454  0.32539  22.140653\n",
       "1         1.951542  0.318649  30.414596  0.474302  0.46696  48.496899"
      ]
     },
     "execution_count": 60,
     "metadata": {},
     "output_type": "execute_result"
    }
   ],
   "source": [
    "#Agruparemos el tercer data frame por sobrevivencia\n",
    "df3.groupby('Survived').mean()"
   ]
  },
  {
   "cell_type": "code",
   "execution_count": 61,
   "metadata": {
    "collapsed": false
   },
   "outputs": [
    {
     "data": {
      "text/html": [
       "<div>\n",
       "<table border=\"1\" class=\"dataframe\">\n",
       "  <thead>\n",
       "    <tr style=\"text-align: right;\">\n",
       "      <th></th>\n",
       "      <th>Pclass</th>\n",
       "      <th>Sex</th>\n",
       "      <th>Age</th>\n",
       "      <th>SibSp</th>\n",
       "      <th>Parch</th>\n",
       "      <th>Fare</th>\n",
       "      <th>Survived</th>\n",
       "    </tr>\n",
       "  </thead>\n",
       "  <tbody>\n",
       "    <tr>\n",
       "      <th>0</th>\n",
       "      <td>3</td>\n",
       "      <td>1</td>\n",
       "      <td>22.0</td>\n",
       "      <td>1</td>\n",
       "      <td>0</td>\n",
       "      <td>7.2500</td>\n",
       "      <td>0</td>\n",
       "    </tr>\n",
       "    <tr>\n",
       "      <th>1</th>\n",
       "      <td>1</td>\n",
       "      <td>0</td>\n",
       "      <td>38.0</td>\n",
       "      <td>1</td>\n",
       "      <td>0</td>\n",
       "      <td>71.2833</td>\n",
       "      <td>1</td>\n",
       "    </tr>\n",
       "    <tr>\n",
       "      <th>2</th>\n",
       "      <td>3</td>\n",
       "      <td>0</td>\n",
       "      <td>26.0</td>\n",
       "      <td>0</td>\n",
       "      <td>0</td>\n",
       "      <td>7.9250</td>\n",
       "      <td>1</td>\n",
       "    </tr>\n",
       "    <tr>\n",
       "      <th>3</th>\n",
       "      <td>1</td>\n",
       "      <td>0</td>\n",
       "      <td>35.0</td>\n",
       "      <td>1</td>\n",
       "      <td>0</td>\n",
       "      <td>53.1000</td>\n",
       "      <td>1</td>\n",
       "    </tr>\n",
       "    <tr>\n",
       "      <th>4</th>\n",
       "      <td>3</td>\n",
       "      <td>1</td>\n",
       "      <td>35.0</td>\n",
       "      <td>0</td>\n",
       "      <td>0</td>\n",
       "      <td>8.0500</td>\n",
       "      <td>0</td>\n",
       "    </tr>\n",
       "  </tbody>\n",
       "</table>\n",
       "</div>"
      ],
      "text/plain": [
       "   Pclass  Sex   Age  SibSp  Parch     Fare  Survived\n",
       "0       3    1  22.0      1      0   7.2500         0\n",
       "1       1    0  38.0      1      0  71.2833         1\n",
       "2       3    0  26.0      0      0   7.9250         1\n",
       "3       1    0  35.0      1      0  53.1000         1\n",
       "4       3    1  35.0      0      0   8.0500         0"
      ]
     },
     "execution_count": 61,
     "metadata": {},
     "output_type": "execute_result"
    }
   ],
   "source": [
    "df3.head()"
   ]
  },
  {
   "cell_type": "code",
   "execution_count": 62,
   "metadata": {
    "collapsed": false
   },
   "outputs": [
    {
     "data": {
      "text/html": [
       "<div>\n",
       "<table border=\"1\" class=\"dataframe\">\n",
       "  <thead>\n",
       "    <tr style=\"text-align: right;\">\n",
       "      <th></th>\n",
       "      <th></th>\n",
       "      <th>Pclass</th>\n",
       "      <th>Age</th>\n",
       "      <th>SibSp</th>\n",
       "      <th>Parch</th>\n",
       "      <th>Fare</th>\n",
       "    </tr>\n",
       "    <tr>\n",
       "      <th>Survived</th>\n",
       "      <th>Sex</th>\n",
       "      <th></th>\n",
       "      <th></th>\n",
       "      <th></th>\n",
       "      <th></th>\n",
       "      <th></th>\n",
       "    </tr>\n",
       "  </thead>\n",
       "  <tbody>\n",
       "    <tr>\n",
       "      <th rowspan=\"2\" valign=\"top\">0</th>\n",
       "      <th>0</th>\n",
       "      <td>2.850000</td>\n",
       "      <td>28.681250</td>\n",
       "      <td>1.218750</td>\n",
       "      <td>1.006250</td>\n",
       "      <td>22.953674</td>\n",
       "    </tr>\n",
       "    <tr>\n",
       "      <th>1</th>\n",
       "      <td>2.475832</td>\n",
       "      <td>34.042965</td>\n",
       "      <td>0.441461</td>\n",
       "      <td>0.208378</td>\n",
       "      <td>22.000928</td>\n",
       "    </tr>\n",
       "    <tr>\n",
       "      <th rowspan=\"2\" valign=\"top\">1</th>\n",
       "      <th>0</th>\n",
       "      <td>1.918103</td>\n",
       "      <td>30.864224</td>\n",
       "      <td>0.515086</td>\n",
       "      <td>0.517241</td>\n",
       "      <td>52.063156</td>\n",
       "    </tr>\n",
       "    <tr>\n",
       "      <th>1</th>\n",
       "      <td>2.023041</td>\n",
       "      <td>29.453180</td>\n",
       "      <td>0.387097</td>\n",
       "      <td>0.359447</td>\n",
       "      <td>40.871353</td>\n",
       "    </tr>\n",
       "  </tbody>\n",
       "</table>\n",
       "</div>"
      ],
      "text/plain": [
       "                Pclass        Age     SibSp     Parch       Fare\n",
       "Survived Sex                                                    \n",
       "0        0    2.850000  28.681250  1.218750  1.006250  22.953674\n",
       "         1    2.475832  34.042965  0.441461  0.208378  22.000928\n",
       "1        0    1.918103  30.864224  0.515086  0.517241  52.063156\n",
       "         1    2.023041  29.453180  0.387097  0.359447  40.871353"
      ]
     },
     "execution_count": 62,
     "metadata": {},
     "output_type": "execute_result"
    }
   ],
   "source": [
    "#ahora lo agruparemos por sobrevivencia y sexo\n",
    "df3.groupby(['Survived', 'Sex']).mean()"
   ]
  },
  {
   "cell_type": "markdown",
   "metadata": {},
   "source": []
  },
  {
   "cell_type": "code",
   "execution_count": null,
   "metadata": {
    "collapsed": true
   },
   "outputs": [],
   "source": []
  }
 ],
 "metadata": {
  "kernelspec": {
   "display_name": "Python 3",
   "language": "python",
   "name": "python3"
  },
  "language_info": {
   "codemirror_mode": {
    "name": "ipython",
    "version": 3
   },
   "file_extension": ".py",
   "mimetype": "text/x-python",
   "name": "python",
   "nbconvert_exporter": "python",
   "pygments_lexer": "ipython3",
   "version": "3.5.2"
  }
 },
 "nbformat": 4,
 "nbformat_minor": 0
}
