{
 "cells": [
  {
   "cell_type": "markdown",
   "metadata": {},
   "source": [
    "# ¡Bienvenidas a otra reunión de PyLadies! "
   ]
  },
  {
   "cell_type": "markdown",
   "metadata": {},
   "source": [
    "En la ultima sesión, trabajabamos con los 'for loops', que utilizan cuando quieres repetir una operación un número *n* de veces."
   ]
  },
  {
   "cell_type": "code",
   "execution_count": null,
   "metadata": {
    "collapsed": false
   },
   "outputs": [],
   "source": [
    "for numero in range(1,21):\n",
    "    cuadrado = numero**2\n",
    "    print(cuadrado)"
   ]
  },
  {
   "cell_type": "markdown",
   "metadata": {},
   "source": [
    "Pero, ¿qué tal si quieres repetir una operación mientres que se cumple una condición? En este caso utilizamos un 'while loop'. Se repete la operación mientras que la condición es cierta. \n",
    "\n",
    "Algunos ejemplos en este taller vienen de los siguientes paginas:\n",
    "\n",
    "[Python while loop statements](http://www.tutorialspoint.com/python/python_while_loop.htm)\n",
    "\n",
    "[Python programming/loops](https://en.wikibooks.org/wiki/Python_Programming/Loops)\n",
    "\n",
    "[Codecademy: While you're here](https://www.codecademy.com/courses/python-beginner-en-cxMGf/0/1)"
   ]
  },
  {
   "cell_type": "markdown",
   "metadata": {},
   "source": [
    "## Ejemplo: contar"
   ]
  },
  {
   "cell_type": "code",
   "execution_count": 4,
   "metadata": {
    "collapsed": false
   },
   "outputs": [
    {
     "name": "stdout",
     "output_type": "stream",
     "text": [
      "La cuenta es: 0\n",
      "La cuenta es: 1\n",
      "La cuenta es: 2\n",
      "La cuenta es: 3\n",
      "La cuenta es: 4\n",
      "La cuenta es: 5\n",
      "La cuenta es: 6\n",
      "La cuenta es: 7\n",
      "La cuenta es: 8\n",
      "¡Adios!\n"
     ]
    }
   ],
   "source": [
    "cuenta = 0\n",
    "while (cuenta < 9):\n",
    "   print 'La cuenta es:',cuenta\n",
    "   cuenta = cuenta + 1\n",
    "\n",
    "print \"¡Adios!\""
   ]
  },
  {
   "cell_type": "markdown",
   "metadata": {},
   "source": [
    "## Ejemplo: Secuencia de Fibonacci"
   ]
  },
  {
   "cell_type": "code",
   "execution_count": 1,
   "metadata": {
    "collapsed": false
   },
   "outputs": [
    {
     "name": "stdout",
     "output_type": "stream",
     "text": [
      "0 1 1 2 3 5 8 13 21 34 55 89 144 233 377 610 987 1597 2584 4181\n"
     ]
    }
   ],
   "source": [
    "a = 0\n",
    "b = 1\n",
    "count = 0\n",
    "max_count = 20\n",
    "while count < max_count:\n",
    "    count = count + 1\n",
    "    old_a = a\n",
    "    old_b = b\n",
    "    a = old_b\n",
    "    b = old_a + old_b\n",
    "    print (old_a),"
   ]
  },
  {
   "cell_type": "markdown",
   "metadata": {},
   "source": [
    "## Ejemplo: Contraseñas"
   ]
  },
  {
   "cell_type": "code",
   "execution_count": 3,
   "metadata": {
    "collapsed": false
   },
   "outputs": [
    {
     "name": "stdout",
     "output_type": "stream",
     "text": [
      "Contrasenia: pollo\n",
      "Contrasenia: gato\n",
      "Contrasenia: unicornio\n",
      "Bienvenidos\n"
     ]
    }
   ],
   "source": [
    "# Espera hasta se escribe la contraseña corecta.\n",
    "\n",
    "# La contraseña inicial tiene que ser incorecta para que corre una vez el bucle.\n",
    "contrasenia = \"fantasma\"\n",
    "\n",
    "#note that != means not equal\n",
    "while contrasenia != \"unicornio\":\n",
    "    contrasenia = raw_input(\"Contrasenia: \")\n",
    "print (\"Bienvenidos\")"
   ]
  },
  {
   "cell_type": "markdown",
   "metadata": {},
   "source": [
    "## Diferencia entre 'if' y 'while'"
   ]
  },
  {
   "cell_type": "code",
   "execution_count": 10,
   "metadata": {
    "collapsed": false
   },
   "outputs": [
    {
     "name": "stdout",
     "output_type": "stream",
     "text": [
      "Hola, yo soy un 'if' y la cuenta es 0\n"
     ]
    }
   ],
   "source": [
    "cuenta = 0\n",
    "\n",
    "if cuenta < 5:\n",
    "    print \"Hola, yo soy un 'if' y la cuenta es\", cuenta"
   ]
  },
  {
   "cell_type": "code",
   "execution_count": 11,
   "metadata": {
    "collapsed": false
   },
   "outputs": [
    {
     "name": "stdout",
     "output_type": "stream",
     "text": [
      "Hola, yo soy un 'while' y la cuenta es 0\n",
      "Hola, yo soy un 'while' y la cuenta es 1\n",
      "Hola, yo soy un 'while' y la cuenta es 2\n",
      "Hola, yo soy un 'while' y la cuenta es 3\n",
      "Hola, yo soy un 'while' y la cuenta es 4\n"
     ]
    }
   ],
   "source": [
    "cuenta = 0\n",
    "\n",
    "while cuenta < 5:\n",
    "    print \"Hola, yo soy un 'while' y la cuenta es\", cuenta\n",
    "    cuenta += 1"
   ]
  },
  {
   "cell_type": "markdown",
   "metadata": {},
   "source": [
    "## Bucles infinitos\n",
    "\n",
    "La iteración continue mientras que la condición es cierto. Si la condición nunca es falso, la iteración nunca se para."
   ]
  },
  {
   "cell_type": "markdown",
   "metadata": {
    "collapsed": true
   },
   "source": [
    "EJEMPLO: ¡No lo corren! (En el terminal usan CTRL 'c' para cancelar una operación)"
   ]
  },
  {
   "cell_type": "code",
   "execution_count": null,
   "metadata": {
    "collapsed": true
   },
   "outputs": [],
   "source": [
    "#while 1 == 1:\n",
    "    #print (\"¡Ayudame, no puedo salir del bucle!\")"
   ]
  },
  {
   "cell_type": "markdown",
   "metadata": {},
   "source": [
    "## Ejercicio 1\n",
    "\n",
    "Escribe un programa en Python que pide al usuario que introduzca un número entero que es mayor que 10. La función va a seguir pidiendo al usuario el número hasta que sea válida."
   ]
  },
  {
   "cell_type": "code",
   "execution_count": null,
   "metadata": {
    "collapsed": true
   },
   "outputs": [],
   "source": []
  }
 ],
 "metadata": {
  "kernelspec": {
   "display_name": "Python 2",
   "language": "python",
   "name": "python2"
  },
  "language_info": {
   "codemirror_mode": {
    "name": "ipython",
    "version": 2
   },
   "file_extension": ".py",
   "mimetype": "text/x-python",
   "name": "python",
   "nbconvert_exporter": "python",
   "pygments_lexer": "ipython2",
   "version": "2.7.11"
  }
 },
 "nbformat": 4,
 "nbformat_minor": 0
}
