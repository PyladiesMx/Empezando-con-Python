{
 "cells": [
  {
   "cell_type": "markdown",
   "metadata": {},
   "source": [
    "# Introducción a pandas, una librería para analizar datos\n",
    "\n",
    "A petición de la comunidad, vamos a empezar a ver cómo podemos usar herramientas para analizar datos!!!\n",
    "\n",
    "Pandas es una librería muy usada en \"data science\" ya que te permite cargar y operar rápidamente en python. En lo que se enfoca es en procesar arreglos de datos que tengan la forma `n x m` en donde \"n\" sean el número de filas (rows) y \"m\" el número de columnas. Cada columna puede contener más de un tipo de datos (no es como en numpy que todo tiene que ser lo mismo).\n",
    "\n",
    "Ahora sin más preámbulos empecemos a usar pandas!!\n",
    "\n",
    "Lo primero que hay que hacer es importar la librería. Para ello necesitamos que esté instalada. **Todas las personas que tienen anaconda no deben de preocuparse por instalar ninguna otra cosa.** El resto debe de hacerlo de acuerdo a como instaló python en un principio.\n"
   ]
  },
  {
   "cell_type": "code",
   "execution_count": 70,
   "metadata": {
    "collapsed": true
   },
   "outputs": [],
   "source": [
    "import pandas as pd\n",
    "#Este comando lo que hace básicamente es decir que quiere accedeer a todas las clases\n",
    "#que la librería pandas tiene\n",
    "import numpy as np"
   ]
  },
  {
   "cell_type": "markdown",
   "metadata": {},
   "source": [
    "Ahora que ya tenemos pandas podemos empezar a explorar que cosas podemos hacer con esta librería.\n",
    "\n",
    "En pandas hay dos tipos nuevos de estructura de datos. **Pregunta rápida**, recuerdas los otros tipos de datos que hemos visto??"
   ]
  },
  {
   "cell_type": "markdown",
   "metadata": {},
   "source": [
    "De regreso al punto :P los nuevos tipos de datos se separan en dos grupos: las series y los \"data frames\".\n",
    "\n",
    "Las series son el elemento más simple en pandas ya que es una arreglo de `n x 1` es decir n número de filas con una sola columna. Veamos un ejemplo:"
   ]
  },
  {
   "cell_type": "code",
   "execution_count": 71,
   "metadata": {
    "collapsed": false
   },
   "outputs": [
    {
     "name": "stdout",
     "output_type": "stream",
     "text": [
      "['hola', 'mi', 'nombre', 'es', 'pandas', 0.18]\n",
      "0      hola\n",
      "1        mi\n",
      "2    nombre\n",
      "3        es\n",
      "4    pandas\n",
      "5      0.18\n",
      "dtype: object\n"
     ]
    }
   ],
   "source": [
    "lista = ['hola', 'mi', 'nombre', 'es', 'pandas',0.18 ]\n",
    "serie = pd.Series(lista)\n",
    "print(lista)\n",
    "print(serie)"
   ]
  },
  {
   "cell_type": "markdown",
   "metadata": {},
   "source": [
    "### Pregunta 1\n",
    "\n",
    "¿Qué diferencias notas entre la lista y la serie?\n",
    "\n",
    "\n",
    "Ajá!! Exactemente!! esos pequeños numerillos a la izquierda, ¿Qué te imaginas que son?\n",
    "\n"
   ]
  },
  {
   "cell_type": "markdown",
   "metadata": {},
   "source": [
    "Pues esos pequeños se llaman índices y son un concepto muy útil que hay que entender porque pandas se maneja principalmente con índices. Ahora veamos como podemos nombrar como queramos a esos índices."
   ]
  },
  {
   "cell_type": "code",
   "execution_count": 72,
   "metadata": {
    "collapsed": false
   },
   "outputs": [
    {
     "data": {
      "text/plain": [
       "H      hola\n",
       "m        mi\n",
       "n    nombre\n",
       "e        es\n",
       "p    pandas\n",
       "0      0.18\n",
       "dtype: object"
      ]
     },
     "execution_count": 72,
     "metadata": {},
     "output_type": "execute_result"
    }
   ],
   "source": [
    "serie2 = pd.Series(lista, index=['H', 'm', 'n', 'e', 'p', '0'])\n",
    "serie2"
   ]
  },
  {
   "cell_type": "markdown",
   "metadata": {},
   "source": [
    "Te recuerda esto a alguna estructura de datos que ya hemos visto?\n",
    "\n",
    "ejem, ejem, dic..., ejem, ejem...\n",
    "\n",
    "Pues si se podría pensar en una serie como una especie de diccionarios, de hecho para crear una serie también puedes partir de un diccionario...\n"
   ]
  },
  {
   "cell_type": "code",
   "execution_count": 73,
   "metadata": {
    "collapsed": true
   },
   "outputs": [],
   "source": [
    "diccionario = {'Ciudad de México':'Tacos al pastor', 'Puebla':'Chile en nogada', 'Yucatán':'Cochinita'}"
   ]
  },
  {
   "cell_type": "code",
   "execution_count": 74,
   "metadata": {
    "collapsed": false
   },
   "outputs": [
    {
     "data": {
      "text/plain": [
       "Ciudad de México    Tacos al pastor\n",
       "Puebla              Chile en nogada\n",
       "Yucatán                   Cochinita\n",
       "dtype: object"
      ]
     },
     "execution_count": 74,
     "metadata": {},
     "output_type": "execute_result"
    }
   ],
   "source": [
    "serie_dic = pd.Series(diccionario)\n",
    "serie_dic"
   ]
  },
  {
   "cell_type": "code",
   "execution_count": 101,
   "metadata": {
    "collapsed": false
   },
   "outputs": [
    {
     "data": {
      "text/plain": [
       "Puebla     Chile en nogada\n",
       "Yucatán          Cochinita\n",
       "dtype: object"
      ]
     },
     "execution_count": 101,
     "metadata": {},
     "output_type": "execute_result"
    }
   ],
   "source": [
    "serie_dic.loc['Puebla':'Yucatán']"
   ]
  },
  {
   "cell_type": "code",
   "execution_count": 75,
   "metadata": {
    "collapsed": false
   },
   "outputs": [],
   "source": [
    "lista2 = [1,1,1,1,1,1]"
   ]
  },
  {
   "cell_type": "markdown",
   "metadata": {},
   "source": [
    "### Pregunta 2\n",
    "\n",
    "¿Qué crees que pase si queremos hacer una serie con la lista 1 pero que tenga como índices la lista 2?"
   ]
  },
  {
   "cell_type": "code",
   "execution_count": 77,
   "metadata": {
    "collapsed": false
   },
   "outputs": [],
   "source": [
    "ejemplo=pd.Series(lista, lista2)"
   ]
  },
  {
   "cell_type": "code",
   "execution_count": 78,
   "metadata": {
    "collapsed": false
   },
   "outputs": [
    {
     "data": {
      "text/plain": [
       "1      hola\n",
       "1        mi\n",
       "1    nombre\n",
       "1        es\n",
       "1    pandas\n",
       "1      0.18\n",
       "dtype: object"
      ]
     },
     "execution_count": 78,
     "metadata": {},
     "output_type": "execute_result"
    }
   ],
   "source": [
    "ejemplo[1]"
   ]
  },
  {
   "cell_type": "markdown",
   "metadata": {},
   "source": [
    "Como pudiste darte cuenta, en realidad las series sí se parecen a los diccionarios pero no son exactamente lo mismo... Si quieres saber de qué otras maneras puedes crear series, puedes visitar la [página de documentación oficial](http://pandas.pydata.org/pandas-docs/stable/dsintro.html), está super completa!!\n",
    "\n",
    "Ahora que ya conoces la materia prima de pandas podemos empezar a trabajar con data frames que si lo piensas, serían como un montón de series amarradas entre sí...\n",
    "\n",
    "Para crear un data frame hay varias formas, puedes escribirlo todo de la misma forma que hicimos con las series pero también puedes importar una set de datos con el que quieras trabajar.\n",
    "\n",
    "Veremos rápidamente como podemos crear un data frame y luego como podemos cargar uno que ya tengamos."
   ]
  },
  {
   "cell_type": "code",
   "execution_count": 79,
   "metadata": {
    "collapsed": false
   },
   "outputs": [
    {
     "name": "stdout",
     "output_type": "stream",
     "text": [
      "[[ -9.19971650e-01  -6.84530335e-01   8.22206005e-02]\n",
      " [ -1.27218830e+00  -2.85069739e+00  -1.53397822e-01]\n",
      " [ -2.58929584e+00  -4.04047056e-02   9.97718785e-01]\n",
      " [  7.24750698e-01   1.09092697e+00   4.09483440e-01]\n",
      " [  3.79047199e-01   7.64345627e-01  -1.90961377e-04]\n",
      " [  1.12118329e+00   1.04343252e+00  -1.61168674e-01]\n",
      " [ -6.13659711e-01  -1.54511010e+00  -2.15253189e-01]]\n"
     ]
    }
   ],
   "source": [
    "#Crear un data frame de un arreglo de numpy\n",
    "arreglo = np.random.randn(7,3)\n",
    "print(arreglo)\n",
    "columnas = list('ABC')\n",
    "data_frame = pd.DataFrame(arreglo, columns=columnas )"
   ]
  },
  {
   "cell_type": "code",
   "execution_count": 80,
   "metadata": {
    "collapsed": false,
    "scrolled": true
   },
   "outputs": [
    {
     "data": {
      "text/html": [
       "<div>\n",
       "<table border=\"1\" class=\"dataframe\">\n",
       "  <thead>\n",
       "    <tr style=\"text-align: right;\">\n",
       "      <th></th>\n",
       "      <th>A</th>\n",
       "      <th>B</th>\n",
       "      <th>C</th>\n",
       "    </tr>\n",
       "  </thead>\n",
       "  <tbody>\n",
       "    <tr>\n",
       "      <th>0</th>\n",
       "      <td>-0.919972</td>\n",
       "      <td>-0.684530</td>\n",
       "      <td>0.082221</td>\n",
       "    </tr>\n",
       "    <tr>\n",
       "      <th>1</th>\n",
       "      <td>-1.272188</td>\n",
       "      <td>-2.850697</td>\n",
       "      <td>-0.153398</td>\n",
       "    </tr>\n",
       "    <tr>\n",
       "      <th>2</th>\n",
       "      <td>-2.589296</td>\n",
       "      <td>-0.040405</td>\n",
       "      <td>0.997719</td>\n",
       "    </tr>\n",
       "    <tr>\n",
       "      <th>3</th>\n",
       "      <td>0.724751</td>\n",
       "      <td>1.090927</td>\n",
       "      <td>0.409483</td>\n",
       "    </tr>\n",
       "    <tr>\n",
       "      <th>4</th>\n",
       "      <td>0.379047</td>\n",
       "      <td>0.764346</td>\n",
       "      <td>-0.000191</td>\n",
       "    </tr>\n",
       "    <tr>\n",
       "      <th>5</th>\n",
       "      <td>1.121183</td>\n",
       "      <td>1.043433</td>\n",
       "      <td>-0.161169</td>\n",
       "    </tr>\n",
       "    <tr>\n",
       "      <th>6</th>\n",
       "      <td>-0.613660</td>\n",
       "      <td>-1.545110</td>\n",
       "      <td>-0.215253</td>\n",
       "    </tr>\n",
       "  </tbody>\n",
       "</table>\n",
       "</div>"
      ],
      "text/plain": [
       "          A         B         C\n",
       "0 -0.919972 -0.684530  0.082221\n",
       "1 -1.272188 -2.850697 -0.153398\n",
       "2 -2.589296 -0.040405  0.997719\n",
       "3  0.724751  1.090927  0.409483\n",
       "4  0.379047  0.764346 -0.000191\n",
       "5  1.121183  1.043433 -0.161169\n",
       "6 -0.613660 -1.545110 -0.215253"
      ]
     },
     "execution_count": 80,
     "metadata": {},
     "output_type": "execute_result"
    }
   ],
   "source": [
    "data_frame"
   ]
  },
  {
   "cell_type": "markdown",
   "metadata": {},
   "source": [
    "Si quieres saber mas detalles de lo que la función random.randn de numpy hace, puedes checar esta [página](http://docs.scipy.org/doc/numpy-1.10.1/reference/generated/numpy.random.randn.html)\n",
    "\n",
    "Así de simple se puede generar un data frame, pero también podemos hacerlo con diccionarios..."
   ]
  },
  {
   "cell_type": "code",
   "execution_count": 81,
   "metadata": {
    "collapsed": true
   },
   "outputs": [],
   "source": [
    "df_diccionario = pd.DataFrame({'A':list(range(5)),\n",
    "                              'B': np.random.random_sample(5),\n",
    "                              'C':'Jueves'})"
   ]
  },
  {
   "cell_type": "code",
   "execution_count": 82,
   "metadata": {
    "collapsed": false
   },
   "outputs": [
    {
     "data": {
      "text/html": [
       "<div>\n",
       "<table border=\"1\" class=\"dataframe\">\n",
       "  <thead>\n",
       "    <tr style=\"text-align: right;\">\n",
       "      <th></th>\n",
       "      <th>A</th>\n",
       "      <th>B</th>\n",
       "      <th>C</th>\n",
       "    </tr>\n",
       "  </thead>\n",
       "  <tbody>\n",
       "    <tr>\n",
       "      <th>0</th>\n",
       "      <td>0</td>\n",
       "      <td>0.429676</td>\n",
       "      <td>Jueves</td>\n",
       "    </tr>\n",
       "    <tr>\n",
       "      <th>1</th>\n",
       "      <td>1</td>\n",
       "      <td>0.700321</td>\n",
       "      <td>Jueves</td>\n",
       "    </tr>\n",
       "    <tr>\n",
       "      <th>2</th>\n",
       "      <td>2</td>\n",
       "      <td>0.383765</td>\n",
       "      <td>Jueves</td>\n",
       "    </tr>\n",
       "    <tr>\n",
       "      <th>3</th>\n",
       "      <td>3</td>\n",
       "      <td>0.069433</td>\n",
       "      <td>Jueves</td>\n",
       "    </tr>\n",
       "    <tr>\n",
       "      <th>4</th>\n",
       "      <td>4</td>\n",
       "      <td>0.938380</td>\n",
       "      <td>Jueves</td>\n",
       "    </tr>\n",
       "  </tbody>\n",
       "</table>\n",
       "</div>"
      ],
      "text/plain": [
       "   A         B       C\n",
       "0  0  0.429676  Jueves\n",
       "1  1  0.700321  Jueves\n",
       "2  2  0.383765  Jueves\n",
       "3  3  0.069433  Jueves\n",
       "4  4  0.938380  Jueves"
      ]
     },
     "execution_count": 82,
     "metadata": {},
     "output_type": "execute_result"
    }
   ],
   "source": [
    "df_diccionario"
   ]
  },
  {
   "cell_type": "markdown",
   "metadata": {},
   "source": [
    "Así de simple es crear un data frame. Ahora veamos lo que todos estaban esperando!! Crear data frames a partir de datos que esten en hojas de excel o en csv o txt. Que justamente son los que se generan en los experimentos que algunas de ustedes lleguen a hacer o que otras personas hagan para que ustedes los analicen.\n",
    "\n",
    "Vamos a ver un ejemplo con un set de datos pequeño."
   ]
  },
  {
   "cell_type": "code",
   "execution_count": 83,
   "metadata": {
    "collapsed": false
   },
   "outputs": [
    {
     "data": {
      "text/html": [
       "<div>\n",
       "<table border=\"1\" class=\"dataframe\">\n",
       "  <thead>\n",
       "    <tr style=\"text-align: right;\">\n",
       "      <th></th>\n",
       "      <th>Sample</th>\n",
       "      <th>12:0</th>\n",
       "      <th>14:0</th>\n",
       "      <th>15:0</th>\n",
       "      <th>16:0</th>\n",
       "      <th>16:1</th>\n",
       "      <th>17:0</th>\n",
       "      <th>17:1</th>\n",
       "      <th>18:0</th>\n",
       "      <th>18:1</th>\n",
       "      <th>...</th>\n",
       "      <th>22:4</th>\n",
       "      <th>22:5 N3</th>\n",
       "      <th>22:5 N6</th>\n",
       "      <th>22:6</th>\n",
       "      <th>23:0</th>\n",
       "      <th>24:0</th>\n",
       "      <th>24:1</th>\n",
       "      <th>26:0</th>\n",
       "      <th>Unnamed: 34</th>\n",
       "      <th>Total</th>\n",
       "    </tr>\n",
       "  </thead>\n",
       "  <tbody>\n",
       "    <tr>\n",
       "      <th>0</th>\n",
       "      <td>C</td>\n",
       "      <td>0.0</td>\n",
       "      <td>152.3</td>\n",
       "      <td>46.6</td>\n",
       "      <td>1136.7</td>\n",
       "      <td>46.0</td>\n",
       "      <td>46.8</td>\n",
       "      <td>11.6</td>\n",
       "      <td>775.8</td>\n",
       "      <td>361.3</td>\n",
       "      <td>...</td>\n",
       "      <td>2.2</td>\n",
       "      <td>0.9</td>\n",
       "      <td>2.2</td>\n",
       "      <td>8.8</td>\n",
       "      <td>0.0</td>\n",
       "      <td>2.5</td>\n",
       "      <td>1.0</td>\n",
       "      <td>1.6</td>\n",
       "      <td>NaN</td>\n",
       "      <td>2766.8</td>\n",
       "    </tr>\n",
       "    <tr>\n",
       "      <th>1</th>\n",
       "      <td>C</td>\n",
       "      <td>0.0</td>\n",
       "      <td>106.2</td>\n",
       "      <td>36.7</td>\n",
       "      <td>839.7</td>\n",
       "      <td>46.6</td>\n",
       "      <td>38.2</td>\n",
       "      <td>9.2</td>\n",
       "      <td>557.7</td>\n",
       "      <td>290.8</td>\n",
       "      <td>...</td>\n",
       "      <td>3.1</td>\n",
       "      <td>1.9</td>\n",
       "      <td>3.1</td>\n",
       "      <td>12.7</td>\n",
       "      <td>0.0</td>\n",
       "      <td>2.4</td>\n",
       "      <td>1.1</td>\n",
       "      <td>0.7</td>\n",
       "      <td>NaN</td>\n",
       "      <td>2097.5</td>\n",
       "    </tr>\n",
       "    <tr>\n",
       "      <th>2</th>\n",
       "      <td>C</td>\n",
       "      <td>0.0</td>\n",
       "      <td>90.6</td>\n",
       "      <td>36.1</td>\n",
       "      <td>811.4</td>\n",
       "      <td>34.0</td>\n",
       "      <td>36.5</td>\n",
       "      <td>8.3</td>\n",
       "      <td>582.6</td>\n",
       "      <td>235.1</td>\n",
       "      <td>...</td>\n",
       "      <td>0.6</td>\n",
       "      <td>1.1</td>\n",
       "      <td>1.2</td>\n",
       "      <td>8.9</td>\n",
       "      <td>0.0</td>\n",
       "      <td>1.2</td>\n",
       "      <td>1.0</td>\n",
       "      <td>1.2</td>\n",
       "      <td>NaN</td>\n",
       "      <td>1954.2</td>\n",
       "    </tr>\n",
       "    <tr>\n",
       "      <th>3</th>\n",
       "      <td>C</td>\n",
       "      <td>0.0</td>\n",
       "      <td>98.4</td>\n",
       "      <td>39.0</td>\n",
       "      <td>770.1</td>\n",
       "      <td>33.0</td>\n",
       "      <td>38.9</td>\n",
       "      <td>8.4</td>\n",
       "      <td>619.5</td>\n",
       "      <td>212.6</td>\n",
       "      <td>...</td>\n",
       "      <td>1.6</td>\n",
       "      <td>1.0</td>\n",
       "      <td>1.0</td>\n",
       "      <td>8.5</td>\n",
       "      <td>0.0</td>\n",
       "      <td>1.5</td>\n",
       "      <td>0.8</td>\n",
       "      <td>1.2</td>\n",
       "      <td>NaN</td>\n",
       "      <td>1937.4</td>\n",
       "    </tr>\n",
       "    <tr>\n",
       "      <th>4</th>\n",
       "      <td>T1</td>\n",
       "      <td>0.0</td>\n",
       "      <td>135.0</td>\n",
       "      <td>46.3</td>\n",
       "      <td>1071.8</td>\n",
       "      <td>53.3</td>\n",
       "      <td>46.3</td>\n",
       "      <td>12.6</td>\n",
       "      <td>683.8</td>\n",
       "      <td>339.2</td>\n",
       "      <td>...</td>\n",
       "      <td>0.6</td>\n",
       "      <td>0.1</td>\n",
       "      <td>1.0</td>\n",
       "      <td>6.8</td>\n",
       "      <td>0.0</td>\n",
       "      <td>1.9</td>\n",
       "      <td>1.2</td>\n",
       "      <td>1.5</td>\n",
       "      <td>NaN</td>\n",
       "      <td>2506.6</td>\n",
       "    </tr>\n",
       "    <tr>\n",
       "      <th>5</th>\n",
       "      <td>T1</td>\n",
       "      <td>0.0</td>\n",
       "      <td>100.1</td>\n",
       "      <td>37.4</td>\n",
       "      <td>1132.0</td>\n",
       "      <td>37.0</td>\n",
       "      <td>39.7</td>\n",
       "      <td>9.5</td>\n",
       "      <td>1010.2</td>\n",
       "      <td>263.6</td>\n",
       "      <td>...</td>\n",
       "      <td>0.9</td>\n",
       "      <td>0.7</td>\n",
       "      <td>1.6</td>\n",
       "      <td>9.2</td>\n",
       "      <td>0.0</td>\n",
       "      <td>1.1</td>\n",
       "      <td>0.8</td>\n",
       "      <td>0.5</td>\n",
       "      <td>NaN</td>\n",
       "      <td>2744.2</td>\n",
       "    </tr>\n",
       "    <tr>\n",
       "      <th>6</th>\n",
       "      <td>T1</td>\n",
       "      <td>0.0</td>\n",
       "      <td>461.7</td>\n",
       "      <td>258.5</td>\n",
       "      <td>1802.0</td>\n",
       "      <td>831.4</td>\n",
       "      <td>96.4</td>\n",
       "      <td>74.4</td>\n",
       "      <td>688.2</td>\n",
       "      <td>704.1</td>\n",
       "      <td>...</td>\n",
       "      <td>1.3</td>\n",
       "      <td>0.0</td>\n",
       "      <td>0.0</td>\n",
       "      <td>6.2</td>\n",
       "      <td>2.6</td>\n",
       "      <td>30.7</td>\n",
       "      <td>1.4</td>\n",
       "      <td>29.8</td>\n",
       "      <td>NaN</td>\n",
       "      <td>5246.3</td>\n",
       "    </tr>\n",
       "    <tr>\n",
       "      <th>7</th>\n",
       "      <td>T2</td>\n",
       "      <td>0.0</td>\n",
       "      <td>182.8</td>\n",
       "      <td>58.1</td>\n",
       "      <td>1507.0</td>\n",
       "      <td>67.0</td>\n",
       "      <td>49.3</td>\n",
       "      <td>17.1</td>\n",
       "      <td>790.8</td>\n",
       "      <td>442.8</td>\n",
       "      <td>...</td>\n",
       "      <td>0.3</td>\n",
       "      <td>0.4</td>\n",
       "      <td>0.8</td>\n",
       "      <td>8.3</td>\n",
       "      <td>0.0</td>\n",
       "      <td>4.7</td>\n",
       "      <td>1.4</td>\n",
       "      <td>1.7</td>\n",
       "      <td>NaN</td>\n",
       "      <td>3236.9</td>\n",
       "    </tr>\n",
       "    <tr>\n",
       "      <th>8</th>\n",
       "      <td>T2</td>\n",
       "      <td>0.0</td>\n",
       "      <td>92.9</td>\n",
       "      <td>36.2</td>\n",
       "      <td>781.8</td>\n",
       "      <td>35.3</td>\n",
       "      <td>34.0</td>\n",
       "      <td>8.3</td>\n",
       "      <td>490.9</td>\n",
       "      <td>236.1</td>\n",
       "      <td>...</td>\n",
       "      <td>0.0</td>\n",
       "      <td>0.3</td>\n",
       "      <td>0.2</td>\n",
       "      <td>7.0</td>\n",
       "      <td>0.0</td>\n",
       "      <td>1.3</td>\n",
       "      <td>0.9</td>\n",
       "      <td>0.3</td>\n",
       "      <td>NaN</td>\n",
       "      <td>1790.4</td>\n",
       "    </tr>\n",
       "    <tr>\n",
       "      <th>9</th>\n",
       "      <td>T2</td>\n",
       "      <td>0.0</td>\n",
       "      <td>77.5</td>\n",
       "      <td>34.1</td>\n",
       "      <td>742.0</td>\n",
       "      <td>36.8</td>\n",
       "      <td>34.3</td>\n",
       "      <td>8.5</td>\n",
       "      <td>571.2</td>\n",
       "      <td>223.6</td>\n",
       "      <td>...</td>\n",
       "      <td>0.1</td>\n",
       "      <td>0.9</td>\n",
       "      <td>0.5</td>\n",
       "      <td>8.2</td>\n",
       "      <td>0.0</td>\n",
       "      <td>1.3</td>\n",
       "      <td>1.0</td>\n",
       "      <td>0.0</td>\n",
       "      <td>NaN</td>\n",
       "      <td>1805.9</td>\n",
       "    </tr>\n",
       "  </tbody>\n",
       "</table>\n",
       "<p>10 rows × 36 columns</p>\n",
       "</div>"
      ],
      "text/plain": [
       "  Sample  12:0   14:0   15:0    16:0   16:1  17:0  17:1    18:0   18:1  \\\n",
       "0      C   0.0  152.3   46.6  1136.7   46.0  46.8  11.6   775.8  361.3   \n",
       "1      C   0.0  106.2   36.7   839.7   46.6  38.2   9.2   557.7  290.8   \n",
       "2      C   0.0   90.6   36.1   811.4   34.0  36.5   8.3   582.6  235.1   \n",
       "3      C   0.0   98.4   39.0   770.1   33.0  38.9   8.4   619.5  212.6   \n",
       "4     T1   0.0  135.0   46.3  1071.8   53.3  46.3  12.6   683.8  339.2   \n",
       "5     T1   0.0  100.1   37.4  1132.0   37.0  39.7   9.5  1010.2  263.6   \n",
       "6     T1   0.0  461.7  258.5  1802.0  831.4  96.4  74.4   688.2  704.1   \n",
       "7     T2   0.0  182.8   58.1  1507.0   67.0  49.3  17.1   790.8  442.8   \n",
       "8     T2   0.0   92.9   36.2   781.8   35.3  34.0   8.3   490.9  236.1   \n",
       "9     T2   0.0   77.5   34.1   742.0   36.8  34.3   8.5   571.2  223.6   \n",
       "\n",
       "    ...    22:4  22:5 N3  22:5 N6  22:6  23:0  24:0  24:1  26:0  Unnamed: 34  \\\n",
       "0   ...     2.2      0.9      2.2   8.8   0.0   2.5   1.0   1.6          NaN   \n",
       "1   ...     3.1      1.9      3.1  12.7   0.0   2.4   1.1   0.7          NaN   \n",
       "2   ...     0.6      1.1      1.2   8.9   0.0   1.2   1.0   1.2          NaN   \n",
       "3   ...     1.6      1.0      1.0   8.5   0.0   1.5   0.8   1.2          NaN   \n",
       "4   ...     0.6      0.1      1.0   6.8   0.0   1.9   1.2   1.5          NaN   \n",
       "5   ...     0.9      0.7      1.6   9.2   0.0   1.1   0.8   0.5          NaN   \n",
       "6   ...     1.3      0.0      0.0   6.2   2.6  30.7   1.4  29.8          NaN   \n",
       "7   ...     0.3      0.4      0.8   8.3   0.0   4.7   1.4   1.7          NaN   \n",
       "8   ...     0.0      0.3      0.2   7.0   0.0   1.3   0.9   0.3          NaN   \n",
       "9   ...     0.1      0.9      0.5   8.2   0.0   1.3   1.0   0.0          NaN   \n",
       "\n",
       "    Total  \n",
       "0  2766.8  \n",
       "1  2097.5  \n",
       "2  1954.2  \n",
       "3  1937.4  \n",
       "4  2506.6  \n",
       "5  2744.2  \n",
       "6  5246.3  \n",
       "7  3236.9  \n",
       "8  1790.4  \n",
       "9  1805.9  \n",
       "\n",
       "[10 rows x 36 columns]"
      ]
     },
     "execution_count": 83,
     "metadata": {},
     "output_type": "execute_result"
    }
   ],
   "source": [
    "mi_df = pd.read_csv('FreeFattyAcids.csv', header=0)\n",
    "mi_df"
   ]
  },
  {
   "cell_type": "markdown",
   "metadata": {},
   "source": [
    "Este set de datos es de un perfil lipídico obtenido con espectrometría de masas. Son tres condiciones, una control y dos tratamientos, para cada una de ellas se puede ver la concentración de ácidos grasos de cadenas de 12 hasta 26 carbonos. \n",
    "\n",
    "Por suerte este data frame es pequeño y podemos visualizar casi todo, pero imaginemos que tenemos 1000000 de columnas, en realidad no necesitamos verlo todo, pero queremos saber más o menos como está organizado nuestro data frame. Para esto podemos acceder a un método de mi_df para ver nada más la \"cabeza\" (o la \"cola\") de nuestros datos.\n"
   ]
  },
  {
   "cell_type": "code",
   "execution_count": 84,
   "metadata": {
    "collapsed": false
   },
   "outputs": [
    {
     "data": {
      "text/html": [
       "<div>\n",
       "<table border=\"1\" class=\"dataframe\">\n",
       "  <thead>\n",
       "    <tr style=\"text-align: right;\">\n",
       "      <th></th>\n",
       "      <th>Sample</th>\n",
       "      <th>12:0</th>\n",
       "      <th>14:0</th>\n",
       "      <th>15:0</th>\n",
       "      <th>16:0</th>\n",
       "      <th>16:1</th>\n",
       "      <th>17:0</th>\n",
       "      <th>17:1</th>\n",
       "      <th>18:0</th>\n",
       "      <th>18:1</th>\n",
       "      <th>...</th>\n",
       "      <th>22:4</th>\n",
       "      <th>22:5 N3</th>\n",
       "      <th>22:5 N6</th>\n",
       "      <th>22:6</th>\n",
       "      <th>23:0</th>\n",
       "      <th>24:0</th>\n",
       "      <th>24:1</th>\n",
       "      <th>26:0</th>\n",
       "      <th>Unnamed: 34</th>\n",
       "      <th>Total</th>\n",
       "    </tr>\n",
       "  </thead>\n",
       "  <tbody>\n",
       "    <tr>\n",
       "      <th>0</th>\n",
       "      <td>C</td>\n",
       "      <td>0.0</td>\n",
       "      <td>152.3</td>\n",
       "      <td>46.6</td>\n",
       "      <td>1136.7</td>\n",
       "      <td>46.0</td>\n",
       "      <td>46.8</td>\n",
       "      <td>11.6</td>\n",
       "      <td>775.8</td>\n",
       "      <td>361.3</td>\n",
       "      <td>...</td>\n",
       "      <td>2.2</td>\n",
       "      <td>0.9</td>\n",
       "      <td>2.2</td>\n",
       "      <td>8.8</td>\n",
       "      <td>0.0</td>\n",
       "      <td>2.5</td>\n",
       "      <td>1.0</td>\n",
       "      <td>1.6</td>\n",
       "      <td>NaN</td>\n",
       "      <td>2766.8</td>\n",
       "    </tr>\n",
       "    <tr>\n",
       "      <th>1</th>\n",
       "      <td>C</td>\n",
       "      <td>0.0</td>\n",
       "      <td>106.2</td>\n",
       "      <td>36.7</td>\n",
       "      <td>839.7</td>\n",
       "      <td>46.6</td>\n",
       "      <td>38.2</td>\n",
       "      <td>9.2</td>\n",
       "      <td>557.7</td>\n",
       "      <td>290.8</td>\n",
       "      <td>...</td>\n",
       "      <td>3.1</td>\n",
       "      <td>1.9</td>\n",
       "      <td>3.1</td>\n",
       "      <td>12.7</td>\n",
       "      <td>0.0</td>\n",
       "      <td>2.4</td>\n",
       "      <td>1.1</td>\n",
       "      <td>0.7</td>\n",
       "      <td>NaN</td>\n",
       "      <td>2097.5</td>\n",
       "    </tr>\n",
       "    <tr>\n",
       "      <th>2</th>\n",
       "      <td>C</td>\n",
       "      <td>0.0</td>\n",
       "      <td>90.6</td>\n",
       "      <td>36.1</td>\n",
       "      <td>811.4</td>\n",
       "      <td>34.0</td>\n",
       "      <td>36.5</td>\n",
       "      <td>8.3</td>\n",
       "      <td>582.6</td>\n",
       "      <td>235.1</td>\n",
       "      <td>...</td>\n",
       "      <td>0.6</td>\n",
       "      <td>1.1</td>\n",
       "      <td>1.2</td>\n",
       "      <td>8.9</td>\n",
       "      <td>0.0</td>\n",
       "      <td>1.2</td>\n",
       "      <td>1.0</td>\n",
       "      <td>1.2</td>\n",
       "      <td>NaN</td>\n",
       "      <td>1954.2</td>\n",
       "    </tr>\n",
       "    <tr>\n",
       "      <th>3</th>\n",
       "      <td>C</td>\n",
       "      <td>0.0</td>\n",
       "      <td>98.4</td>\n",
       "      <td>39.0</td>\n",
       "      <td>770.1</td>\n",
       "      <td>33.0</td>\n",
       "      <td>38.9</td>\n",
       "      <td>8.4</td>\n",
       "      <td>619.5</td>\n",
       "      <td>212.6</td>\n",
       "      <td>...</td>\n",
       "      <td>1.6</td>\n",
       "      <td>1.0</td>\n",
       "      <td>1.0</td>\n",
       "      <td>8.5</td>\n",
       "      <td>0.0</td>\n",
       "      <td>1.5</td>\n",
       "      <td>0.8</td>\n",
       "      <td>1.2</td>\n",
       "      <td>NaN</td>\n",
       "      <td>1937.4</td>\n",
       "    </tr>\n",
       "    <tr>\n",
       "      <th>4</th>\n",
       "      <td>T1</td>\n",
       "      <td>0.0</td>\n",
       "      <td>135.0</td>\n",
       "      <td>46.3</td>\n",
       "      <td>1071.8</td>\n",
       "      <td>53.3</td>\n",
       "      <td>46.3</td>\n",
       "      <td>12.6</td>\n",
       "      <td>683.8</td>\n",
       "      <td>339.2</td>\n",
       "      <td>...</td>\n",
       "      <td>0.6</td>\n",
       "      <td>0.1</td>\n",
       "      <td>1.0</td>\n",
       "      <td>6.8</td>\n",
       "      <td>0.0</td>\n",
       "      <td>1.9</td>\n",
       "      <td>1.2</td>\n",
       "      <td>1.5</td>\n",
       "      <td>NaN</td>\n",
       "      <td>2506.6</td>\n",
       "    </tr>\n",
       "  </tbody>\n",
       "</table>\n",
       "<p>5 rows × 36 columns</p>\n",
       "</div>"
      ],
      "text/plain": [
       "  Sample  12:0   14:0  15:0    16:0  16:1  17:0  17:1   18:0   18:1   ...    \\\n",
       "0      C   0.0  152.3  46.6  1136.7  46.0  46.8  11.6  775.8  361.3   ...     \n",
       "1      C   0.0  106.2  36.7   839.7  46.6  38.2   9.2  557.7  290.8   ...     \n",
       "2      C   0.0   90.6  36.1   811.4  34.0  36.5   8.3  582.6  235.1   ...     \n",
       "3      C   0.0   98.4  39.0   770.1  33.0  38.9   8.4  619.5  212.6   ...     \n",
       "4     T1   0.0  135.0  46.3  1071.8  53.3  46.3  12.6  683.8  339.2   ...     \n",
       "\n",
       "   22:4  22:5 N3  22:5 N6  22:6  23:0  24:0  24:1  26:0  Unnamed: 34   Total  \n",
       "0   2.2      0.9      2.2   8.8   0.0   2.5   1.0   1.6          NaN  2766.8  \n",
       "1   3.1      1.9      3.1  12.7   0.0   2.4   1.1   0.7          NaN  2097.5  \n",
       "2   0.6      1.1      1.2   8.9   0.0   1.2   1.0   1.2          NaN  1954.2  \n",
       "3   1.6      1.0      1.0   8.5   0.0   1.5   0.8   1.2          NaN  1937.4  \n",
       "4   0.6      0.1      1.0   6.8   0.0   1.9   1.2   1.5          NaN  2506.6  \n",
       "\n",
       "[5 rows x 36 columns]"
      ]
     },
     "execution_count": 84,
     "metadata": {},
     "output_type": "execute_result"
    }
   ],
   "source": [
    "mi_df.head()"
   ]
  },
  {
   "cell_type": "code",
   "execution_count": 85,
   "metadata": {
    "collapsed": false
   },
   "outputs": [
    {
     "data": {
      "text/html": [
       "<div>\n",
       "<table border=\"1\" class=\"dataframe\">\n",
       "  <thead>\n",
       "    <tr style=\"text-align: right;\">\n",
       "      <th></th>\n",
       "      <th>Sample</th>\n",
       "      <th>12:0</th>\n",
       "      <th>14:0</th>\n",
       "      <th>15:0</th>\n",
       "      <th>16:0</th>\n",
       "      <th>16:1</th>\n",
       "      <th>17:0</th>\n",
       "      <th>17:1</th>\n",
       "      <th>18:0</th>\n",
       "      <th>18:1</th>\n",
       "      <th>...</th>\n",
       "      <th>22:4</th>\n",
       "      <th>22:5 N3</th>\n",
       "      <th>22:5 N6</th>\n",
       "      <th>22:6</th>\n",
       "      <th>23:0</th>\n",
       "      <th>24:0</th>\n",
       "      <th>24:1</th>\n",
       "      <th>26:0</th>\n",
       "      <th>Unnamed: 34</th>\n",
       "      <th>Total</th>\n",
       "    </tr>\n",
       "  </thead>\n",
       "  <tbody>\n",
       "    <tr>\n",
       "      <th>0</th>\n",
       "      <td>C</td>\n",
       "      <td>0.0</td>\n",
       "      <td>152.3</td>\n",
       "      <td>46.6</td>\n",
       "      <td>1136.7</td>\n",
       "      <td>46.0</td>\n",
       "      <td>46.8</td>\n",
       "      <td>11.6</td>\n",
       "      <td>775.8</td>\n",
       "      <td>361.3</td>\n",
       "      <td>...</td>\n",
       "      <td>2.2</td>\n",
       "      <td>0.9</td>\n",
       "      <td>2.2</td>\n",
       "      <td>8.8</td>\n",
       "      <td>0.0</td>\n",
       "      <td>2.5</td>\n",
       "      <td>1.0</td>\n",
       "      <td>1.6</td>\n",
       "      <td>NaN</td>\n",
       "      <td>2766.8</td>\n",
       "    </tr>\n",
       "    <tr>\n",
       "      <th>1</th>\n",
       "      <td>C</td>\n",
       "      <td>0.0</td>\n",
       "      <td>106.2</td>\n",
       "      <td>36.7</td>\n",
       "      <td>839.7</td>\n",
       "      <td>46.6</td>\n",
       "      <td>38.2</td>\n",
       "      <td>9.2</td>\n",
       "      <td>557.7</td>\n",
       "      <td>290.8</td>\n",
       "      <td>...</td>\n",
       "      <td>3.1</td>\n",
       "      <td>1.9</td>\n",
       "      <td>3.1</td>\n",
       "      <td>12.7</td>\n",
       "      <td>0.0</td>\n",
       "      <td>2.4</td>\n",
       "      <td>1.1</td>\n",
       "      <td>0.7</td>\n",
       "      <td>NaN</td>\n",
       "      <td>2097.5</td>\n",
       "    </tr>\n",
       "    <tr>\n",
       "      <th>2</th>\n",
       "      <td>C</td>\n",
       "      <td>0.0</td>\n",
       "      <td>90.6</td>\n",
       "      <td>36.1</td>\n",
       "      <td>811.4</td>\n",
       "      <td>34.0</td>\n",
       "      <td>36.5</td>\n",
       "      <td>8.3</td>\n",
       "      <td>582.6</td>\n",
       "      <td>235.1</td>\n",
       "      <td>...</td>\n",
       "      <td>0.6</td>\n",
       "      <td>1.1</td>\n",
       "      <td>1.2</td>\n",
       "      <td>8.9</td>\n",
       "      <td>0.0</td>\n",
       "      <td>1.2</td>\n",
       "      <td>1.0</td>\n",
       "      <td>1.2</td>\n",
       "      <td>NaN</td>\n",
       "      <td>1954.2</td>\n",
       "    </tr>\n",
       "  </tbody>\n",
       "</table>\n",
       "<p>3 rows × 36 columns</p>\n",
       "</div>"
      ],
      "text/plain": [
       "  Sample  12:0   14:0  15:0    16:0  16:1  17:0  17:1   18:0   18:1   ...    \\\n",
       "0      C   0.0  152.3  46.6  1136.7  46.0  46.8  11.6  775.8  361.3   ...     \n",
       "1      C   0.0  106.2  36.7   839.7  46.6  38.2   9.2  557.7  290.8   ...     \n",
       "2      C   0.0   90.6  36.1   811.4  34.0  36.5   8.3  582.6  235.1   ...     \n",
       "\n",
       "   22:4  22:5 N3  22:5 N6  22:6  23:0  24:0  24:1  26:0  Unnamed: 34   Total  \n",
       "0   2.2      0.9      2.2   8.8   0.0   2.5   1.0   1.6          NaN  2766.8  \n",
       "1   3.1      1.9      3.1  12.7   0.0   2.4   1.1   0.7          NaN  2097.5  \n",
       "2   0.6      1.1      1.2   8.9   0.0   1.2   1.0   1.2          NaN  1954.2  \n",
       "\n",
       "[3 rows x 36 columns]"
      ]
     },
     "execution_count": 85,
     "metadata": {},
     "output_type": "execute_result"
    }
   ],
   "source": [
    "#Por default nos va a mostras las primeras 5 filas después del encabezado,\n",
    "#pero podemos cambiarlo pasando un argumento a head()\n",
    "mi_df.head(3)"
   ]
  },
  {
   "cell_type": "code",
   "execution_count": 86,
   "metadata": {
    "collapsed": false
   },
   "outputs": [
    {
     "data": {
      "text/html": [
       "<div>\n",
       "<table border=\"1\" class=\"dataframe\">\n",
       "  <thead>\n",
       "    <tr style=\"text-align: right;\">\n",
       "      <th></th>\n",
       "      <th>Sample</th>\n",
       "      <th>12:0</th>\n",
       "      <th>14:0</th>\n",
       "      <th>15:0</th>\n",
       "      <th>16:0</th>\n",
       "      <th>16:1</th>\n",
       "      <th>17:0</th>\n",
       "      <th>17:1</th>\n",
       "      <th>18:0</th>\n",
       "      <th>18:1</th>\n",
       "      <th>...</th>\n",
       "      <th>22:4</th>\n",
       "      <th>22:5 N3</th>\n",
       "      <th>22:5 N6</th>\n",
       "      <th>22:6</th>\n",
       "      <th>23:0</th>\n",
       "      <th>24:0</th>\n",
       "      <th>24:1</th>\n",
       "      <th>26:0</th>\n",
       "      <th>Unnamed: 34</th>\n",
       "      <th>Total</th>\n",
       "    </tr>\n",
       "  </thead>\n",
       "  <tbody>\n",
       "    <tr>\n",
       "      <th>7</th>\n",
       "      <td>T2</td>\n",
       "      <td>0.0</td>\n",
       "      <td>182.8</td>\n",
       "      <td>58.1</td>\n",
       "      <td>1507.0</td>\n",
       "      <td>67.0</td>\n",
       "      <td>49.3</td>\n",
       "      <td>17.1</td>\n",
       "      <td>790.8</td>\n",
       "      <td>442.8</td>\n",
       "      <td>...</td>\n",
       "      <td>0.3</td>\n",
       "      <td>0.4</td>\n",
       "      <td>0.8</td>\n",
       "      <td>8.3</td>\n",
       "      <td>0.0</td>\n",
       "      <td>4.7</td>\n",
       "      <td>1.4</td>\n",
       "      <td>1.7</td>\n",
       "      <td>NaN</td>\n",
       "      <td>3236.9</td>\n",
       "    </tr>\n",
       "    <tr>\n",
       "      <th>8</th>\n",
       "      <td>T2</td>\n",
       "      <td>0.0</td>\n",
       "      <td>92.9</td>\n",
       "      <td>36.2</td>\n",
       "      <td>781.8</td>\n",
       "      <td>35.3</td>\n",
       "      <td>34.0</td>\n",
       "      <td>8.3</td>\n",
       "      <td>490.9</td>\n",
       "      <td>236.1</td>\n",
       "      <td>...</td>\n",
       "      <td>0.0</td>\n",
       "      <td>0.3</td>\n",
       "      <td>0.2</td>\n",
       "      <td>7.0</td>\n",
       "      <td>0.0</td>\n",
       "      <td>1.3</td>\n",
       "      <td>0.9</td>\n",
       "      <td>0.3</td>\n",
       "      <td>NaN</td>\n",
       "      <td>1790.4</td>\n",
       "    </tr>\n",
       "    <tr>\n",
       "      <th>9</th>\n",
       "      <td>T2</td>\n",
       "      <td>0.0</td>\n",
       "      <td>77.5</td>\n",
       "      <td>34.1</td>\n",
       "      <td>742.0</td>\n",
       "      <td>36.8</td>\n",
       "      <td>34.3</td>\n",
       "      <td>8.5</td>\n",
       "      <td>571.2</td>\n",
       "      <td>223.6</td>\n",
       "      <td>...</td>\n",
       "      <td>0.1</td>\n",
       "      <td>0.9</td>\n",
       "      <td>0.5</td>\n",
       "      <td>8.2</td>\n",
       "      <td>0.0</td>\n",
       "      <td>1.3</td>\n",
       "      <td>1.0</td>\n",
       "      <td>0.0</td>\n",
       "      <td>NaN</td>\n",
       "      <td>1805.9</td>\n",
       "    </tr>\n",
       "  </tbody>\n",
       "</table>\n",
       "<p>3 rows × 36 columns</p>\n",
       "</div>"
      ],
      "text/plain": [
       "  Sample  12:0   14:0  15:0    16:0  16:1  17:0  17:1   18:0   18:1   ...    \\\n",
       "7     T2   0.0  182.8  58.1  1507.0  67.0  49.3  17.1  790.8  442.8   ...     \n",
       "8     T2   0.0   92.9  36.2   781.8  35.3  34.0   8.3  490.9  236.1   ...     \n",
       "9     T2   0.0   77.5  34.1   742.0  36.8  34.3   8.5  571.2  223.6   ...     \n",
       "\n",
       "   22:4  22:5 N3  22:5 N6  22:6  23:0  24:0  24:1  26:0  Unnamed: 34   Total  \n",
       "7   0.3      0.4      0.8   8.3   0.0   4.7   1.4   1.7          NaN  3236.9  \n",
       "8   0.0      0.3      0.2   7.0   0.0   1.3   0.9   0.3          NaN  1790.4  \n",
       "9   0.1      0.9      0.5   8.2   0.0   1.3   1.0   0.0          NaN  1805.9  \n",
       "\n",
       "[3 rows x 36 columns]"
      ]
     },
     "execution_count": 86,
     "metadata": {},
     "output_type": "execute_result"
    }
   ],
   "source": [
    "#Para ver la \"cola\"\n",
    "mi_df.tail(3)"
   ]
  },
  {
   "cell_type": "markdown",
   "metadata": {},
   "source": [
    "\n",
    "Pero una vez que tenemos los datos ¿qué hacemos con ellos? Pues bien en realidad eso depende mucho de las preguntas que queramos responder empecemos con unas preguntas fáciles.\n",
    "\n",
    "### Pregunta 3\n",
    "\n",
    "Digamos que a mí sólo me interesa saber cómo cambia el total, ¿Cómo puedo hacer que en un data frame sólo me muestre la columna \"Sample\" y la columna \"Total\"?\n",
    "\n",
    "Para responder esta cuestión, necesitamos saber como hacer \"slicing\" de los data frames, esto es, sacar subgrupos de un data frame para analizarlo más fácilmente. Alguien tiene alguna idea que podamos probar??"
   ]
  },
  {
   "cell_type": "code",
   "execution_count": 87,
   "metadata": {
    "collapsed": false
   },
   "outputs": [
    {
     "data": {
      "text/html": [
       "<div>\n",
       "<table border=\"1\" class=\"dataframe\">\n",
       "  <thead>\n",
       "    <tr style=\"text-align: right;\">\n",
       "      <th></th>\n",
       "      <th>Sample</th>\n",
       "      <th>12:0</th>\n",
       "      <th>14:0</th>\n",
       "      <th>15:0</th>\n",
       "      <th>16:0</th>\n",
       "      <th>16:1</th>\n",
       "      <th>17:0</th>\n",
       "      <th>17:1</th>\n",
       "      <th>18:0</th>\n",
       "      <th>18:1</th>\n",
       "      <th>...</th>\n",
       "      <th>22:4</th>\n",
       "      <th>22:5 N3</th>\n",
       "      <th>22:5 N6</th>\n",
       "      <th>22:6</th>\n",
       "      <th>23:0</th>\n",
       "      <th>24:0</th>\n",
       "      <th>24:1</th>\n",
       "      <th>26:0</th>\n",
       "      <th>Unnamed: 34</th>\n",
       "      <th>Total</th>\n",
       "    </tr>\n",
       "  </thead>\n",
       "  <tbody>\n",
       "    <tr>\n",
       "      <th>0</th>\n",
       "      <td>C</td>\n",
       "      <td>0.0</td>\n",
       "      <td>152.3</td>\n",
       "      <td>46.6</td>\n",
       "      <td>1136.7</td>\n",
       "      <td>46.0</td>\n",
       "      <td>46.8</td>\n",
       "      <td>11.6</td>\n",
       "      <td>775.8</td>\n",
       "      <td>361.3</td>\n",
       "      <td>...</td>\n",
       "      <td>2.2</td>\n",
       "      <td>0.9</td>\n",
       "      <td>2.2</td>\n",
       "      <td>8.8</td>\n",
       "      <td>0.0</td>\n",
       "      <td>2.5</td>\n",
       "      <td>1.0</td>\n",
       "      <td>1.6</td>\n",
       "      <td>NaN</td>\n",
       "      <td>2766.8</td>\n",
       "    </tr>\n",
       "    <tr>\n",
       "      <th>1</th>\n",
       "      <td>C</td>\n",
       "      <td>0.0</td>\n",
       "      <td>106.2</td>\n",
       "      <td>36.7</td>\n",
       "      <td>839.7</td>\n",
       "      <td>46.6</td>\n",
       "      <td>38.2</td>\n",
       "      <td>9.2</td>\n",
       "      <td>557.7</td>\n",
       "      <td>290.8</td>\n",
       "      <td>...</td>\n",
       "      <td>3.1</td>\n",
       "      <td>1.9</td>\n",
       "      <td>3.1</td>\n",
       "      <td>12.7</td>\n",
       "      <td>0.0</td>\n",
       "      <td>2.4</td>\n",
       "      <td>1.1</td>\n",
       "      <td>0.7</td>\n",
       "      <td>NaN</td>\n",
       "      <td>2097.5</td>\n",
       "    </tr>\n",
       "    <tr>\n",
       "      <th>2</th>\n",
       "      <td>C</td>\n",
       "      <td>0.0</td>\n",
       "      <td>90.6</td>\n",
       "      <td>36.1</td>\n",
       "      <td>811.4</td>\n",
       "      <td>34.0</td>\n",
       "      <td>36.5</td>\n",
       "      <td>8.3</td>\n",
       "      <td>582.6</td>\n",
       "      <td>235.1</td>\n",
       "      <td>...</td>\n",
       "      <td>0.6</td>\n",
       "      <td>1.1</td>\n",
       "      <td>1.2</td>\n",
       "      <td>8.9</td>\n",
       "      <td>0.0</td>\n",
       "      <td>1.2</td>\n",
       "      <td>1.0</td>\n",
       "      <td>1.2</td>\n",
       "      <td>NaN</td>\n",
       "      <td>1954.2</td>\n",
       "    </tr>\n",
       "    <tr>\n",
       "      <th>3</th>\n",
       "      <td>C</td>\n",
       "      <td>0.0</td>\n",
       "      <td>98.4</td>\n",
       "      <td>39.0</td>\n",
       "      <td>770.1</td>\n",
       "      <td>33.0</td>\n",
       "      <td>38.9</td>\n",
       "      <td>8.4</td>\n",
       "      <td>619.5</td>\n",
       "      <td>212.6</td>\n",
       "      <td>...</td>\n",
       "      <td>1.6</td>\n",
       "      <td>1.0</td>\n",
       "      <td>1.0</td>\n",
       "      <td>8.5</td>\n",
       "      <td>0.0</td>\n",
       "      <td>1.5</td>\n",
       "      <td>0.8</td>\n",
       "      <td>1.2</td>\n",
       "      <td>NaN</td>\n",
       "      <td>1937.4</td>\n",
       "    </tr>\n",
       "    <tr>\n",
       "      <th>4</th>\n",
       "      <td>T1</td>\n",
       "      <td>0.0</td>\n",
       "      <td>135.0</td>\n",
       "      <td>46.3</td>\n",
       "      <td>1071.8</td>\n",
       "      <td>53.3</td>\n",
       "      <td>46.3</td>\n",
       "      <td>12.6</td>\n",
       "      <td>683.8</td>\n",
       "      <td>339.2</td>\n",
       "      <td>...</td>\n",
       "      <td>0.6</td>\n",
       "      <td>0.1</td>\n",
       "      <td>1.0</td>\n",
       "      <td>6.8</td>\n",
       "      <td>0.0</td>\n",
       "      <td>1.9</td>\n",
       "      <td>1.2</td>\n",
       "      <td>1.5</td>\n",
       "      <td>NaN</td>\n",
       "      <td>2506.6</td>\n",
       "    </tr>\n",
       "  </tbody>\n",
       "</table>\n",
       "<p>5 rows × 36 columns</p>\n",
       "</div>"
      ],
      "text/plain": [
       "  Sample  12:0   14:0  15:0    16:0  16:1  17:0  17:1   18:0   18:1   ...    \\\n",
       "0      C   0.0  152.3  46.6  1136.7  46.0  46.8  11.6  775.8  361.3   ...     \n",
       "1      C   0.0  106.2  36.7   839.7  46.6  38.2   9.2  557.7  290.8   ...     \n",
       "2      C   0.0   90.6  36.1   811.4  34.0  36.5   8.3  582.6  235.1   ...     \n",
       "3      C   0.0   98.4  39.0   770.1  33.0  38.9   8.4  619.5  212.6   ...     \n",
       "4     T1   0.0  135.0  46.3  1071.8  53.3  46.3  12.6  683.8  339.2   ...     \n",
       "\n",
       "   22:4  22:5 N3  22:5 N6  22:6  23:0  24:0  24:1  26:0  Unnamed: 34   Total  \n",
       "0   2.2      0.9      2.2   8.8   0.0   2.5   1.0   1.6          NaN  2766.8  \n",
       "1   3.1      1.9      3.1  12.7   0.0   2.4   1.1   0.7          NaN  2097.5  \n",
       "2   0.6      1.1      1.2   8.9   0.0   1.2   1.0   1.2          NaN  1954.2  \n",
       "3   1.6      1.0      1.0   8.5   0.0   1.5   0.8   1.2          NaN  1937.4  \n",
       "4   0.6      0.1      1.0   6.8   0.0   1.9   1.2   1.5          NaN  2506.6  \n",
       "\n",
       "[5 rows x 36 columns]"
      ]
     },
     "execution_count": 87,
     "metadata": {},
     "output_type": "execute_result"
    }
   ],
   "source": [
    "mi_df[0:5]"
   ]
  },
  {
   "cell_type": "markdown",
   "metadata": {},
   "source": [
    "En pandas una de las cosas más confusas (especialmente si tienes tiempo trabajando con numpy) es sacar subgrupos de datos. La forma en la que pandas está diseñado para esto es a través de índices y encabezados."
   ]
  },
  {
   "cell_type": "code",
   "execution_count": 88,
   "metadata": {
    "collapsed": false
   },
   "outputs": [
    {
     "data": {
      "text/plain": [
       "0     C\n",
       "1     C\n",
       "2     C\n",
       "3     C\n",
       "4    T1\n",
       "5    T1\n",
       "6    T1\n",
       "7    T2\n",
       "8    T2\n",
       "9    T2\n",
       "Name: Sample, dtype: object"
      ]
     },
     "execution_count": 88,
     "metadata": {},
     "output_type": "execute_result"
    }
   ],
   "source": [
    "mi_df[\"Sample\"]"
   ]
  },
  {
   "cell_type": "code",
   "execution_count": 89,
   "metadata": {
    "collapsed": false
   },
   "outputs": [
    {
     "data": {
      "text/plain": [
       "0     C\n",
       "1     C\n",
       "2     C\n",
       "3     C\n",
       "4    T1\n",
       "5    T1\n",
       "6    T1\n",
       "7    T2\n",
       "8    T2\n",
       "9    T2\n",
       "Name: Sample, dtype: object"
      ]
     },
     "execution_count": 89,
     "metadata": {},
     "output_type": "execute_result"
    }
   ],
   "source": [
    "#o algo padre que también es posible en pandas es acceder a columnas con puntos\n",
    "mi_df.Sample"
   ]
  },
  {
   "cell_type": "markdown",
   "metadata": {},
   "source": [
    "Pero si queremos seleccionar múltiples columnas separadas podemos hacer lo siguiente"
   ]
  },
  {
   "cell_type": "code",
   "execution_count": 104,
   "metadata": {
    "collapsed": false
   },
   "outputs": [
    {
     "data": {
      "text/plain": [
       "<matplotlib.axes._subplots.AxesSubplot at 0x7fddb4e4b518>"
      ]
     },
     "execution_count": 104,
     "metadata": {},
     "output_type": "execute_result"
    }
   ],
   "source": [
    "mi_df[[\"Sample\",\"16:0\"]][0:4].plot()"
   ]
  },
  {
   "cell_type": "code",
   "execution_count": 105,
   "metadata": {
    "collapsed": true
   },
   "outputs": [],
   "source": [
    "import matplotlib.pyplot as plt"
   ]
  },
  {
   "cell_type": "code",
   "execution_count": null,
   "metadata": {
    "collapsed": true
   },
   "outputs": [],
   "source": []
  },
  {
   "cell_type": "code",
   "execution_count": 92,
   "metadata": {
    "collapsed": false
   },
   "outputs": [
    {
     "data": {
      "text/html": [
       "<div>\n",
       "<table border=\"1\" class=\"dataframe\">\n",
       "  <thead>\n",
       "    <tr style=\"text-align: right;\">\n",
       "      <th></th>\n",
       "      <th>Sample</th>\n",
       "      <th>12:0</th>\n",
       "      <th>14:0</th>\n",
       "      <th>15:0</th>\n",
       "      <th>16:0</th>\n",
       "      <th>16:1</th>\n",
       "      <th>17:0</th>\n",
       "      <th>17:1</th>\n",
       "      <th>18:0</th>\n",
       "      <th>18:1</th>\n",
       "      <th>...</th>\n",
       "      <th>22:4</th>\n",
       "      <th>22:5 N3</th>\n",
       "      <th>22:5 N6</th>\n",
       "      <th>22:6</th>\n",
       "      <th>23:0</th>\n",
       "      <th>24:0</th>\n",
       "      <th>24:1</th>\n",
       "      <th>26:0</th>\n",
       "      <th>Unnamed: 34</th>\n",
       "      <th>Total</th>\n",
       "    </tr>\n",
       "  </thead>\n",
       "  <tbody>\n",
       "    <tr>\n",
       "      <th>0</th>\n",
       "      <td>C</td>\n",
       "      <td>0.0</td>\n",
       "      <td>152.3</td>\n",
       "      <td>46.6</td>\n",
       "      <td>1136.7</td>\n",
       "      <td>46.0</td>\n",
       "      <td>46.8</td>\n",
       "      <td>11.6</td>\n",
       "      <td>775.8</td>\n",
       "      <td>361.3</td>\n",
       "      <td>...</td>\n",
       "      <td>2.2</td>\n",
       "      <td>0.9</td>\n",
       "      <td>2.2</td>\n",
       "      <td>8.8</td>\n",
       "      <td>0.0</td>\n",
       "      <td>2.5</td>\n",
       "      <td>1.0</td>\n",
       "      <td>1.6</td>\n",
       "      <td>NaN</td>\n",
       "      <td>2766.8</td>\n",
       "    </tr>\n",
       "    <tr>\n",
       "      <th>1</th>\n",
       "      <td>C</td>\n",
       "      <td>0.0</td>\n",
       "      <td>106.2</td>\n",
       "      <td>36.7</td>\n",
       "      <td>839.7</td>\n",
       "      <td>46.6</td>\n",
       "      <td>38.2</td>\n",
       "      <td>9.2</td>\n",
       "      <td>557.7</td>\n",
       "      <td>290.8</td>\n",
       "      <td>...</td>\n",
       "      <td>3.1</td>\n",
       "      <td>1.9</td>\n",
       "      <td>3.1</td>\n",
       "      <td>12.7</td>\n",
       "      <td>0.0</td>\n",
       "      <td>2.4</td>\n",
       "      <td>1.1</td>\n",
       "      <td>0.7</td>\n",
       "      <td>NaN</td>\n",
       "      <td>2097.5</td>\n",
       "    </tr>\n",
       "    <tr>\n",
       "      <th>2</th>\n",
       "      <td>C</td>\n",
       "      <td>0.0</td>\n",
       "      <td>90.6</td>\n",
       "      <td>36.1</td>\n",
       "      <td>811.4</td>\n",
       "      <td>34.0</td>\n",
       "      <td>36.5</td>\n",
       "      <td>8.3</td>\n",
       "      <td>582.6</td>\n",
       "      <td>235.1</td>\n",
       "      <td>...</td>\n",
       "      <td>0.6</td>\n",
       "      <td>1.1</td>\n",
       "      <td>1.2</td>\n",
       "      <td>8.9</td>\n",
       "      <td>0.0</td>\n",
       "      <td>1.2</td>\n",
       "      <td>1.0</td>\n",
       "      <td>1.2</td>\n",
       "      <td>NaN</td>\n",
       "      <td>1954.2</td>\n",
       "    </tr>\n",
       "  </tbody>\n",
       "</table>\n",
       "<p>3 rows × 36 columns</p>\n",
       "</div>"
      ],
      "text/plain": [
       "  Sample  12:0   14:0  15:0    16:0  16:1  17:0  17:1   18:0   18:1   ...    \\\n",
       "0      C   0.0  152.3  46.6  1136.7  46.0  46.8  11.6  775.8  361.3   ...     \n",
       "1      C   0.0  106.2  36.7   839.7  46.6  38.2   9.2  557.7  290.8   ...     \n",
       "2      C   0.0   90.6  36.1   811.4  34.0  36.5   8.3  582.6  235.1   ...     \n",
       "\n",
       "   22:4  22:5 N3  22:5 N6  22:6  23:0  24:0  24:1  26:0  Unnamed: 34   Total  \n",
       "0   2.2      0.9      2.2   8.8   0.0   2.5   1.0   1.6          NaN  2766.8  \n",
       "1   3.1      1.9      3.1  12.7   0.0   2.4   1.1   0.7          NaN  2097.5  \n",
       "2   0.6      1.1      1.2   8.9   0.0   1.2   1.0   1.2          NaN  1954.2  \n",
       "\n",
       "[3 rows x 36 columns]"
      ]
     },
     "execution_count": 92,
     "metadata": {},
     "output_type": "execute_result"
    }
   ],
   "source": [
    "mi_df[0:3]"
   ]
  },
  {
   "cell_type": "markdown",
   "metadata": {},
   "source": [
    "### Selección por índice\n",
    "\n",
    "Para seleccionas sólo por índice tenemos que agregar la terminación **.loc** después del nombre de nuestro data frame y luego poner los índices que queramos con los nombres de las columnas que nos interesen.\n",
    "\n",
    "Esta sección es de la documentación de pandas y dice lo siguiente acerca del atributo **.loc**.\n",
    ">Este atributos es el método primario de acceso (a los datos). Los siguientes son inputs válidos:\n",
    "1. Una etiqueta (que es estrictamente de los índices)\n",
    "2. Una lista o arreglo de etiquetas\n",
    "3. Un slice de etiquetas (nota, al contrario de lo que se hace en python, el número inicial y final están incluídos!)\n",
    "4. Un arreglo booleano\n",
    "5. Un \"callable\""
   ]
  },
  {
   "cell_type": "code",
   "execution_count": 103,
   "metadata": {
    "collapsed": false
   },
   "outputs": [
    {
     "data": {
      "text/plain": [
       "0     C\n",
       "1     C\n",
       "2     C\n",
       "3     C\n",
       "4    T1\n",
       "Name: Sample, dtype: object"
      ]
     },
     "execution_count": 103,
     "metadata": {},
     "output_type": "execute_result"
    }
   ],
   "source": [
    "mi_df.loc[0:4,'Sample']"
   ]
  },
  {
   "cell_type": "code",
   "execution_count": 95,
   "metadata": {
    "collapsed": false
   },
   "outputs": [
    {
     "ename": "KeyError",
     "evalue": "'the label [Sample] is not in the [index]'",
     "output_type": "error",
     "traceback": [
      "\u001b[1;31m---------------------------------------------------------------------------\u001b[0m",
      "\u001b[1;31mKeyError\u001b[0m                                  Traceback (most recent call last)",
      "\u001b[1;32m/usr/lib/python3.5/site-packages/pandas/core/indexing.py\u001b[0m in \u001b[0;36m_has_valid_type\u001b[1;34m(self, key, axis)\u001b[0m\n\u001b[0;32m   1394\u001b[0m                 \u001b[1;32mif\u001b[0m \u001b[0mkey\u001b[0m \u001b[1;32mnot\u001b[0m \u001b[1;32min\u001b[0m \u001b[0max\u001b[0m\u001b[1;33m:\u001b[0m\u001b[1;33m\u001b[0m\u001b[0m\n\u001b[1;32m-> 1395\u001b[1;33m                     \u001b[0merror\u001b[0m\u001b[1;33m(\u001b[0m\u001b[1;33m)\u001b[0m\u001b[1;33m\u001b[0m\u001b[0m\n\u001b[0m\u001b[0;32m   1396\u001b[0m             \u001b[1;32mexcept\u001b[0m \u001b[0mTypeError\u001b[0m \u001b[1;32mas\u001b[0m \u001b[0me\u001b[0m\u001b[1;33m:\u001b[0m\u001b[1;33m\u001b[0m\u001b[0m\n",
      "\u001b[1;32m/usr/lib/python3.5/site-packages/pandas/core/indexing.py\u001b[0m in \u001b[0;36merror\u001b[1;34m()\u001b[0m\n\u001b[0;32m   1389\u001b[0m                 raise KeyError(\"the label [%s] is not in the [%s]\" %\n\u001b[1;32m-> 1390\u001b[1;33m                                (key, self.obj._get_axis_name(axis)))\n\u001b[0m\u001b[0;32m   1391\u001b[0m \u001b[1;33m\u001b[0m\u001b[0m\n",
      "\u001b[1;31mKeyError\u001b[0m: 'the label [Sample] is not in the [index]'",
      "\nDuring handling of the above exception, another exception occurred:\n",
      "\u001b[1;31mKeyError\u001b[0m                                  Traceback (most recent call last)",
      "\u001b[1;32m<ipython-input-95-c3505ccf1fcd>\u001b[0m in \u001b[0;36m<module>\u001b[1;34m()\u001b[0m\n\u001b[0;32m      1\u001b[0m \u001b[1;31m#¿qué pasa si sólo pongo el nombre de la columna?\u001b[0m\u001b[1;33m\u001b[0m\u001b[1;33m\u001b[0m\u001b[0m\n\u001b[1;32m----> 2\u001b[1;33m \u001b[0mmi_df\u001b[0m\u001b[1;33m.\u001b[0m\u001b[0mloc\u001b[0m\u001b[1;33m[\u001b[0m\u001b[1;34m'Sample'\u001b[0m\u001b[1;33m]\u001b[0m\u001b[1;33m\u001b[0m\u001b[0m\n\u001b[0m",
      "\u001b[1;32m/usr/lib/python3.5/site-packages/pandas/core/indexing.py\u001b[0m in \u001b[0;36m__getitem__\u001b[1;34m(self, key)\u001b[0m\n\u001b[0;32m   1294\u001b[0m             \u001b[1;32mreturn\u001b[0m \u001b[0mself\u001b[0m\u001b[1;33m.\u001b[0m\u001b[0m_getitem_tuple\u001b[0m\u001b[1;33m(\u001b[0m\u001b[0mkey\u001b[0m\u001b[1;33m)\u001b[0m\u001b[1;33m\u001b[0m\u001b[0m\n\u001b[0;32m   1295\u001b[0m         \u001b[1;32melse\u001b[0m\u001b[1;33m:\u001b[0m\u001b[1;33m\u001b[0m\u001b[0m\n\u001b[1;32m-> 1296\u001b[1;33m             \u001b[1;32mreturn\u001b[0m \u001b[0mself\u001b[0m\u001b[1;33m.\u001b[0m\u001b[0m_getitem_axis\u001b[0m\u001b[1;33m(\u001b[0m\u001b[0mkey\u001b[0m\u001b[1;33m,\u001b[0m \u001b[0maxis\u001b[0m\u001b[1;33m=\u001b[0m\u001b[1;36m0\u001b[0m\u001b[1;33m)\u001b[0m\u001b[1;33m\u001b[0m\u001b[0m\n\u001b[0m\u001b[0;32m   1297\u001b[0m \u001b[1;33m\u001b[0m\u001b[0m\n\u001b[0;32m   1298\u001b[0m     \u001b[1;32mdef\u001b[0m \u001b[0m_getitem_axis\u001b[0m\u001b[1;33m(\u001b[0m\u001b[0mself\u001b[0m\u001b[1;33m,\u001b[0m \u001b[0mkey\u001b[0m\u001b[1;33m,\u001b[0m \u001b[0maxis\u001b[0m\u001b[1;33m=\u001b[0m\u001b[1;36m0\u001b[0m\u001b[1;33m)\u001b[0m\u001b[1;33m:\u001b[0m\u001b[1;33m\u001b[0m\u001b[0m\n",
      "\u001b[1;32m/usr/lib/python3.5/site-packages/pandas/core/indexing.py\u001b[0m in \u001b[0;36m_getitem_axis\u001b[1;34m(self, key, axis)\u001b[0m\n\u001b[0;32m   1464\u001b[0m \u001b[1;33m\u001b[0m\u001b[0m\n\u001b[0;32m   1465\u001b[0m         \u001b[1;31m# fall thru to straight lookup\u001b[0m\u001b[1;33m\u001b[0m\u001b[1;33m\u001b[0m\u001b[0m\n\u001b[1;32m-> 1466\u001b[1;33m         \u001b[0mself\u001b[0m\u001b[1;33m.\u001b[0m\u001b[0m_has_valid_type\u001b[0m\u001b[1;33m(\u001b[0m\u001b[0mkey\u001b[0m\u001b[1;33m,\u001b[0m \u001b[0maxis\u001b[0m\u001b[1;33m)\u001b[0m\u001b[1;33m\u001b[0m\u001b[0m\n\u001b[0m\u001b[0;32m   1467\u001b[0m         \u001b[1;32mreturn\u001b[0m \u001b[0mself\u001b[0m\u001b[1;33m.\u001b[0m\u001b[0m_get_label\u001b[0m\u001b[1;33m(\u001b[0m\u001b[0mkey\u001b[0m\u001b[1;33m,\u001b[0m \u001b[0maxis\u001b[0m\u001b[1;33m=\u001b[0m\u001b[0maxis\u001b[0m\u001b[1;33m)\u001b[0m\u001b[1;33m\u001b[0m\u001b[0m\n\u001b[0;32m   1468\u001b[0m \u001b[1;33m\u001b[0m\u001b[0m\n",
      "\u001b[1;32m/usr/lib/python3.5/site-packages/pandas/core/indexing.py\u001b[0m in \u001b[0;36m_has_valid_type\u001b[1;34m(self, key, axis)\u001b[0m\n\u001b[0;32m   1401\u001b[0m                 \u001b[1;32mraise\u001b[0m\u001b[1;33m\u001b[0m\u001b[0m\n\u001b[0;32m   1402\u001b[0m             \u001b[1;32mexcept\u001b[0m\u001b[1;33m:\u001b[0m\u001b[1;33m\u001b[0m\u001b[0m\n\u001b[1;32m-> 1403\u001b[1;33m                 \u001b[0merror\u001b[0m\u001b[1;33m(\u001b[0m\u001b[1;33m)\u001b[0m\u001b[1;33m\u001b[0m\u001b[0m\n\u001b[0m\u001b[0;32m   1404\u001b[0m \u001b[1;33m\u001b[0m\u001b[0m\n\u001b[0;32m   1405\u001b[0m         \u001b[1;32mreturn\u001b[0m \u001b[1;32mTrue\u001b[0m\u001b[1;33m\u001b[0m\u001b[0m\n",
      "\u001b[1;32m/usr/lib/python3.5/site-packages/pandas/core/indexing.py\u001b[0m in \u001b[0;36merror\u001b[1;34m()\u001b[0m\n\u001b[0;32m   1388\u001b[0m                                     \"key\")\n\u001b[0;32m   1389\u001b[0m                 raise KeyError(\"the label [%s] is not in the [%s]\" %\n\u001b[1;32m-> 1390\u001b[1;33m                                (key, self.obj._get_axis_name(axis)))\n\u001b[0m\u001b[0;32m   1391\u001b[0m \u001b[1;33m\u001b[0m\u001b[0m\n\u001b[0;32m   1392\u001b[0m             \u001b[1;32mtry\u001b[0m\u001b[1;33m:\u001b[0m\u001b[1;33m\u001b[0m\u001b[0m\n",
      "\u001b[1;31mKeyError\u001b[0m: 'the label [Sample] is not in the [index]'"
     ]
    }
   ],
   "source": [
    "#¿qué pasa si sólo pongo el nombre de la columna?\n",
    "mi_df.loc['Sample']"
   ]
  },
  {
   "cell_type": "code",
   "execution_count": 98,
   "metadata": {
    "collapsed": false
   },
   "outputs": [
    {
     "data": {
      "text/plain": [
       "0     C\n",
       "1     C\n",
       "2     C\n",
       "3     C\n",
       "4    T1\n",
       "5    T1\n",
       "6    T1\n",
       "7    T2\n",
       "8    T2\n",
       "9    T2\n",
       "Name: Sample, dtype: object"
      ]
     },
     "execution_count": 98,
     "metadata": {},
     "output_type": "execute_result"
    }
   ],
   "source": [
    "mi_df.loc[:, 'Sample']"
   ]
  },
  {
   "cell_type": "code",
   "execution_count": null,
   "metadata": {
    "collapsed": false
   },
   "outputs": [],
   "source": [
    "mi_df.loc[mi_df.Sample=='C']#Esto es un slicing dado un arreglo booleano"
   ]
  },
  {
   "cell_type": "markdown",
   "metadata": {},
   "source": [
    "## Selección por posición.\n",
    "\n",
    "Es la más parecida a como opera numpy, y aquí sólo tienes que darle las posiciones que quieres (en números) de filas y columnas. Para esto usamos el atributo **.iloc** después de nuestro data frame.\n",
    "\n",
    "Aquí los argumentos válidos son los siguientes:\n",
    "\n",
    "1. integer e.g. 5\n",
    "2. Lista o arreglo de enteros [4, 3, 0]\n",
    "3. Un objeto slice con ints 1:7\n",
    "4. Un arreglo booleano\n",
    "5. Un \"callable\""
   ]
  },
  {
   "cell_type": "code",
   "execution_count": null,
   "metadata": {
    "collapsed": false
   },
   "outputs": [],
   "source": [
    "mi_df.iloc[0:3, -1]"
   ]
  },
  {
   "cell_type": "code",
   "execution_count": null,
   "metadata": {
    "collapsed": false
   },
   "outputs": [],
   "source": []
  },
  {
   "cell_type": "markdown",
   "metadata": {},
   "source": [
    "Ahora si hagamos unos ejercicios pa' que amarre"
   ]
  },
  {
   "cell_type": "markdown",
   "metadata": {},
   "source": [
    "### Ejercicio 1\n",
    "\n",
    "Has un df que tenga sólo las columnas Sample y Total"
   ]
  },
  {
   "cell_type": "code",
   "execution_count": null,
   "metadata": {
    "collapsed": true
   },
   "outputs": [],
   "source": []
  },
  {
   "cell_type": "code",
   "execution_count": null,
   "metadata": {
    "collapsed": true
   },
   "outputs": [],
   "source": []
  },
  {
   "cell_type": "markdown",
   "metadata": {},
   "source": [
    "### Ejercicio 2\n",
    "\n",
    "Muestrame que Sample tiene el mayor número de ácidos grasos de cadena 18:0"
   ]
  },
  {
   "cell_type": "code",
   "execution_count": null,
   "metadata": {
    "collapsed": true
   },
   "outputs": [],
   "source": []
  },
  {
   "cell_type": "code",
   "execution_count": null,
   "metadata": {
    "collapsed": true
   },
   "outputs": [],
   "source": []
  },
  {
   "cell_type": "markdown",
   "metadata": {},
   "source": [
    "### Ejercicio 3 \n",
    "\n",
    "Cuáles son los tres samples con mayor número de ácidos grasos libres"
   ]
  },
  {
   "cell_type": "code",
   "execution_count": null,
   "metadata": {
    "collapsed": true
   },
   "outputs": [],
   "source": []
  },
  {
   "cell_type": "code",
   "execution_count": null,
   "metadata": {
    "collapsed": true
   },
   "outputs": [],
   "source": []
  },
  {
   "cell_type": "markdown",
   "metadata": {},
   "source": [
    "Pues esto es todo por hoy, espero que no haya sido tan complicado, podemos seguir aprendiendo de pandas si es que hay interes en el grupo y nos vemos en la siguiente reunión.\n",
    "\n",
    "## Gracias por asistir!!!"
   ]
  },
  {
   "cell_type": "code",
   "execution_count": null,
   "metadata": {
    "collapsed": true
   },
   "outputs": [],
   "source": []
  }
 ],
 "metadata": {
  "kernelspec": {
   "display_name": "Python 3",
   "language": "python",
   "name": "python3"
  },
  "language_info": {
   "codemirror_mode": {
    "name": "ipython",
    "version": 3
   },
   "file_extension": ".py",
   "mimetype": "text/x-python",
   "name": "python",
   "nbconvert_exporter": "python",
   "pygments_lexer": "ipython3",
   "version": "3.5.1"
  }
 },
 "nbformat": 4,
 "nbformat_minor": 0
}
