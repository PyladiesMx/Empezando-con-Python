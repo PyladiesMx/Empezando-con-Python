{
 "cells": [
  {
   "cell_type": "markdown",
   "metadata": {},
   "source": [
    "# Bienvenid@s a Jupyter\n",
    "---\n",
    "Los cuadernos de [**Jupyter**](http://jupyter.org/index.html) son una herramienta interactiva que te permite preparar documentos con código ejecutable, ecuaciones, texto, imágenes, videos, entre otros, que te ayuda a enriquecer o explicar la lógica detallada de tu código. \n",
    "\n",
    "Los cuadernos de jupyter son comúnmente usados en: [ciencia](http://www.nature.com/news/interactive-notebooks-sharing-the-code-1.16261), análisis de datos y educación. Eso no significa que son de uso exclusivo para esos casos, en mi experiencia los cuadernos me han ayudado a organizar mis pensamientos y visualizar mejor los datos que analizo.\n",
    "\n",
    "Tal vez te preguntes ¿qué puede hacer Jupyter por mí? Bueno, aquí hay unas cuántas ventajas de usar Jupyter:\n",
    "\n",
    "- **Trabajar en tu lenguaje preferido.**\n",
    "\n",
    "    - Jupyter tiene soporte para más de 40 lenguajes de programación, incluyendo los que son populares para el análisis de datos como Python (obviamente), R, Julia y Scala. Así que si por algún extraño motivo decides que no te gustó python (lo dudo :P) puedes seguir disfrutando las libretas de jupyter.\n",
    "\n",
    "\n",
    "- __Compartir tus libretas con quien quieras.__\n",
    "\n",
    "    - En donde quieras y como quieras. Esto significa que puedes escribir tareas y reportes en tus libretas y mandarlos a alguien específico o subirlos a tu repositorio de Github y que todo el mundo sepa lo que hiciste. Esto es como reproducibilidad al máximo...\n",
    "\n",
    "\n",
    "- __Convierte tus libretas a archivos de diferentas formatos.__\n",
    "\n",
    "    - Puedes convertir tus libretas a documentos estáticos como HTML, LaTeX, PDF, Markdown, reStructuredText,etc. La documentación está en este [vínculo](http://nbconvert.readthedocs.io/en/latest/) y la forma fácil de hacerlo es:\n",
    "    \n",
    "    \n",
    "        - Click en \"File\"\n",
    "        \n",
    "        - Pon el cursos sobre \"Download as\"\n",
    "        \n",
    "        - Selecciona la opción que prefieras.\n",
    "\n",
    "- __Widgets interactivos__\n",
    "\n",
    "    - Puedes crear salidas con videos, barras para cambiar valores... Exploraremos esto más adelante.\n",
    "    \n",
    "Ahora que ya sabes lo que Jupyter es, vamos a usarlo!!\n"
   ]
  },
  {
   "cell_type": "markdown",
   "metadata": {},
   "source": [
    "## Formato y ejecución de celdas\n",
    "\n",
    "los cuadernos de Jupyter se manejan con celdas y es importante saber que cada celda puede ser de distintos tipos, unas van a ser de código (ya sea python, r, julia o el kernel deseado) y otras de [markdown](https://es.wikipedia.org/wiki/Markdown).\n",
    "\n",
    "Lo primero que vas a hacer es dar click en la celda anterior y en esta para que notes que ambas son celdas de markdown.\n",
    "\n",
    "Puedes notar que hay formas para que en el documento aparezcan enlaces, listas, palabras resaltadas en negritas, encabezados. Aunado a esto puedes insertar fórmulas en LaTex, código en HTML, imágenes, tablas y código no ejecutable pero resaltado con la sintaxis apropiada.\n",
    "\n",
    "### Ejemplos con estilos usados normalmente\n",
    " \n",
    "#### Encabezados\n",
    "\n",
    "Si escribes esto:\n",
    "\n",
    "    # Encabezado 1\n",
    "    ## Encabezado 2\n",
    "    ### Encabezado 3\n",
    "    ... \n",
    "    ###### Encabezado 6\n",
    "\n",
    "Obtienes esto:\n",
    "\n",
    "# Encabezado 1\n",
    "## Encabezado 2\n",
    "### Encabezado 3\n",
    "...\n",
    "###### Encabezado 6\n",
    "\n",
    "#### Modificaciones en las letras\n",
    "\n",
    "Puedes hacer que las letras se vean en negritas, cursivas o tachadas de la siguiente forma:\n",
    "\n",
    "    **Negritas** o __Negritas__\n",
    "    *Cursivas* o _Cursivas_\n",
    "    ~~Tachado~~\n",
    "    \n",
    "**Negrita**, __Negrita__,\n",
    "*Cursiva*, _Cursiva_,\n",
    "~~Tachada~~\n",
    "\n",
    "#### Listas\n",
    "\n",
    "Puedes listar objetos ya sea con puntos o con números de la siguiente forma\n",
    "\n",
    "    - Objeto 1\n",
    "        - Sub objeto\n",
    "        - Otro sub objeto\n",
    "    - Objeto 2\n",
    "    \n",
    "    1. Objeto 1\n",
    "    2. Objeto 2\n",
    "    \n",
    "- Objeto 1\n",
    "    - sub objeto\n",
    "    - otro sub objeto\n",
    "- Objeto 2\n",
    "\n",
    "#### Enlaces a páginas\n",
    "\n",
    "Para insertar enlaces a páginas relevantes puedes hacerlo directamente copiando y pegando el url o puedes hacer que una palabra esté ligada a un vínculo de a siguiente forma\n",
    "\n",
    "    [palabra](dirección)\n",
    "    \n",
    "[Cheatsheet](https://github.com/adam-p/markdown-here/wiki/Markdown-Cheatsheet) de Markdown. En esta página puedes encontrar la forma de hacer muchas cosas más"
   ]
  },
  {
   "cell_type": "markdown",
   "metadata": {},
   "source": [
    "### Ejercicio 1\n",
    "\n",
    "Crea una tabla que tenga como encabezados:\n",
    "\n",
    " 1. Miembro\n",
    " 2. Edad\n",
    " 3. Género\n",
    "\n",
    "De todos los miembros de tu familia"
   ]
  },
  {
   "cell_type": "markdown",
   "metadata": {},
   "source": [
    "Las celdas por default van a estar en modo de código pero puedes cambiarla de dos formas, una en la barra que está llena de íconos hay una parte que dice Code, esta nada más tienes que hacer un click y cambiarlo a Markdown. La seguna es usando el teclado y lo que debes de hacer es seleccionar tu celda, presionar la tecla Esc, presionar la letra m y presionar Enter para empezar a escribir...\n",
    "\n",
    "Una vez que terminaste de escribir, puedes ejecutar cada celda ya sea presionando Shift + Enter o con el boton de \"play\" en la barra de herramientas"
   ]
  },
  {
   "cell_type": "code",
   "execution_count": null,
   "metadata": {
    "collapsed": true
   },
   "outputs": [],
   "source": []
  },
  {
   "cell_type": "markdown",
   "metadata": {},
   "source": [
    "Ya que vimos la parte de Markdown veamos la parte de código.\n",
    "\n",
    "Cada vez que creas una libreta nueva tu puedes decir en qué lenguaje quieres tu kernel, en nuestro caso sólo veremos python 3 porque no hemos instalado ningún otro kernel para jupyter pero si te interesa puedes ver cómo hacerlo [aquí](https://github.com/ipython/ipython/wiki/IPython-kernels-for-other-languages) Así que el código que veremos a continuación es en python.\n"
   ]
  },
  {
   "cell_type": "code",
   "execution_count": null,
   "metadata": {
    "collapsed": false
   },
   "outputs": [],
   "source": [
    "# Lo primero que ejecutarás será 'Hola Jupyter'\n",
    "print('Hola Jupyter')"
   ]
  },
  {
   "cell_type": "markdown",
   "metadata": {},
   "source": [
    "Cada celda la puedes usar para escribir el código que tu quieras y si de repente se te olvida alguna función o tienes duda de si el nombre es correcto IPython es muy amable en ese sentido. \n",
    "\n",
    "Para saber acerca de una función, es decir cuál es su salida o los parámetros que necesita puedes usar el signo de interrogación al final del nombre de la función.\n",
    "\n",
    "### Ejercicio 2\n",
    "En la siguiente celda busca las siguientes funciones: sum, max, round, mean. No olvides ejecutar la celda después de haber escrito las funciones.\n"
   ]
  },
  {
   "cell_type": "code",
   "execution_count": null,
   "metadata": {
    "collapsed": false
   },
   "outputs": [],
   "source": []
  },
  {
   "cell_type": "code",
   "execution_count": null,
   "metadata": {
    "collapsed": true
   },
   "outputs": [],
   "source": []
  },
  {
   "cell_type": "code",
   "execution_count": null,
   "metadata": {
    "collapsed": true
   },
   "outputs": [],
   "source": []
  },
  {
   "cell_type": "code",
   "execution_count": null,
   "metadata": {
    "collapsed": true
   },
   "outputs": [],
   "source": []
  },
  {
   "cell_type": "markdown",
   "metadata": {},
   "source": [
    "Como te pudiste dar cuenta, cuando no encuentra la función te da un error...\n",
    "\n",
    "En IPython, y por lo tanto en Jupyter, hay una utilidad de completar con Tab. Esto quiere decir que si tu empiezas a escribir el nombre de una variable, función o atributo, no tienes que escribirlo todo, puedes empezar con unas cuantas letras y automáticamente (si es lo único que empieza de esa forma) lo va a completar por ti. Todos los flojos y/o olvidadizos amamos esta herramienta. En caso de que haya varias opciones no se va a completar, pero si lo vuelves a oprimir te va a mostrar en la celda todas las opciones que tienes...\n",
    "\n"
   ]
  },
  {
   "cell_type": "code",
   "execution_count": null,
   "metadata": {
    "collapsed": true
   },
   "outputs": [],
   "source": [
    "variable = 50\n",
    "saludo = 'Hola'"
   ]
  },
  {
   "cell_type": "markdown",
   "metadata": {},
   "source": [
    "### Ejercicio 3\n",
    "\n",
    "Empieza a escribir las primeras tres letras de cada elemento de la celda anterior y presiona tab para ver si se puede autocompletar"
   ]
  },
  {
   "cell_type": "code",
   "execution_count": null,
   "metadata": {
    "collapsed": true
   },
   "outputs": [],
   "source": []
  },
  {
   "cell_type": "markdown",
   "metadata": {},
   "source": [
    "También hay funciones mágicas que nos permitirán hacer diversas tareas como mostrar las gráficas que se produzcan en el código dentro de una celda, medir el tiempo de ejecución del código y cambiar del directorio de trabajo, entre otras.\n",
    "\n",
    "para ver qué funciones mágicas hay en Jupyter sólo tienes que escribir\n",
    "\n",
    "```python\n",
    "%magic\n",
    "```\n",
    "\n",
    "Todas las funciones \"mágicas\" empiezan con el signo de porcentaje %"
   ]
  },
  {
   "cell_type": "code",
   "execution_count": null,
   "metadata": {
    "collapsed": true
   },
   "outputs": [],
   "source": []
  },
  {
   "cell_type": "markdown",
   "metadata": {},
   "source": [
    "## Gráficas \n",
    "\n",
    "Ahora veremos unos ejemplos de gráficas y cómo hacerlas interactivas. Estos ejemplos fueron tomados de la libreta para demostración de [nature](http://www.nature.com/news/ipython-interactive-demo-7.21492?article=1.16261)"
   ]
  },
  {
   "cell_type": "code",
   "execution_count": null,
   "metadata": {
    "collapsed": false
   },
   "outputs": [],
   "source": [
    "# Importa matplotlib (paquete para graficar) y numpy (paquete para arreglos).\n",
    "# Fíjate en el la función mágica para que aparezca nuestra gráfica en la celda.\n",
    "%matplotlib inline\n",
    "import matplotlib.pyplot as plt \n",
    "import numpy as np\n",
    "\n",
    "# Crea un arreglo de 30 valores para x que va de 0 a 5. \n",
    "x = np.linspace(0, 5, 30)\n",
    "y = x**2\n",
    "\n",
    "# grafica y versus x\n",
    "fig, ax = plt.subplots(nrows=1, ncols=1)\n",
    "ax.plot(x, y, color='red')\n",
    "ax.set_xlabel('x')\n",
    "ax.set_ylabel('y')\n",
    "ax.set_title('A simple graph of $y=x^2$')"
   ]
  },
  {
   "cell_type": "markdown",
   "metadata": {},
   "source": [
    "La gráfica que estás viendo sigue la siguiente ecuación $$y=x^2$$\n",
    "\n",
    "### Ejercicio 4\n",
    "\n",
    "Edita el código de arriba y vuélvelo a correr pero ahora intenta reemplazar la expresión: \n",
    "`y = x**2` \n",
    "\n",
    "con:\n",
    "`y=np.sin(x)`"
   ]
  },
  {
   "cell_type": "markdown",
   "metadata": {},
   "source": [
    "## Gráficas interactivas"
   ]
  },
  {
   "cell_type": "code",
   "execution_count": null,
   "metadata": {
    "collapsed": false
   },
   "outputs": [],
   "source": [
    "# Importa matplotlib y numpy \n",
    "# con la misma \"magia\".\n",
    "%matplotlib inline\n",
    "import matplotlib.pyplot as plt\n",
    "import numpy as np\n",
    "\n",
    "# Importa la función interactiva de IPython usada\n",
    "# para construir los widgets interactivos\n",
    "from IPython.html.widgets import interact\n",
    "\n",
    "def plot_sine(frequency=4.0, grid_points=12, plot_original=True):\n",
    "    \"\"\"\n",
    "    Grafica muestras discretas de una curva sinoidal en ``[0, 1]``.\n",
    "    \"\"\"\n",
    "    x = np.linspace(0, 1, grid_points + 2)\n",
    "    y = np.sin(2 * frequency * np.pi * x)\n",
    "\n",
    "    xf = np.linspace(0, 1, 1000)\n",
    "    yf = np.sin(2 * frequency * np.pi * xf)\n",
    "\n",
    "    fig, ax = plt.subplots(figsize=(8, 6))\n",
    "    ax.set_xlabel('x')\n",
    "    ax.set_ylabel('signal')\n",
    "    ax.set_title('Aliasing in discretely sampled periodic signal')\n",
    "\n",
    "    if plot_original:\n",
    "        ax.plot(xf, yf, color='red', linestyle='solid', linewidth=2)\n",
    "\n",
    "    ax.plot(x,  y,  marker='o', linewidth=2)\n",
    "\n",
    "# la función interactiva construye automáticamente una interfase de usuario para explorar\n",
    "# la gráfica de la función de seno.\n",
    "interact(plot_sine, frequency=(1.0, 22.0, 0.5), grid_points=(10, 16, 1), plot_original=True)"
   ]
  },
  {
   "cell_type": "markdown",
   "metadata": {},
   "source": [
    "Esto apenas es una probadita de todo lo que se puede hacer con Jupyter y python. Espero que les haya gustado y los exhorto a conocer más acerca de estas funciones.\n",
    "\n",
    "# Gracias por su atención"
   ]
  },
  {
   "cell_type": "code",
   "execution_count": null,
   "metadata": {
    "collapsed": true
   },
   "outputs": [],
   "source": []
  }
 ],
 "metadata": {
  "kernelspec": {
   "display_name": "Python 3",
   "language": "python",
   "name": "python3"
  },
  "language_info": {
   "codemirror_mode": {
    "name": "ipython",
    "version": 3
   },
   "file_extension": ".py",
   "mimetype": "text/x-python",
   "name": "python",
   "nbconvert_exporter": "python",
   "pygments_lexer": "ipython3",
   "version": "3.5.1"
  }
 },
 "nbformat": 4,
 "nbformat_minor": 0
}
