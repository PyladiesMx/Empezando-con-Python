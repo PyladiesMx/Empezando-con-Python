{
 "cells": [
  {
   "cell_type": "markdown",
   "metadata": {},
   "source": [
    "# Análisis de redes en Python  (Networkx)\n",
    "\n",
    "## Bienvenidos :D\n",
    "\n",
    "En esta sesión aprenderemos a utilizar la librería \"Networkx\" (http://networkx.readthedocs.io/en/networkx-1.11/index.html) que es una librería de Python para la creación, manipulación y estudio de la estructura, dinámicas y función de redes complejas.\n",
    "\n",
    "## Que es una red compleja \n",
    "Las redes complejas son conjuntos de muchos nodos conectados que interactúan de alguna forma. A los nodos de una red también se les llama vértices o elementos y los representaremos por los símbolos v1, v2, ..., vN , donde N es el número total de nodos en la red. Si un nodo vi está conectado con otro nodo vj, esta conexión se representa por una pareja ordenada (vi, vj )."
   ]
  },
  {
   "cell_type": "markdown",
   "metadata": {},
   "source": [
    "# Ejemplos de redes\n",
    "\n",
    "## Redes Sociales\n",
    "![imagen](socialnetwork.jpg)\n",
    "\n",
    "## Redes Informaticas\n",
    "![imagen](redinformatica.jpg)\n",
    "\n",
    "\n",
    "## Redes Biológicas\n",
    "\n",
    "![imagen](brainetwork.jpg)\n",
    "![imagen](protein protein interactions.jpg)\n",
    "\n",
    "\n",
    "# etc etc etc\n",
    "\n",
    "![imagen](ejemplosredesNewman.jpg)"
   ]
  },
  {
   "cell_type": "markdown",
   "metadata": {},
   "source": [
    "# Empezamos!\n",
    "\n",
    "## Creemos una gráfica vacía"
   ]
  },
  {
   "cell_type": "code",
   "execution_count": 1,
   "metadata": {
    "collapsed": false
   },
   "outputs": [],
   "source": [
    "%matplotlib inline\n",
    "import networkx as nx\n",
    "import matplotlib.pyplot as gr\n",
    "import scipy as sc"
   ]
  },
  {
   "cell_type": "code",
   "execution_count": 2,
   "metadata": {
    "collapsed": false
   },
   "outputs": [
    {
     "data": {
      "text/plain": [
       "{}"
      ]
     },
     "execution_count": 2,
     "metadata": {},
     "output_type": "execute_result"
    }
   ],
   "source": [
    "G=nx.Graph()\n",
    "G.graph"
   ]
  },
  {
   "cell_type": "markdown",
   "metadata": {},
   "source": [
    "# Ahora le vamos a agregar nodos"
   ]
  },
  {
   "cell_type": "code",
   "execution_count": 3,
   "metadata": {
    "collapsed": false
   },
   "outputs": [
    {
     "data": {
      "text/plain": [
       "{1: {}, 2: {}, 3: {}, 4: {}, 5: {}}"
      ]
     },
     "execution_count": 3,
     "metadata": {},
     "output_type": "execute_result"
    }
   ],
   "source": [
    "\"\"\"\n",
    "    Uno a uno\n",
    "\"\"\"\n",
    "G.add_node(1)  \n",
    "\n",
    "\"\"\"\n",
    "    O en forma de lista\n",
    "\"\"\"\n",
    "\n",
    "G.add_nodes_from([2,3,4,5])\n",
    "\n",
    "G.node"
   ]
  },
  {
   "cell_type": "code",
   "execution_count": 4,
   "metadata": {
    "collapsed": false
   },
   "outputs": [
    {
     "data": {
      "text/plain": [
       "{}"
      ]
     },
     "execution_count": 4,
     "metadata": {},
     "output_type": "execute_result"
    }
   ],
   "source": [
    "G.graph"
   ]
  },
  {
   "cell_type": "markdown",
   "metadata": {},
   "source": [
    "# Borremos los nodos"
   ]
  },
  {
   "cell_type": "code",
   "execution_count": 5,
   "metadata": {
    "collapsed": false
   },
   "outputs": [
    {
     "data": {
      "text/plain": [
       "{1: {}, 2: {}, 4: {}, 5: {}}"
      ]
     },
     "execution_count": 5,
     "metadata": {},
     "output_type": "execute_result"
    }
   ],
   "source": [
    "\"\"\"\n",
    "Uno a uno\n",
    "\"\"\"\n",
    "G.remove_node(3)\n",
    "G.node\n"
   ]
  },
  {
   "cell_type": "code",
   "execution_count": 6,
   "metadata": {
    "collapsed": false
   },
   "outputs": [
    {
     "data": {
      "text/plain": [
       "{}"
      ]
     },
     "execution_count": 6,
     "metadata": {},
     "output_type": "execute_result"
    }
   ],
   "source": [
    "\n",
    "\"\"\"\n",
    "Todos\n",
    "\"\"\"\n",
    "\n",
    "G.clear()\n",
    "G.node"
   ]
  },
  {
   "cell_type": "code",
   "execution_count": 7,
   "metadata": {
    "collapsed": false
   },
   "outputs": [
    {
     "data": {
      "text/plain": [
       "{5: {}, 6: {}, 7: {}, 8: {}, 9: {}, 12: {}}"
      ]
     },
     "execution_count": 7,
     "metadata": {},
     "output_type": "execute_result"
    }
   ],
   "source": [
    "\"\"\"\n",
    "Podemos añadir nodos a partir de una variable\n",
    "\"\"\"\n",
    "\n",
    "H=[5, 6, 7, 8, 9, 12]\n",
    "G.add_nodes_from(H)\n",
    "G.node"
   ]
  },
  {
   "cell_type": "code",
   "execution_count": 8,
   "metadata": {
    "collapsed": false
   },
   "outputs": [
    {
     "data": {
      "text/plain": [
       "{0: {}, 1: {}, 2: {}, 3: {}, 4: {}, 5: {}, 6: {}, 7: {}, 8: {}, 9: {}, 12: {}}"
      ]
     },
     "execution_count": 8,
     "metadata": {},
     "output_type": "execute_result"
    }
   ],
   "source": [
    "H=nx.path_graph(10)\n",
    "G.add_nodes_from(H)\n",
    "G.node\n",
    "#print (H)\n"
   ]
  },
  {
   "cell_type": "code",
   "execution_count": 10,
   "metadata": {
    "collapsed": false
   },
   "outputs": [
    {
     "data": {
      "text/plain": [
       "{'name': 'path_graph(10)'}"
      ]
     },
     "execution_count": 10,
     "metadata": {},
     "output_type": "execute_result"
    }
   ],
   "source": [
    "H.graph"
   ]
  },
  {
   "cell_type": "markdown",
   "metadata": {},
   "source": [
    "## Vamos a darle nombre!\n",
    "\n",
    "Se pueden asignar atributos a la gráfica como a cada uno de sus elementos. Los nodos pueden ser también strings!"
   ]
  },
  {
   "cell_type": "code",
   "execution_count": 11,
   "metadata": {
    "collapsed": false
   },
   "outputs": [
    {
     "data": {
      "text/plain": [
       "{'Name': ['Pyladies'], 'librería': 'Scipy'}"
      ]
     },
     "execution_count": 11,
     "metadata": {},
     "output_type": "execute_result"
    }
   ],
   "source": [
    "GPL=nx.Graph(Name=[\"Pyladies\"], librería= \"Scipy\")\n",
    "GPL.graph"
   ]
  },
  {
   "cell_type": "code",
   "execution_count": 12,
   "metadata": {
    "collapsed": false
   },
   "outputs": [
    {
     "data": {
      "text/plain": [
       "{'Name': ['Pyladies'], 'librería': 'Networkx'}"
      ]
     },
     "execution_count": 12,
     "metadata": {},
     "output_type": "execute_result"
    }
   ],
   "source": [
    "\"\"\"\n",
    "Ahora vamos a editar el atributo\n",
    "\"\"\"\n",
    "\n",
    "GPL.graph['librería']='Networkx'\n",
    "GPL.graph"
   ]
  },
  {
   "cell_type": "code",
   "execution_count": 13,
   "metadata": {
    "collapsed": false
   },
   "outputs": [
    {
     "data": {
      "text/plain": [
       "[('l', {'edad': 30}), ('e', {'edad': 30}), ('Erika', {}), ('A', {'edad': 30})]"
      ]
     },
     "execution_count": 13,
     "metadata": {},
     "output_type": "execute_result"
    }
   ],
   "source": [
    "\"\"\"\n",
    "Empecemos a añadir los nodos\n",
    "\"\"\"\n",
    "\n",
    "GPL.add_node('Erika')\n",
    "\n",
    "GPL.add_nodes_from(\"Ale\", edad = 30 )  # que pasa si hacemos esto???\n",
    "\n",
    "GPL.nodes(data=True)"
   ]
  },
  {
   "cell_type": "markdown",
   "metadata": {},
   "source": [
    "Ups!! ahora hay que borrar esos nodos!.. como lo hacemos??\n",
    "\n",
    "Tip: remove_nodes_from"
   ]
  },
  {
   "cell_type": "code",
   "execution_count": 15,
   "metadata": {
    "collapsed": false
   },
   "outputs": [],
   "source": [
    "GPL.remove_nodes_from(\"Ale\")"
   ]
  },
  {
   "cell_type": "code",
   "execution_count": null,
   "metadata": {
    "collapsed": true
   },
   "outputs": [],
   "source": []
  },
  {
   "cell_type": "code",
   "execution_count": null,
   "metadata": {
    "collapsed": false
   },
   "outputs": [],
   "source": [
    "GPL.remove_nodes_from(['A','l','e'])\n",
    "GPL.node"
   ]
  },
  {
   "cell_type": "code",
   "execution_count": 16,
   "metadata": {
    "collapsed": false
   },
   "outputs": [
    {
     "data": {
      "text/plain": [
       "{'edad': 30}"
      ]
     },
     "execution_count": 16,
     "metadata": {},
     "output_type": "execute_result"
    }
   ],
   "source": [
    "GPL.add_node(\"Ale\", edad = 30 )\n",
    "GPL.node[\"Ale\"]"
   ]
  },
  {
   "cell_type": "code",
   "execution_count": 17,
   "metadata": {
    "collapsed": false
   },
   "outputs": [
    {
     "data": {
      "text/plain": [
       "{'Ale': {'edad': 30, 'entidad': 'IFC'}, 'Erika': {}}"
      ]
     },
     "execution_count": 17,
     "metadata": {},
     "output_type": "execute_result"
    }
   ],
   "source": [
    "GPL.node['Ale']['entidad'] = 'IFC'\n",
    "GPL.node\n"
   ]
  },
  {
   "cell_type": "code",
   "execution_count": 18,
   "metadata": {
    "collapsed": false
   },
   "outputs": [
    {
     "data": {
      "text/plain": [
       "2"
      ]
     },
     "execution_count": 18,
     "metadata": {},
     "output_type": "execute_result"
    }
   ],
   "source": [
    "GPL.number_of_nodes()"
   ]
  },
  {
   "cell_type": "markdown",
   "metadata": {},
   "source": [
    "## Nos faltan más miembros del grupo y sus datos... como lo hacemos?"
   ]
  },
  {
   "cell_type": "code",
   "execution_count": 19,
   "metadata": {
    "collapsed": false
   },
   "outputs": [],
   "source": [
    "names = ['Araceli', 'Erika', 'Desiré', 'Isaac']\n",
    "ages = ['27', '30', 'x', '28']\n",
    "GPL.add_nodes_from(names, edad = ages, entidad = 'UNAM')"
   ]
  },
  {
   "cell_type": "markdown",
   "metadata": {},
   "source": [
    "Ejemplo:"
   ]
  },
  {
   "cell_type": "code",
   "execution_count": 20,
   "metadata": {
    "collapsed": false
   },
   "outputs": [
    {
     "data": {
      "text/plain": [
       "{'Ale': {'edad': 30, 'entidad': 'IFC'},\n",
       " 'Araceli': {'edad': ['27', '30', 'x', '28'], 'entidad': 'UNAM'},\n",
       " 'Desiré': {'edad': ['27', '30', 'x', '28'], 'entidad': 'UNAM'},\n",
       " 'Erika': {'edad': ['27', '30', 'x', '28'], 'entidad': 'UNAM'},\n",
       " 'Isaac': {'edad': ['27', '30', 'x', '28'], 'entidad': 'UNAM'}}"
      ]
     },
     "execution_count": 20,
     "metadata": {},
     "output_type": "execute_result"
    }
   ],
   "source": [
    "GPL.node"
   ]
  },
  {
   "cell_type": "code",
   "execution_count": 21,
   "metadata": {
    "collapsed": false
   },
   "outputs": [],
   "source": [
    "GPL.add_node('Jane Doe', edad = 25, entidad = 'Ciencias')\n"
   ]
  },
  {
   "cell_type": "code",
   "execution_count": 22,
   "metadata": {
    "collapsed": false
   },
   "outputs": [
    {
     "data": {
      "text/plain": [
       "[('Isaac', {'edad': ['27', '30', 'x', '28'], 'entidad': 'UNAM'}),\n",
       " ('Araceli', {'edad': ['27', '30', 'x', '28'], 'entidad': 'UNAM'}),\n",
       " ('Jane Doe', {'edad': 25, 'entidad': 'Ciencias'}),\n",
       " ('Ale', {'edad': 30, 'entidad': 'IFC'}),\n",
       " ('Desiré', {'edad': ['27', '30', 'x', '28'], 'entidad': 'UNAM'}),\n",
       " ('Erika', {'edad': ['27', '30', 'x', '28'], 'entidad': 'UNAM'})]"
      ]
     },
     "execution_count": 22,
     "metadata": {},
     "output_type": "execute_result"
    }
   ],
   "source": [
    "GPL.nodes(data=True)"
   ]
  },
  {
   "cell_type": "markdown",
   "metadata": {},
   "source": [
    "# ahora vamos con los vertices!"
   ]
  },
  {
   "cell_type": "code",
   "execution_count": 23,
   "metadata": {
    "collapsed": false
   },
   "outputs": [
    {
     "data": {
      "text/plain": [
       "{'Ale': {'Erika': {}},\n",
       " 'Araceli': {},\n",
       " 'Desiré': {},\n",
       " 'Erika': {'Ale': {}},\n",
       " 'Isaac': {},\n",
       " 'Jane Doe': {}}"
      ]
     },
     "execution_count": 23,
     "metadata": {},
     "output_type": "execute_result"
    }
   ],
   "source": [
    "GPL.add_edge('Ale','Erika')\n",
    "GPL.edge"
   ]
  },
  {
   "cell_type": "code",
   "execution_count": 24,
   "metadata": {
    "collapsed": false
   },
   "outputs": [
    {
     "data": {
      "text/plain": [
       "{'Ale': {'Erika': {}},\n",
       " 'Araceli': {},\n",
       " 'Desiré': {},\n",
       " 'Erika': {'Ale': {}, 'Jane Doe': {}},\n",
       " 'Isaac': {},\n",
       " 'Jane Doe': {'Erika': {}}}"
      ]
     },
     "execution_count": 24,
     "metadata": {},
     "output_type": "execute_result"
    }
   ],
   "source": [
    "e=('Erika','Jane Doe')\n",
    "GPL.add_edge(*e)\n",
    "GPL.edge"
   ]
  },
  {
   "cell_type": "code",
   "execution_count": 25,
   "metadata": {
    "collapsed": false
   },
   "outputs": [
    {
     "data": {
      "text/plain": [
       "4"
      ]
     },
     "execution_count": 25,
     "metadata": {},
     "output_type": "execute_result"
    }
   ],
   "source": [
    "GPL.add_edges_from([('Isaac','Ale'),('Ale','Marco')])\n",
    "GPL.number_of_edges()\n",
    "# ¿pero que pasó aqui? Marco no estaba incluido en los nodos del grupo Pyladies\n"
   ]
  },
  {
   "cell_type": "code",
   "execution_count": 26,
   "metadata": {
    "collapsed": false
   },
   "outputs": [
    {
     "data": {
      "text/plain": [
       "{'Ale': {'edad': 30, 'entidad': 'IFC'},\n",
       " 'Araceli': {'edad': ['27', '30', 'x', '28'], 'entidad': 'UNAM'},\n",
       " 'Desiré': {'edad': ['27', '30', 'x', '28'], 'entidad': 'UNAM'},\n",
       " 'Erika': {'edad': ['27', '30', 'x', '28'], 'entidad': 'UNAM'},\n",
       " 'Isaac': {'edad': ['27', '30', 'x', '28'], 'entidad': 'UNAM'},\n",
       " 'Jane Doe': {'edad': 25, 'entidad': 'Ciencias'},\n",
       " 'Marco': {}}"
      ]
     },
     "execution_count": 26,
     "metadata": {},
     "output_type": "execute_result"
    }
   ],
   "source": [
    "GPL.node"
   ]
  },
  {
   "cell_type": "markdown",
   "metadata": {},
   "source": [
    "# Edge Attributes\n",
    "Podemos añadir y manipular los atributos de los vertices usando add_edge(), add_edges_from(), subscript notation, or G.edge."
   ]
  },
  {
   "cell_type": "code",
   "execution_count": 27,
   "metadata": {
    "collapsed": false
   },
   "outputs": [
    {
     "data": {
      "text/plain": [
       "{3: {5: {'weight': 8}},\n",
       " 'Isaac': {'Ale': {}},\n",
       " 2: {5: {'weight': 2}},\n",
       " 'Araceli': {},\n",
       " 5: {2: {'weight': 2}, 3: {'weight': 8}},\n",
       " 'Jane Doe': {'Ale': {'color': 'red'}, 'Erika': {'color': 'red'}},\n",
       " 'Ale': {'Erika': {'weight': 3},\n",
       "  'Isaac': {},\n",
       "  'Jane Doe': {'color': 'red'},\n",
       "  'Marco': {'color': 'blue', 'weight': 4}},\n",
       " 'Desiré': {},\n",
       " 'Erika': {'Ale': {'weight': 3},\n",
       "  'Erin': {'weight': 8},\n",
       "  'Jane Doe': {'color': 'red'}},\n",
       " 'Marco': {'Ale': {'color': 'blue', 'weight': 4}},\n",
       " 'Erin': {'Erika': {'weight': 8}}}"
      ]
     },
     "execution_count": 27,
     "metadata": {},
     "output_type": "execute_result"
    }
   ],
   "source": [
    "GPL.add_edge(2,5, weight=2)\n",
    "\n",
    "GPL.add_edges_from([['Erika','Jane Doe'],['Jane Doe','Ale']], color='red')\n",
    "\n",
    "GPL.add_edges_from([('Ale','Marco',{'color':'blue'}), ('Erika','Erin',{'weight':8}), (3,5,{'weight':8})])\n",
    "\n",
    "GPL['Ale']['Erika']['weight'] = 3\n",
    "\n",
    "GPL.edge['Ale']['Marco']['weight'] = 4\n",
    "\n",
    "GPL.edge"
   ]
  },
  {
   "cell_type": "markdown",
   "metadata": {},
   "source": [
    "## ¿Entonces quien quedó con quien?"
   ]
  },
  {
   "cell_type": "code",
   "execution_count": 28,
   "metadata": {
    "collapsed": false
   },
   "outputs": [
    {
     "data": {
      "text/plain": [
       "['Ale', 'Jane Doe', 'Erin']"
      ]
     },
     "execution_count": 28,
     "metadata": {},
     "output_type": "execute_result"
    }
   ],
   "source": [
    "GPL.neighbors('Erika') "
   ]
  },
  {
   "cell_type": "code",
   "execution_count": 29,
   "metadata": {
    "collapsed": false
   },
   "outputs": [
    {
     "data": {
      "text/plain": [
       "3"
      ]
     },
     "execution_count": 29,
     "metadata": {},
     "output_type": "execute_result"
    }
   ],
   "source": [
    "GPL.degree('Erika') "
   ]
  },
  {
   "cell_type": "code",
   "execution_count": null,
   "metadata": {
    "collapsed": false
   },
   "outputs": [],
   "source": []
  },
  {
   "cell_type": "markdown",
   "metadata": {},
   "source": [
    "## ¿Que más le podemos preguntar a nuestra gráfica?"
   ]
  },
  {
   "cell_type": "markdown",
   "metadata": {},
   "source": [
    "1. La distribución de conexiones (o vecinos) P (k): Es la probabilidad de que un nodo escogido al azar tenga k conexiones (o vecinos). (degree distribution)\n",
    "Por ejemplo, en una red de contactos sexuales P (k) es la probabilidad de que una persona escogida al azar en una sociedad haya tenido k parejas sexuales distintas a lo largo de su vida.\n",
    "\n",
    "2. El coeficiente de agrupamiento (C): Es la probabilidad de que dos nodos estén conectados directamente a un tercer nodo, estén conectados entre sí. (clustering coefficient)\n",
    "Por ejemplo, en una red de amistades, es la probabilidad  de que dos de mis amigos sean ellos mismos amigos uno del otro.\n",
    "\n",
    "3. La longitud mínima  entre dos nodos vi y vj: Es el número mínimo de “brincos”que se tienen que dar para llegar de un nodo vi de la red a otro nodo vj de la red. (path lenght)\n",
    "\n",
    "4. La longitud promedio de la red (L): Es el promedio de las longitudes mínimas entre todas las posibles parejas de nodos (vi, vj) de la red.\n",
    "\n",
    "![imagen](redestriatal.jpg)"
   ]
  },
  {
   "cell_type": "markdown",
   "metadata": {},
   "source": [
    "# Algoritmos y funciones\n",
    "\n",
    "http://networkx.readthedocs.io/en/networkx-1.11/reference/algorithms.html\n",
    "\n",
    "http://networkx.readthedocs.io/en/networkx-1.11/reference/functions.html\n",
    "\n",
    "Podemos usar varios algoritmos y funciones que nos dan información acerca de la red, por ejemplo:\n",
    "\n",
    "average_clustering(G, nodes=None, weight=None, count_zeros=True) : Es el coeficiente de agrupamiento.\n",
    "Compute the average clustering coefficient for the graph G.\n",
    "\n",
    "shortest_path_length(G[, source, target, weight]) Encuentra el camino mas corto entre los nodos\t\n",
    "Compute shortest path lengths in the graph.\n",
    "\n",
    "degree_histogram(G)\tReturn a list of the frequency of each degree value.\n",
    "\n",
    "info(G[, n])\tPrint short summary of information for the graph G or the node n.\n",
    "\n",
    "\n",
    "\n",
    "Ejemplos:"
   ]
  },
  {
   "cell_type": "code",
   "execution_count": 30,
   "metadata": {
    "collapsed": false
   },
   "outputs": [
    {
     "data": {
      "text/plain": [
       "'Name: \\nType: Graph\\nNumber of nodes: 11\\nNumber of edges: 8\\nAverage degree:   1.4545'"
      ]
     },
     "execution_count": 30,
     "metadata": {},
     "output_type": "execute_result"
    }
   ],
   "source": [
    "nx.info(GPL)\n",
    "#nx.info(GPL, 'Ale')"
   ]
  },
  {
   "cell_type": "code",
   "execution_count": 31,
   "metadata": {
    "collapsed": false
   },
   "outputs": [
    {
     "data": {
      "text/plain": [
       "{}"
      ]
     },
     "execution_count": 31,
     "metadata": {},
     "output_type": "execute_result"
    }
   ],
   "source": [
    "nx.get_node_attributes(GPL,'Erika')"
   ]
  },
  {
   "cell_type": "code",
   "execution_count": 32,
   "metadata": {
    "collapsed": false
   },
   "outputs": [
    {
     "data": {
      "text/plain": [
       "{3: 0.0,\n",
       " 'Jane Doe': 1.0,\n",
       " 2: 0.0,\n",
       " 'Araceli': 0.0,\n",
       " 5: 0.0,\n",
       " 'Erika': 0.3333333333333333,\n",
       " 'Isaac': 0.0,\n",
       " 'Ale': 0.16666666666666666,\n",
       " 'Desiré': 0.0,\n",
       " 'Marco': 0.0,\n",
       " 'Erin': 0.0}"
      ]
     },
     "execution_count": 32,
     "metadata": {},
     "output_type": "execute_result"
    }
   ],
   "source": [
    "nx.clustering(GPL)"
   ]
  },
  {
   "cell_type": "code",
   "execution_count": 33,
   "metadata": {
    "collapsed": false
   },
   "outputs": [
    {
     "data": {
      "text/plain": [
       "{3: 1,\n",
       " 'Jane Doe': 2,\n",
       " 2: 1,\n",
       " 'Araceli': 0,\n",
       " 5: 2,\n",
       " 'Erika': 3,\n",
       " 'Isaac': 1,\n",
       " 'Ale': 4,\n",
       " 'Desiré': 0,\n",
       " 'Marco': 1,\n",
       " 'Erin': 1}"
      ]
     },
     "execution_count": 33,
     "metadata": {},
     "output_type": "execute_result"
    }
   ],
   "source": [
    "nx.degree(GPL)"
   ]
  },
  {
   "cell_type": "code",
   "execution_count": 34,
   "metadata": {
    "collapsed": false
   },
   "outputs": [
    {
     "data": {
      "text/plain": [
       "[2, 5, 2, 1, 1]"
      ]
     },
     "execution_count": 34,
     "metadata": {},
     "output_type": "execute_result"
    }
   ],
   "source": [
    "nx.degree_histogram(GPL)"
   ]
  },
  {
   "cell_type": "markdown",
   "metadata": {},
   "source": [
    "# Podemos usar las funciones y algoritmos dentro de otras funciones"
   ]
  },
  {
   "cell_type": "code",
   "execution_count": null,
   "metadata": {
    "collapsed": false
   },
   "outputs": [],
   "source": [
    "degree=list();\n",
    "clustering=list();\n",
    "\n",
    "for n in sc.arange(len(GPL.node)):   # Some properties of the graph\n",
    "    degree.append(sorted(nx.degree(GPL,[n]).values())) # así nos regresa solo los valores de grado\n",
    "    #degree.append(nx.degree(GPL,[n]))\n",
    "        #así nos regresa los nodos con su correspondiente valor de grado de conectividad\n",
    "    clustering.append(nx.clustering(GPL,[n]))\n",
    "    \n",
    "print(degree)\n",
    "print(clustering)\n",
    "\n",
    "\n",
    "#¿que pasó aqui?... no esta accesando a la informacion de los nodos que son strings y no números... cuidado con eso!\n"
   ]
  },
  {
   "cell_type": "code",
   "execution_count": 38,
   "metadata": {
    "collapsed": false
   },
   "outputs": [
    {
     "data": {
      "text/plain": [
       "[0, 0, 1, 1, 1, 1, 1, 2, 2, 3, 4]"
      ]
     },
     "execution_count": 38,
     "metadata": {},
     "output_type": "execute_result"
    }
   ],
   "source": [
    "sorted(GPL.degree().values())"
   ]
  },
  {
   "cell_type": "code",
   "execution_count": 41,
   "metadata": {
    "collapsed": false
   },
   "outputs": [
    {
     "data": {
      "text/plain": [
       "[0, 0, 1, 1, 1, 1, 1, 2, 2, 3, 4]"
      ]
     },
     "execution_count": 41,
     "metadata": {},
     "output_type": "execute_result"
    }
   ],
   "source": [
    "sorted(nx.degree(GPL).values())"
   ]
  },
  {
   "cell_type": "code",
   "execution_count": null,
   "metadata": {
    "collapsed": true
   },
   "outputs": [],
   "source": []
  },
  {
   "cell_type": "code",
   "execution_count": null,
   "metadata": {
    "collapsed": false
   },
   "outputs": [],
   "source": [
    "G=nx.Graph()\n",
    "e=[('a','b',0.3),('b','c',0.9),('a','c',0.5),('c','d',1.2)]\n",
    "G.add_weighted_edges_from(e)\n",
    "\n",
    "nx.dijkstra_path(G,'a','d') # encuentra el camino mas corto y con mayor peso entre los nodos \n"
   ]
  },
  {
   "cell_type": "markdown",
   "metadata": {},
   "source": [
    "# También podemos generar la matriz adjacente a otros formatos "
   ]
  },
  {
   "cell_type": "markdown",
   "metadata": {},
   "source": [
    "![imagen](matriz adyacente.jpg)"
   ]
  },
  {
   "cell_type": "code",
   "execution_count": null,
   "metadata": {
    "collapsed": false
   },
   "outputs": [],
   "source": [
    "A = nx.to_scipy_sparse_matrix(GPL)\n",
    "print(A.todense())\n"
   ]
  },
  {
   "cell_type": "code",
   "execution_count": null,
   "metadata": {
    "collapsed": false
   },
   "outputs": [],
   "source": [
    "A = nx.to_numpy_matrix(GPL)\n",
    "print(A)"
   ]
  },
  {
   "cell_type": "code",
   "execution_count": null,
   "metadata": {
    "collapsed": false
   },
   "outputs": [],
   "source": [
    "A = nx.to_pandas_dataframe(GPL)\n",
    "print(A)"
   ]
  },
  {
   "cell_type": "markdown",
   "metadata": {},
   "source": [
    "# Tambien podemos importar a partir de varias estructuras de datos\n",
    "\n",
    "Por ejemplo:\n",
    "\n",
    "from_pandas_dataframe(df, source, target, edge_attr=None, create_using=None)"
   ]
  },
  {
   "cell_type": "code",
   "execution_count": 42,
   "metadata": {
    "collapsed": false
   },
   "outputs": [
    {
     "data": {
      "text/html": [
       "<div>\n",
       "<table border=\"1\" class=\"dataframe\">\n",
       "  <thead>\n",
       "    <tr style=\"text-align: right;\">\n",
       "      <th></th>\n",
       "      <th>weight</th>\n",
       "      <th>cost</th>\n",
       "      <th>a</th>\n",
       "      <th>b</th>\n",
       "    </tr>\n",
       "  </thead>\n",
       "  <tbody>\n",
       "    <tr>\n",
       "      <th>0</th>\n",
       "      <td>4</td>\n",
       "      <td>7</td>\n",
       "      <td>A</td>\n",
       "      <td>D</td>\n",
       "    </tr>\n",
       "    <tr>\n",
       "      <th>1</th>\n",
       "      <td>7</td>\n",
       "      <td>1</td>\n",
       "      <td>B</td>\n",
       "      <td>A</td>\n",
       "    </tr>\n",
       "    <tr>\n",
       "      <th>2</th>\n",
       "      <td>9</td>\n",
       "      <td>5</td>\n",
       "      <td>C</td>\n",
       "      <td>E</td>\n",
       "    </tr>\n",
       "  </tbody>\n",
       "</table>\n",
       "</div>"
      ],
      "text/plain": [
       "   weight  cost  a  b\n",
       "0       4     7  A  D\n",
       "1       7     1  B  A\n",
       "2       9     5  C  E"
      ]
     },
     "execution_count": 42,
     "metadata": {},
     "output_type": "execute_result"
    }
   ],
   "source": [
    "import pandas as pd\n",
    "import numpy as np\n",
    "r = np.random.RandomState(seed=5)\n",
    "ints = r.randint(1, 10, size=(3,2))\n",
    "a = ['A', 'B', 'C']\n",
    "b = ['D', 'A', 'E']\n",
    "df = pd.DataFrame(ints, columns=['weight', 'cost'])\n",
    "df['a'] = a\n",
    "df['b'] = b\n",
    "df"
   ]
  },
  {
   "cell_type": "code",
   "execution_count": 43,
   "metadata": {
    "collapsed": false
   },
   "outputs": [
    {
     "data": {
      "text/plain": [
       "'Name: \\nType: Graph\\nNumber of nodes: 5\\nNumber of edges: 3\\nAverage degree:   1.2000'"
      ]
     },
     "execution_count": 43,
     "metadata": {},
     "output_type": "execute_result"
    }
   ],
   "source": [
    "G=nx.from_pandas_dataframe(df, 'a', 'b', ['weight', 'cost'])\n",
    "nx.info(G)"
   ]
  },
  {
   "cell_type": "code",
   "execution_count": 44,
   "metadata": {
    "collapsed": false
   },
   "outputs": [
    {
     "data": {
      "text/plain": [
       "5"
      ]
     },
     "execution_count": 44,
     "metadata": {},
     "output_type": "execute_result"
    }
   ],
   "source": [
    "G['E']['C']['cost']"
   ]
  },
  {
   "cell_type": "code",
   "execution_count": null,
   "metadata": {
    "collapsed": true
   },
   "outputs": [],
   "source": []
  },
  {
   "cell_type": "markdown",
   "metadata": {},
   "source": [
    "# O de diferentes tipos de archivos como por ejemplo \".graphml\" o \".leda\"\n",
    "\n",
    "http://networkx.readthedocs.io/en/networkx-1.11/reference/readwrite.html\n",
    "\n",
    "#El archivo que vamos a usar para el ejemplo contiene información acerca de la conectividad entre las áreas del cerebro de un mono rhesus\n",
    "\n",
    "Archivos como éste los podemos descargar de  http://openconnecto.me/graph-services/download/"
   ]
  },
  {
   "cell_type": "code",
   "execution_count": 45,
   "metadata": {
    "collapsed": false
   },
   "outputs": [
    {
     "data": {
      "text/plain": [
       "'Name: \\nType: DiGraph\\nNumber of nodes: 91\\nNumber of edges: 628\\nAverage in degree:   6.9011\\nAverage out degree:   6.9011'"
      ]
     },
     "execution_count": 45,
     "metadata": {},
     "output_type": "execute_result"
    }
   ],
   "source": [
    "RB=nx.read_leda('rhesus_brain_2.leda')  \n",
    "#RB=nx.read_graphml('rhesus_brain_2.graphml')  \n",
    "nx.info(RB)\n",
    "\n"
   ]
  },
  {
   "cell_type": "code",
   "execution_count": 46,
   "metadata": {
    "collapsed": false
   },
   "outputs": [
    {
     "data": {
      "text/plain": [
       "{'1': {},\n",
       " '10': {},\n",
       " '11': {},\n",
       " '12': {},\n",
       " '13': {},\n",
       " '14': {},\n",
       " '2': {},\n",
       " '23': {},\n",
       " '24a': {},\n",
       " '24b': {},\n",
       " '24c': {},\n",
       " '24d': {},\n",
       " '25': {},\n",
       " '29/30': {},\n",
       " '3': {},\n",
       " '31': {},\n",
       " '32': {},\n",
       " '44': {},\n",
       " '45A': {},\n",
       " '45B': {},\n",
       " '46d': {},\n",
       " '46v': {},\n",
       " '5': {},\n",
       " '7A': {},\n",
       " '7B': {},\n",
       " '7m': {},\n",
       " '7op': {},\n",
       " '8B': {},\n",
       " '8L': {},\n",
       " '8m': {},\n",
       " '8r': {},\n",
       " '9': {},\n",
       " '9/46d': {},\n",
       " '9/46v': {},\n",
       " 'AIP': {},\n",
       " 'CORE': {},\n",
       " 'DP': {},\n",
       " 'ENTORHINAL': {},\n",
       " 'F1': {},\n",
       " 'F2': {},\n",
       " 'F3': {},\n",
       " 'F4': {},\n",
       " 'F5': {},\n",
       " 'F6': {},\n",
       " 'F7': {},\n",
       " 'FST': {},\n",
       " 'Gu': {},\n",
       " 'INSULA': {},\n",
       " 'IPa': {},\n",
       " 'LB': {},\n",
       " 'LIP': {},\n",
       " 'MB': {},\n",
       " 'MIP': {},\n",
       " 'MST': {},\n",
       " 'MT': {},\n",
       " 'OPAI': {},\n",
       " 'OPRO': {},\n",
       " 'PBc': {},\n",
       " 'PBr': {},\n",
       " 'PERIRHINAL': {},\n",
       " 'PGa': {},\n",
       " 'PIP': {},\n",
       " 'PIRIFORM': {},\n",
       " 'Parainsula': {},\n",
       " 'Pro.St.': {},\n",
       " 'ProM': {},\n",
       " 'SII': {},\n",
       " 'STPc': {},\n",
       " 'STPi': {},\n",
       " 'STPr': {},\n",
       " 'SUBICULUM': {},\n",
       " 'TEMPORAL_POLE': {},\n",
       " 'TEO': {},\n",
       " 'TEOm': {},\n",
       " 'TEa/ma': {},\n",
       " 'TEa/mp': {},\n",
       " 'TEad': {},\n",
       " 'TEav': {},\n",
       " 'TEpd': {},\n",
       " 'TEpv': {},\n",
       " 'TH/TF': {},\n",
       " 'TPt': {},\n",
       " 'V1': {},\n",
       " 'V2': {},\n",
       " 'V3': {},\n",
       " 'V3A': {},\n",
       " 'V4': {},\n",
       " 'V4t': {},\n",
       " 'V6': {},\n",
       " 'V6A': {},\n",
       " 'VIP': {}}"
      ]
     },
     "execution_count": 46,
     "metadata": {},
     "output_type": "execute_result"
    }
   ],
   "source": [
    "RB.node"
   ]
  },
  {
   "cell_type": "code",
   "execution_count": 47,
   "metadata": {
    "collapsed": false
   },
   "outputs": [
    {
     "data": {
      "text/plain": [
       "True"
      ]
     },
     "execution_count": 47,
     "metadata": {},
     "output_type": "execute_result"
    }
   ],
   "source": [
    "nx.is_directed(RB)"
   ]
  },
  {
   "cell_type": "code",
   "execution_count": 48,
   "metadata": {
    "collapsed": false
   },
   "outputs": [
    {
     "data": {
      "text/plain": [
       "['7A', 'DP', 'MT', 'V2', '8m', '8L', 'STPc']"
      ]
     },
     "execution_count": 48,
     "metadata": {},
     "output_type": "execute_result"
    }
   ],
   "source": [
    "RB.neighbors('VIP')"
   ]
  },
  {
   "cell_type": "code",
   "execution_count": 49,
   "metadata": {
    "collapsed": false
   },
   "outputs": [
    {
     "data": {
      "text/plain": [
       "{}"
      ]
     },
     "execution_count": 49,
     "metadata": {},
     "output_type": "execute_result"
    }
   ],
   "source": [
    "RB.node['VIP']"
   ]
  },
  {
   "cell_type": "code",
   "execution_count": 50,
   "metadata": {
    "collapsed": false
   },
   "outputs": [
    {
     "data": {
      "text/plain": [
       "{'7A': {'label': ''},\n",
       " '8L': {'label': ''},\n",
       " '8m': {'label': ''},\n",
       " 'DP': {'label': ''},\n",
       " 'MT': {'label': ''},\n",
       " 'STPc': {'label': ''},\n",
       " 'V2': {'label': ''}}"
      ]
     },
     "execution_count": 50,
     "metadata": {},
     "output_type": "execute_result"
    }
   ],
   "source": [
    "RB.edge['VIP']"
   ]
  },
  {
   "cell_type": "code",
   "execution_count": 51,
   "metadata": {
    "collapsed": false
   },
   "outputs": [
    {
     "data": {
      "text/plain": [
       "0.8423566878980892"
      ]
     },
     "execution_count": 51,
     "metadata": {},
     "output_type": "execute_result"
    }
   ],
   "source": [
    "nx.flow_hierarchy(RB) \n",
    "#Returns the flow hierarchy of a directed network.\n",
    "#Flow hierarchy is defined as the fraction of edges not participating in cycles in a directed graph "
   ]
  },
  {
   "cell_type": "code",
   "execution_count": 52,
   "metadata": {
    "collapsed": false
   },
   "outputs": [
    {
     "data": {
      "text/plain": [
       "[{'7A', '8L', '8m', 'DP', 'MT', 'STPc', 'TEO', 'TEpd', 'V1', 'V2', 'V4'},\n",
       " {'FST'},\n",
       " {'V3A'},\n",
       " {'31'},\n",
       " {'PBr'},\n",
       " {'V6'},\n",
       " {'IPa'},\n",
       " {'F2'},\n",
       " {'24d'},\n",
       " {'29/30'},\n",
       " {'VIP'},\n",
       " {'Parainsula'},\n",
       " {'OPAI'},\n",
       " {'45B'},\n",
       " {'44'},\n",
       " {'TEav'},\n",
       " {'OPRO'},\n",
       " {'46d'},\n",
       " {'MIP'},\n",
       " {'7m'},\n",
       " {'24a'},\n",
       " {'5'},\n",
       " {'Pro.St.'},\n",
       " {'MB'},\n",
       " {'9/46d'},\n",
       " {'TEa/ma'},\n",
       " {'LIP'},\n",
       " {'F3'},\n",
       " {'7op'},\n",
       " {'24b'},\n",
       " {'F1'},\n",
       " {'25'},\n",
       " {'11'},\n",
       " {'PIP'},\n",
       " {'STPr'},\n",
       " {'Gu'},\n",
       " {'9'},\n",
       " {'SUBICULUM'},\n",
       " {'7B'},\n",
       " {'MST'},\n",
       " {'F7'},\n",
       " {'46v'},\n",
       " {'TPt'},\n",
       " {'32'},\n",
       " {'TEad'},\n",
       " {'SII'},\n",
       " {'V3'},\n",
       " {'1'},\n",
       " {'8B'},\n",
       " {'V6A'},\n",
       " {'ProM'},\n",
       " {'ENTORHINAL'},\n",
       " {'12'},\n",
       " {'TEpv'},\n",
       " {'2'},\n",
       " {'14'},\n",
       " {'F5'},\n",
       " {'AIP'},\n",
       " {'3'},\n",
       " {'PGa'},\n",
       " {'STPi'},\n",
       " {'45A'},\n",
       " {'13'},\n",
       " {'24c'},\n",
       " {'TEa/mp'},\n",
       " {'INSULA'},\n",
       " {'TEOm'},\n",
       " {'TEMPORAL_POLE'},\n",
       " {'23'},\n",
       " {'TH/TF'},\n",
       " {'V4t'},\n",
       " {'PIRIFORM'},\n",
       " {'LB'},\n",
       " {'PERIRHINAL'},\n",
       " {'9/46v'},\n",
       " {'8r'},\n",
       " {'CORE'},\n",
       " {'PBc'},\n",
       " {'F4'},\n",
       " {'10'},\n",
       " {'F6'}]"
      ]
     },
     "execution_count": 52,
     "metadata": {},
     "output_type": "execute_result"
    }
   ],
   "source": [
    "largest_sc = sorted(nx.strongly_connected_components(RB))\n",
    "#largest_sc = max(nx.strongly_connected_components(RB))\n",
    "largest_sc"
   ]
  },
  {
   "cell_type": "code",
   "execution_count": 53,
   "metadata": {
    "collapsed": false
   },
   "outputs": [
    {
     "data": {
      "text/plain": [
       "[{'7A', '8L', '8m', 'DP', 'MT', 'STPc', 'TEO', 'TEpd', 'V1', 'V2', 'V4'}]"
      ]
     },
     "execution_count": 53,
     "metadata": {},
     "output_type": "execute_result"
    }
   ],
   "source": [
    "AttarctComp=sorted(nx.attracting_components(RB))\n",
    "AttarctComp"
   ]
  },
  {
   "cell_type": "code",
   "execution_count": 54,
   "metadata": {
    "collapsed": false
   },
   "outputs": [
    {
     "data": {
      "image/png": "[encoded data removed]",
      "text/plain": [
       "<matplotlib.figure.Figure at 0x7f4b63916630>"
      ]
     },
     "metadata": {},
     "output_type": "display_data"
    }
   ],
   "source": [
    "degree=(nx.degree_histogram(RB))\n",
    "degreeX=(sc.arange(len(degree)))\n",
    "\n",
    "gr.bar(degreeX, degree)\n",
    "gr.title(\"Degree Histogram\")\n",
    "gr.xlabel(\"k\")\n",
    "gr.ylabel(\"Frequency\")\n",
    "\n",
    "fig = gr.gcf()"
   ]
  },
  {
   "cell_type": "code",
   "execution_count": null,
   "metadata": {
    "collapsed": false
   },
   "outputs": [],
   "source": []
  },
  {
   "cell_type": "code",
   "execution_count": 55,
   "metadata": {
    "collapsed": false
   },
   "outputs": [
    {
     "data": {
      "image/png": "[encoded data removed]",
      "text/plain": [
       "<matplotlib.figure.Figure at 0x7f4b6076ff98>"
      ]
     },
     "metadata": {},
     "output_type": "display_data"
    }
   ],
   "source": [
    "degree_sequence=sorted(degree,reverse=True) # degree sequence\n",
    "#print \"Degree sequence\", degree_sequence\n",
    "dmax=max(degree_sequence)\n",
    "\n",
    "gr.loglog(degree_sequence,'b-',marker='o')\n",
    "gr.title(\"Degree rank plot\")\n",
    "gr.ylabel(\"degree\")\n",
    "gr.xlabel(\"rank\")\n",
    "\n",
    "#gr.savefig(\"degree_histogram.png\")\n",
    "gr.show()\n"
   ]
  },
  {
   "cell_type": "markdown",
   "metadata": {},
   "source": [
    "## Ejercicio\n",
    "\n",
    "Ahora podemos practicar leyendo y analizando el archivo:   mixed.species_brain_1.graphml\n",
    "\n",
    "\n",
    "\n",
    "\n"
   ]
  },
  {
   "cell_type": "markdown",
   "metadata": {},
   "source": [
    "# Generadores de gráficas\n",
    "\n",
    "## Para hacer nuestros ejercicios podemos usar generadores de redes que ya tenemos a\n",
    "\n",
    "## disposición en Networkx por ejemplo:\n",
    "\n",
    "barbell_graph(m1, m2[, create_using]) Return the Barbell Graph: two complete graphs connected by a path.\n",
    "\n",
    "complete_graph(n[, create_using]) Return the complete graph K_n with n nodes.\n",
    "\n",
    "complete_multipartite_graph(*block_sizes) Returns the complete multipartite graph with the specified block sizes.\n",
    "\n",
    "dorogovtsev_goltsev_mendes_graph(n[, ...]) Return the hierarchically constructed Dorogovtsev-Goltsev-Mendes graph.\n",
    "\n",
    "grid_graph(dim[, periodic]) Return the n-dimensional grid graph.\n",
    "\n",
    "hypercube_graph(n) Return the n-dimensional hypercube.\n",
    "\n",
    "lollipop_graph(m, n[, create_using]) Return the Lollipop Graph; Km connected to Pm.\n",
    "\n",
    "path_graph(n[, create_using]) Return the Path graph P_n of n nodes linearly connected by n-1 edges.\n",
    "\n",
    "wheel_graph(n[, create_using]) Return the wheel graph: a single hub node connected to each node of the (n-1)-node cycle graph"
   ]
  },
  {
   "cell_type": "code",
   "execution_count": null,
   "metadata": {
    "collapsed": false
   },
   "outputs": [],
   "source": [
    "W=nx.wheel_graph(10)\n",
    "W.edge"
   ]
  },
  {
   "cell_type": "code",
   "execution_count": null,
   "metadata": {
    "collapsed": false
   },
   "outputs": [],
   "source": [
    "G=nx.complete_graph(8)\n",
    "G.edge"
   ]
  },
  {
   "cell_type": "markdown",
   "metadata": {},
   "source": [
    "## Clásicas gráficas pequeñas "
   ]
  },
  {
   "cell_type": "code",
   "execution_count": null,
   "metadata": {
    "collapsed": true
   },
   "outputs": [],
   "source": [
    "petersen=nx.petersen_graph()\n",
    "tutte=nx.tutte_graph()\n",
    "maze=nx.sedgewick_maze_graph()\n",
    "tet=nx.tetrahedral_graph()"
   ]
  },
  {
   "cell_type": "markdown",
   "metadata": {
    "collapsed": false
   },
   "source": [
    "## Generadores de gráficas estocásticas, e.g."
   ]
  },
  {
   "cell_type": "code",
   "execution_count": null,
   "metadata": {
    "collapsed": true
   },
   "outputs": [],
   "source": [
    "er=nx.erdos_renyi_graph(100,0.15)\n",
    "ws=nx.watts_strogatz_graph(30,3,0.1)\n",
    "ba=nx.barabasi_albert_graph(100,5)\n",
    "red=nx.random_lobster(100,0.9,0.9)"
   ]
  },
  {
   "cell_type": "markdown",
   "metadata": {},
   "source": [
    "# Dibujemos la gráfica"
   ]
  },
  {
   "cell_type": "code",
   "execution_count": null,
   "metadata": {
    "collapsed": false
   },
   "outputs": [],
   "source": [
    "ba=nx.barabasi_albert_graph(40,5)\n",
    "nx.draw(ba, node_size=80,node_color=\"blue\", alpha=0.5) \n",
    "#nx.draw_circular(ba, node_size=80,node_color=\"blue\", alpha=0.5) \n",
    "gr.title('Barabasi Albert Graph', fontsize= 18) # Se requiere de matplotlib... aqui esta importada como gr\n",
    "gr.show()"
   ]
  },
  {
   "cell_type": "code",
   "execution_count": 56,
   "metadata": {
    "collapsed": false
   },
   "outputs": [
    {
     "data": {
      "image/png": "[encoded data removed]",
      "text/plain": [
       "<matplotlib.figure.Figure at 0x7f4b60724630>"
      ]
     },
     "metadata": {},
     "output_type": "display_data"
    }
   ],
   "source": [
    "ba=nx.barabasi_albert_graph(40,5)\n",
    "#nx.draw(ba, node_size=80,node_color=\"blue\", alpha=0.5) \n",
    "nx.draw_circular(ba, node_size=80,node_color=\"blue\", alpha=0.5) \n",
    "gr.title('Barabasi Albert Graph', fontsize= 18) # Se requiere de matplotlib... aqui esta importada como gr\n",
    "gr.show()"
   ]
  },
  {
   "cell_type": "code",
   "execution_count": null,
   "metadata": {
    "collapsed": false
   },
   "outputs": [],
   "source": [
    "nx.average_shortest_path_length(ba)"
   ]
  },
  {
   "cell_type": "code",
   "execution_count": 57,
   "metadata": {
    "collapsed": false
   },
   "outputs": [
    {
     "data": {
      "text/plain": [
       "<generator object Graph.degree_iter at 0x7f4b6054f258>"
      ]
     },
     "execution_count": 57,
     "metadata": {},
     "output_type": "execute_result"
    }
   ],
   "source": []
  },
  {
   "cell_type": "code",
   "execution_count": null,
   "metadata": {
    "collapsed": false
   },
   "outputs": [],
   "source": [
    "nx.draw(ws, node_size=80,node_color=\"blue\", alpha=0.5)  \n",
    "gr.title('Watts Strogatz Grap', fontsize= 18) # Se requiere de matplotlib... aqui esta importada como gr\n",
    "gr.show()"
   ]
  },
  {
   "cell_type": "code",
   "execution_count": null,
   "metadata": {
    "collapsed": false
   },
   "outputs": [],
   "source": [
    "nx.average_shortest_path_length(ws)"
   ]
  },
  {
   "cell_type": "markdown",
   "metadata": {},
   "source": [
    "# A dibujar!!!\n",
    "\n",
    "Ahora elijan una gráfica de las que generamos anteriormente y muestrenla a los demás"
   ]
  },
  {
   "cell_type": "code",
   "execution_count": null,
   "metadata": {
    "collapsed": true
   },
   "outputs": [],
   "source": []
  },
  {
   "cell_type": "code",
   "execution_count": null,
   "metadata": {
    "collapsed": true
   },
   "outputs": [],
   "source": []
  },
  {
   "cell_type": "code",
   "execution_count": null,
   "metadata": {
    "collapsed": false
   },
   "outputs": [],
   "source": [
    "nx.draw(W, node_size=50,node_color=\"green\", alpha=0.5) \n",
    "gr.title('Wheel graph', fontsize= 18) \n",
    "gr.show()"
   ]
  },
  {
   "cell_type": "code",
   "execution_count": null,
   "metadata": {
    "collapsed": false
   },
   "outputs": [],
   "source": [
    "nx.average_shortest_path_length(W)"
   ]
  },
  {
   "cell_type": "code",
   "execution_count": null,
   "metadata": {
    "collapsed": false
   },
   "outputs": [],
   "source": [
    "Hyp=nx.hypercube_graph(6)\n",
    "nx.draw(Hyp, node_size=50,node_color=\"orange\", alpha=0.5) \n",
    "gr.title('Otra gráfica', fontsize= 18) \n",
    "gr.show()"
   ]
  },
  {
   "cell_type": "code",
   "execution_count": null,
   "metadata": {
    "collapsed": true
   },
   "outputs": [],
   "source": []
  },
  {
   "cell_type": "code",
   "execution_count": null,
   "metadata": {
    "collapsed": false
   },
   "outputs": [],
   "source": [
    "lollipop=nx.lollipop_graph(10,20)\n",
    "nx.draw(lollipop, node_size=50,node_color=\"orange\", alpha=0.5) \n",
    "gr.title('Otra gráfica', fontsize= 18) \n",
    "gr.show()"
   ]
  },
  {
   "cell_type": "code",
   "execution_count": null,
   "metadata": {
    "collapsed": false
   },
   "outputs": [],
   "source": [
    "nx.average_shortest_path_length(lollipop)"
   ]
  },
  {
   "cell_type": "code",
   "execution_count": null,
   "metadata": {
    "collapsed": false
   },
   "outputs": [],
   "source": [
    "nx.draw(GPL, node_size=100, node_color=\"pink\", alpha=0.5) \n",
    "gr.title('Pyladies graph', fontsize= 18) \n",
    "gr.show()"
   ]
  },
  {
   "cell_type": "code",
   "execution_count": null,
   "metadata": {
    "collapsed": false
   },
   "outputs": [],
   "source": [
    "nx.average_shortest_path_length(GPL)"
   ]
  },
  {
   "cell_type": "code",
   "execution_count": null,
   "metadata": {
    "collapsed": false
   },
   "outputs": [],
   "source": [
    "nx.draw_random(RB, node_size=100, node_color=\"RED\", alpha=0.5) \n",
    "gr.title('RHESUS BRAIN graph', fontsize= 18) \n",
    "gr.show()"
   ]
  },
  {
   "cell_type": "code",
   "execution_count": null,
   "metadata": {
    "collapsed": false
   },
   "outputs": [],
   "source": [
    "nx.average_shortest_path_length(RB)"
   ]
  },
  {
   "cell_type": "code",
   "execution_count": null,
   "metadata": {
    "collapsed": false
   },
   "outputs": [],
   "source": []
  },
  {
   "cell_type": "code",
   "execution_count": null,
   "metadata": {
    "collapsed": true
   },
   "outputs": [],
   "source": []
  },
  {
   "cell_type": "code",
   "execution_count": null,
   "metadata": {
    "collapsed": true
   },
   "outputs": [],
   "source": []
  }
 ],
 "metadata": {
  "anaconda-cloud": {},
  "kernelspec": {
   "display_name": "Python 3",
   "language": "python",
   "name": "python3"
  },
  "language_info": {
   "codemirror_mode": {
    "name": "ipython",
    "version": 3
   },
   "file_extension": ".py",
   "mimetype": "text/x-python",
   "name": "python",
   "nbconvert_exporter": "python",
   "pygments_lexer": "ipython3",
   "version": "3.5.2"
  }
 },
 "nbformat": 4,
 "nbformat_minor": 0
}
