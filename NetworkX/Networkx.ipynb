{
 "cells": [
  {
   "cell_type": "markdown",
   "metadata": {},
   "source": [
    "# Análisis de redes en Python  (Networkx)\n",
    "\n",
    "## Bienvenidos :D\n",
    "\n",
    "En esta sesión aprenderemos a utilizar la librería \"Networkx\" (http://networkx.readthedocs.io/en/networkx-1.11/index.html) que es una librería de Python para la crecación, manipulación y estudio de la estructura, dinámicas y función de redes complejas.\n",
    "\n",
    "## Que es una red compleja \n",
    "Las redes complejas son conjuntos de muchos nodos conectados que interactúan de alguna forma. A los nodos de una red también se les llama vértices o elementos y los representaremos por los símbolos v1, v2, ..., vN , donde N es el número total de nodos en la red. Si un nodo vi está conectado con otro nodo vj, esta conexión se representa por una pareja ordenada (vi, vj )."
   ]
  },
  {
   "cell_type": "markdown",
   "metadata": {},
   "source": [
    "# Ejemplos de redes\n",
    "\n",
    "## Redes Sociales\n",
    "![imagen](Socialnetwork.jpg)\n",
    "\n",
    "## Redes Informaticas\n",
    "![imagen](redinformatica.jpg)\n",
    "\n",
    "\n",
    "## Redes Biológicas\n",
    "\n",
    "![imagen](Brainetwork.jpg)\n",
    "![imagen](protein protein interactions.jpg)\n",
    "\n",
    "\n",
    "# etc etc etc\n",
    "\n",
    "![imagen](ejemplosredesNewman.jpg)"
   ]
  },
  {
   "cell_type": "markdown",
   "metadata": {},
   "source": [
    "# Empezamos!\n",
    "\n",
    "## Creemos una gráfica vacía"
   ]
  },
  {
   "cell_type": "code",
   "execution_count": null,
   "metadata": {
    "collapsed": false
   },
   "outputs": [],
   "source": [
    "%matplotlib inline\n",
    "import networkx as nx\n",
    "import matplotlib.pyplot as gr\n",
    "import scipy as sc"
   ]
  },
  {
   "cell_type": "code",
   "execution_count": null,
   "metadata": {
    "collapsed": false
   },
   "outputs": [],
   "source": [
    "G=nx.Graph()\n",
    "G.graph"
   ]
  },
  {
   "cell_type": "markdown",
   "metadata": {},
   "source": [
    "# Ahora le vamos a agregar nodos"
   ]
  },
  {
   "cell_type": "code",
   "execution_count": null,
   "metadata": {
    "collapsed": false
   },
   "outputs": [],
   "source": [
    "\"\"\"\n",
    "    Uno a uno\n",
    "\"\"\"\n",
    "G.add_node(1)  \n",
    "\n",
    "\"\"\"\n",
    "    O en forma de lista\n",
    "\"\"\"\n",
    "\n",
    "G.add_nodes_from([2,3,4,5])\n",
    "\n",
    "G.node"
   ]
  },
  {
   "cell_type": "markdown",
   "metadata": {},
   "source": [
    "# Borremos los nodos"
   ]
  },
  {
   "cell_type": "code",
   "execution_count": null,
   "metadata": {
    "collapsed": false
   },
   "outputs": [],
   "source": [
    "\"\"\"\n",
    "Uno a uno\n",
    "\"\"\"\n",
    "G.remove_node(3)\n",
    "G.node\n"
   ]
  },
  {
   "cell_type": "code",
   "execution_count": null,
   "metadata": {
    "collapsed": false
   },
   "outputs": [],
   "source": [
    "\n",
    "\"\"\"\n",
    "Todos\n",
    "\"\"\"\n",
    "\n",
    "G.clear()\n",
    "G.node"
   ]
  },
  {
   "cell_type": "code",
   "execution_count": null,
   "metadata": {
    "collapsed": false
   },
   "outputs": [],
   "source": [
    "\"\"\"\n",
    "Podemos añadir nodos a partir de una variable\n",
    "\"\"\"\n",
    "\n",
    "H=[5, 6, 7, 8, 9, 12]\n",
    "G.add_nodes_from(H)\n",
    "G.node"
   ]
  },
  {
   "cell_type": "code",
   "execution_count": null,
   "metadata": {
    "collapsed": false
   },
   "outputs": [],
   "source": [
    "H=nx.path_graph(10)\n",
    "G.add_nodes_from(H)\n",
    "G.node\n",
    "#print (H)\n"
   ]
  },
  {
   "cell_type": "markdown",
   "metadata": {},
   "source": [
    "## Vamos a darle nombre!\n",
    "\n",
    "Se pueden asignar atributos a la gráfica como a cada uno de sus elementos. Los nodos pueden ser también strings!"
   ]
  },
  {
   "cell_type": "code",
   "execution_count": null,
   "metadata": {
    "collapsed": false
   },
   "outputs": [],
   "source": [
    "GPL=nx.Graph(Name=[\"Pyladies\"], librería= \"Scipy\")\n",
    "GPL.graph"
   ]
  },
  {
   "cell_type": "code",
   "execution_count": null,
   "metadata": {
    "collapsed": false
   },
   "outputs": [],
   "source": [
    "\"\"\"\n",
    "Ahora vamos a editar el atributo\n",
    "\"\"\"\n",
    "\n",
    "GPL.graph['librería']='Networkx'\n",
    "GPL.graph"
   ]
  },
  {
   "cell_type": "code",
   "execution_count": null,
   "metadata": {
    "collapsed": false
   },
   "outputs": [],
   "source": [
    "\"\"\"\n",
    "Empecemos a añadir los nodos\n",
    "\"\"\"\n",
    "\n",
    "GPL.add_node('Erika')\n",
    "\n",
    "GPL.add_nodes_from(\"Ale\", edad = 30 )  # que pasa si hacemos esto???\n",
    "\n",
    "GPL.nodes(data=True)"
   ]
  },
  {
   "cell_type": "markdown",
   "metadata": {},
   "source": [
    "Ups!! ahora hay que borrar esos nodos!.. como lo hacemos??\n",
    "\n",
    "Tip: remove_nodes_from"
   ]
  },
  {
   "cell_type": "code",
   "execution_count": null,
   "metadata": {
    "collapsed": true
   },
   "outputs": [],
   "source": []
  },
  {
   "cell_type": "code",
   "execution_count": null,
   "metadata": {
    "collapsed": true
   },
   "outputs": [],
   "source": []
  },
  {
   "cell_type": "code",
   "execution_count": null,
   "metadata": {
    "collapsed": false
   },
   "outputs": [],
   "source": [
    "GPL.remove_nodes_from(['A','l','e'])\n",
    "GPL.node"
   ]
  },
  {
   "cell_type": "code",
   "execution_count": null,
   "metadata": {
    "collapsed": false
   },
   "outputs": [],
   "source": [
    "GPL.add_node(\"Ale\", edad = 30 )\n",
    "GPL.node[\"Ale\"]"
   ]
  },
  {
   "cell_type": "code",
   "execution_count": null,
   "metadata": {
    "collapsed": false
   },
   "outputs": [],
   "source": [
    "GPL.node['Ale']['entidad'] = 'IFC'\n",
    "GPL.node\n"
   ]
  },
  {
   "cell_type": "code",
   "execution_count": null,
   "metadata": {
    "collapsed": false
   },
   "outputs": [],
   "source": [
    "GPL.number_of_nodes()"
   ]
  },
  {
   "cell_type": "markdown",
   "metadata": {},
   "source": [
    "## Nos faltan más miembros del grupo y sus datos... como lo hacemos?"
   ]
  },
  {
   "cell_type": "code",
   "execution_count": null,
   "metadata": {
    "collapsed": false
   },
   "outputs": [],
   "source": []
  },
  {
   "cell_type": "markdown",
   "metadata": {},
   "source": [
    "Ejemplo:"
   ]
  },
  {
   "cell_type": "code",
   "execution_count": null,
   "metadata": {
    "collapsed": false
   },
   "outputs": [],
   "source": [
    "GPL.add_node('Jane Doe', edad = 25, entidad = 'Ciencias')\n"
   ]
  },
  {
   "cell_type": "code",
   "execution_count": null,
   "metadata": {
    "collapsed": false
   },
   "outputs": [],
   "source": [
    "GPL.nodes(data=True)"
   ]
  },
  {
   "cell_type": "markdown",
   "metadata": {},
   "source": [
    "# ahora vamos con los vertices!"
   ]
  },
  {
   "cell_type": "code",
   "execution_count": null,
   "metadata": {
    "collapsed": false
   },
   "outputs": [],
   "source": [
    "GPL.add_edge('Ale','Erika')\n",
    "GPL.edge"
   ]
  },
  {
   "cell_type": "code",
   "execution_count": null,
   "metadata": {
    "collapsed": false
   },
   "outputs": [],
   "source": [
    "e=('Erika','Jane Doe')\n",
    "GPL.add_edge(*e)\n",
    "GPL.edge"
   ]
  },
  {
   "cell_type": "code",
   "execution_count": null,
   "metadata": {
    "collapsed": false
   },
   "outputs": [],
   "source": [
    "GPL.add_edges_from([('Jane Doe','Ale'),('Ale','Marco')])\n",
    "GPL.number_of_edges()\n",
    "# ¿pero que pasó aqui? Marco no estaba incluido en los nodos del grupo Pyladies\n"
   ]
  },
  {
   "cell_type": "code",
   "execution_count": null,
   "metadata": {
    "collapsed": false
   },
   "outputs": [],
   "source": [
    "GPL.node"
   ]
  },
  {
   "cell_type": "markdown",
   "metadata": {},
   "source": [
    "# Edge Attributes\n",
    "Podemos añadir y manipular los atributos de los vertices usando add_edge(), add_edges_from(), subscript notation, or G.edge."
   ]
  },
  {
   "cell_type": "code",
   "execution_count": null,
   "metadata": {
    "collapsed": false
   },
   "outputs": [],
   "source": [
    "GPL.add_edge(2,5, weight=2)\n",
    "\n",
    "GPL.add_edges_from([('Erika','Jane Doe'),('Jane Doe','Ale')], color='red')\n",
    "\n",
    "GPL.add_edges_from([('Ale','Marco',{'color':'blue'}), ('Erika','Erin',{'weight':8}), (3,5,{'weight':8})])\n",
    "\n",
    "GPL['Ale']['Erika']['weight'] = 3\n",
    "\n",
    "GPL.edge['Ale']['Marco']['weight'] = 4\n",
    "\n",
    "GPL.edge"
   ]
  },
  {
   "cell_type": "markdown",
   "metadata": {},
   "source": [
    "## ¿Entonces quien quedó con quien?"
   ]
  },
  {
   "cell_type": "code",
   "execution_count": null,
   "metadata": {
    "collapsed": false
   },
   "outputs": [],
   "source": [
    "GPL.neighbors('Erika') "
   ]
  },
  {
   "cell_type": "code",
   "execution_count": null,
   "metadata": {
    "collapsed": false
   },
   "outputs": [],
   "source": [
    "GPL.degree('Erika') "
   ]
  },
  {
   "cell_type": "code",
   "execution_count": null,
   "metadata": {
    "collapsed": false
   },
   "outputs": [],
   "source": []
  },
  {
   "cell_type": "markdown",
   "metadata": {},
   "source": [
    "## ¿Que más le podemos preguntar a nuestra gráfica?"
   ]
  },
  {
   "cell_type": "markdown",
   "metadata": {},
   "source": [
    "1. La distribución de conexiones (o vecinos) P (k): Es la probabilidad de que un nodo escogido al azar tenga k conexiones (o vecinos). (degree distribution)\n",
    "Por ejemplo, en una red de contactos sexuales P (k) es la probabilidad de que una persona escogida al azar en una sociedad haya tenido k parejas sexuales distintas a lo largo de su vida.\n",
    "\n",
    "2. El coeficiente de agrupamiento (C): Es la probabilidad de que dos nodos estén conectados directamente a un tercer nodo, estén conectados entre sí. (clustering coefficient)\n",
    "Por ejemplo, en una red de amistades, es la probabilidad  de que dos de mis amigos sean ellos mismos amigos uno del otro.\n",
    "\n",
    "3. La longitud mínima  entre dos nodos vi y vj: Es el número mínimo de “brincos”que se tienen que dar para llegar de un nodo vi de la red a otro nodo vj de la red. (path lenght)\n",
    "\n",
    "4. La longitud promedio de la red (L): Es el promedio de las longitudes mínimas entre todas las posibles parejas de nodos (vi, vj) de la red.\n",
    "\n",
    "![imagen](redestriatal.jpg)"
   ]
  },
  {
   "cell_type": "markdown",
   "metadata": {},
   "source": [
    "# Algoritmos y funciones\n",
    "\n",
    "http://networkx.readthedocs.io/en/networkx-1.11/reference/algorithms.html\n",
    "\n",
    "http://networkx.readthedocs.io/en/networkx-1.11/reference/functions.html\n",
    "\n",
    "Podemos usar varios algoritmos y funciones que nos dan información acerca de la red, por ejemplo:\n",
    "\n",
    "average_clustering(G, nodes=None, weight=None, count_zeros=True) : Es el coeficiente de agrupamiento.\n",
    "Compute the average clustering coefficient for the graph G.\n",
    "\n",
    "shortest_path_length(G[, source, target, weight]) Encuentra el camino mas corto entre los nodos\t\n",
    "Compute shortest path lengths in the graph.\n",
    "\n",
    "degree_histogram(G)\tReturn a list of the frequency of each degree value.\n",
    "\n",
    "info(G[, n])\tPrint short summary of information for the graph G or the node n.\n",
    "\n",
    "\n",
    "\n",
    "Ejemplos:"
   ]
  },
  {
   "cell_type": "code",
   "execution_count": null,
   "metadata": {
    "collapsed": false
   },
   "outputs": [],
   "source": [
    "nx.info(GPL)\n",
    "#nx.info(GPL, 'Ale')"
   ]
  },
  {
   "cell_type": "code",
   "execution_count": null,
   "metadata": {
    "collapsed": false
   },
   "outputs": [],
   "source": [
    "nx.get_node_attributes(GPL,'Erika')"
   ]
  },
  {
   "cell_type": "code",
   "execution_count": null,
   "metadata": {
    "collapsed": false
   },
   "outputs": [],
   "source": [
    "nx.clustering(GPL)"
   ]
  },
  {
   "cell_type": "code",
   "execution_count": null,
   "metadata": {
    "collapsed": false
   },
   "outputs": [],
   "source": [
    "nx.degree(GPL)"
   ]
  },
  {
   "cell_type": "code",
   "execution_count": null,
   "metadata": {
    "collapsed": false
   },
   "outputs": [],
   "source": [
    "nx.degree_histogram(GPL)"
   ]
  },
  {
   "cell_type": "markdown",
   "metadata": {},
   "source": [
    "# Podemos usar las funciones y algoritmos dentro de otras funciones"
   ]
  },
  {
   "cell_type": "code",
   "execution_count": null,
   "metadata": {
    "collapsed": false
   },
   "outputs": [],
   "source": [
    "degree=list();\n",
    "clustering=list();\n",
    "\n",
    "for n in sc.arange(len(GPL.node)):   # Some properties of the graph\n",
    "    degree.append(sorted(nx.degree(GPL,[n]).values())) # así nos regresa solo los valores de grado\n",
    "    #degree.append(nx.degree(GPL,[n]))\n",
    "        #así nos regresa los nodos con su correspondiente valor de grado de conectividad\n",
    "    clustering.append(nx.clustering(GPL,[n]))\n",
    "    \n",
    "print(degree)\n",
    "print(clustering)\n",
    "\n",
    "\n",
    "#¿que pasó aqui?... no esta accesando a la informacion de los nodos que son strings y no números... cuidado con eso!\n"
   ]
  },
  {
   "cell_type": "code",
   "execution_count": null,
   "metadata": {
    "collapsed": false
   },
   "outputs": [],
   "source": []
  },
  {
   "cell_type": "code",
   "execution_count": null,
   "metadata": {
    "collapsed": false
   },
   "outputs": [],
   "source": [
    "G=nx.Graph()\n",
    "e=[('a','b',0.3),('b','c',0.9),('a','c',0.5),('c','d',1.2)]\n",
    "G.add_weighted_edges_from(e)\n",
    "\n",
    "nx.dijkstra_path(G,'a','d') # encuentra el camino mas corto y con mayor peso entre los nodos \n"
   ]
  },
  {
   "cell_type": "markdown",
   "metadata": {},
   "source": [
    "# También podemos generar la matriz adjacente a otros formatos "
   ]
  },
  {
   "cell_type": "markdown",
   "metadata": {},
   "source": [
    "![imagen](matriz adyacente.jpg)"
   ]
  },
  {
   "cell_type": "code",
   "execution_count": null,
   "metadata": {
    "collapsed": false
   },
   "outputs": [],
   "source": [
    "A = nx.to_scipy_sparse_matrix(GPL)\n",
    "print(A.todense())\n"
   ]
  },
  {
   "cell_type": "code",
   "execution_count": null,
   "metadata": {
    "collapsed": false
   },
   "outputs": [],
   "source": [
    "A = nx.to_numpy_matrix(GPL)\n",
    "print(A)"
   ]
  },
  {
   "cell_type": "code",
   "execution_count": null,
   "metadata": {
    "collapsed": false
   },
   "outputs": [],
   "source": [
    "A = nx.to_pandas_dataframe(GPL)\n",
    "print(A)"
   ]
  },
  {
   "cell_type": "markdown",
   "metadata": {},
   "source": [
    "# Tambien podemos importar a partir de varias estructuras de datos\n",
    "\n",
    "Por ejemplo:\n",
    "\n",
    "from_pandas_dataframe(df, source, target, edge_attr=None, create_using=None)"
   ]
  },
  {
   "cell_type": "code",
   "execution_count": null,
   "metadata": {
    "collapsed": false
   },
   "outputs": [],
   "source": [
    "import pandas as pd\n",
    "import numpy as np\n",
    "r = np.random.RandomState(seed=5)\n",
    "ints = r.randint(1, 10, size=(3,2))\n",
    "a = ['A', 'B', 'C']\n",
    "b = ['D', 'A', 'E']\n",
    "df = pd.DataFrame(ints, columns=['weight', 'cost'])\n",
    "df['a'] = a\n",
    "df['b'] = b\n",
    "df"
   ]
  },
  {
   "cell_type": "code",
   "execution_count": null,
   "metadata": {
    "collapsed": false
   },
   "outputs": [],
   "source": [
    "G=nx.from_pandas_dataframe(df, 'a', 'b', ['weight', 'cost'])\n",
    "nx.info(G)"
   ]
  },
  {
   "cell_type": "code",
   "execution_count": null,
   "metadata": {
    "collapsed": false
   },
   "outputs": [],
   "source": [
    "G['E']['C']['cost']"
   ]
  },
  {
   "cell_type": "code",
   "execution_count": null,
   "metadata": {
    "collapsed": true
   },
   "outputs": [],
   "source": []
  },
  {
   "cell_type": "markdown",
   "metadata": {},
   "source": [
    "# O de diferentes tipos de archivos como por ejemplo \".graphml\" o \".leda\"\n",
    "\n",
    "http://networkx.readthedocs.io/en/networkx-1.11/reference/readwrite.html\n",
    "\n",
    "#El archivo que vamos a usar para el ejemplo contiene información acerca de la conectividad entre las áreas del cerebro de un mono rhesus\n",
    "\n",
    "Archivos como éste los podemos descargar de  http://openconnecto.me/graph-services/download/"
   ]
  },
  {
   "cell_type": "code",
   "execution_count": null,
   "metadata": {
    "collapsed": false
   },
   "outputs": [],
   "source": [
    "RB=nx.read_leda('rhesus_brain_2.leda')  \n",
    "#RB=nx.read_graphml('rhesus_brain_2.graphml')  \n",
    "nx.info(RB)\n",
    "\n"
   ]
  },
  {
   "cell_type": "code",
   "execution_count": null,
   "metadata": {
    "collapsed": false
   },
   "outputs": [],
   "source": [
    "RB.node"
   ]
  },
  {
   "cell_type": "code",
   "execution_count": null,
   "metadata": {
    "collapsed": false
   },
   "outputs": [],
   "source": [
    "nx.is_directed(RB)"
   ]
  },
  {
   "cell_type": "code",
   "execution_count": null,
   "metadata": {
    "collapsed": false
   },
   "outputs": [],
   "source": [
    "RB.neighbors('VIP')"
   ]
  },
  {
   "cell_type": "code",
   "execution_count": null,
   "metadata": {
    "collapsed": false
   },
   "outputs": [],
   "source": [
    "RB.node['VIP']"
   ]
  },
  {
   "cell_type": "code",
   "execution_count": null,
   "metadata": {
    "collapsed": false
   },
   "outputs": [],
   "source": [
    "RB.edge['VIP']"
   ]
  },
  {
   "cell_type": "code",
   "execution_count": null,
   "metadata": {
    "collapsed": false
   },
   "outputs": [],
   "source": [
    "nx.flow_hierarchy(RB) \n",
    "#Returns the flow hierarchy of a directed network.\n",
    "#Flow hierarchy is defined as the fraction of edges not participating in cycles in a directed graph "
   ]
  },
  {
   "cell_type": "code",
   "execution_count": null,
   "metadata": {
    "collapsed": false
   },
   "outputs": [],
   "source": [
    "largest_sc = sorted(nx.strongly_connected_components(RB))\n",
    "#largest_sc = max(nx.strongly_connected_components(RB))\n",
    "largest_sc"
   ]
  },
  {
   "cell_type": "code",
   "execution_count": null,
   "metadata": {
    "collapsed": false
   },
   "outputs": [],
   "source": [
    "AttarctComp=sorted(nx.attracting_components(RB))\n",
    "AttarctComp"
   ]
  },
  {
   "cell_type": "code",
   "execution_count": null,
   "metadata": {
    "collapsed": false
   },
   "outputs": [],
   "source": [
    "degree=(nx.degree_histogram(RB))\n",
    "degreeX=(sc.arange(len(degree)))\n",
    "\n",
    "gr.bar(degreeX, degree)\n",
    "gr.title(\"Degree Histogram\")\n",
    "gr.xlabel(\"k\")\n",
    "gr.ylabel(\"Frequency\")\n",
    "\n",
    "fig = gr.gcf()"
   ]
  },
  {
   "cell_type": "code",
   "execution_count": null,
   "metadata": {
    "collapsed": false
   },
   "outputs": [],
   "source": []
  },
  {
   "cell_type": "code",
   "execution_count": null,
   "metadata": {
    "collapsed": false
   },
   "outputs": [],
   "source": [
    "degree_sequence=sorted(degree,reverse=True) # degree sequence\n",
    "#print \"Degree sequence\", degree_sequence\n",
    "dmax=max(degree_sequence)\n",
    "\n",
    "gr.loglog(degree_sequence,'b-',marker='o')\n",
    "gr.title(\"Degree rank plot\")\n",
    "gr.ylabel(\"degree\")\n",
    "gr.xlabel(\"rank\")\n",
    "\n",
    "#gr.savefig(\"degree_histogram.png\")\n",
    "gr.show()\n"
   ]
  },
  {
   "cell_type": "markdown",
   "metadata": {},
   "source": [
    "## Ejercicio\n",
    "\n",
    "Ahora podemos practicar leyendo y analizando el archivo:   mixed.species_brain_1.graphml\n",
    "\n",
    "\n",
    "\n",
    "\n"
   ]
  },
  {
   "cell_type": "markdown",
   "metadata": {},
   "source": [
    "# Generadores de gráficas\n",
    "\n",
    "## Para hacer nuestros ejercicios podemos usar generadores de redes que ya tenemos a\n",
    "\n",
    "## disposición en Networkx por ejemplo:\n",
    "\n",
    "barbell_graph(m1, m2[, create_using]) Return the Barbell Graph: two complete graphs connected by a path.\n",
    "\n",
    "complete_graph(n[, create_using]) Return the complete graph K_n with n nodes.\n",
    "\n",
    "complete_multipartite_graph(*block_sizes) Returns the complete multipartite graph with the specified block sizes.\n",
    "\n",
    "dorogovtsev_goltsev_mendes_graph(n[, ...]) Return the hierarchically constructed Dorogovtsev-Goltsev-Mendes graph.\n",
    "\n",
    "grid_graph(dim[, periodic]) Return the n-dimensional grid graph.\n",
    "\n",
    "hypercube_graph(n) Return the n-dimensional hypercube.\n",
    "\n",
    "lollipop_graph(m, n[, create_using]) Return the Lollipop Graph; Km connected to Pm.\n",
    "\n",
    "path_graph(n[, create_using]) Return the Path graph P_n of n nodes linearly connected by n-1 edges.\n",
    "\n",
    "wheel_graph(n[, create_using]) Return the wheel graph: a single hub node connected to each node of the (n-1)-node cycle graph"
   ]
  },
  {
   "cell_type": "code",
   "execution_count": null,
   "metadata": {
    "collapsed": false
   },
   "outputs": [],
   "source": [
    "W=nx.wheel_graph(10)\n",
    "W.edge"
   ]
  },
  {
   "cell_type": "code",
   "execution_count": null,
   "metadata": {
    "collapsed": false
   },
   "outputs": [],
   "source": [
    "G=nx.complete_graph(8)\n",
    "G.edge"
   ]
  },
  {
   "cell_type": "markdown",
   "metadata": {},
   "source": [
    "## Clásicas gráficas pequeñas "
   ]
  },
  {
   "cell_type": "code",
   "execution_count": null,
   "metadata": {
    "collapsed": true
   },
   "outputs": [],
   "source": [
    "petersen=nx.petersen_graph()\n",
    "tutte=nx.tutte_graph()\n",
    "maze=nx.sedgewick_maze_graph()\n",
    "tet=nx.tetrahedral_graph()"
   ]
  },
  {
   "cell_type": "markdown",
   "metadata": {
    "collapsed": false
   },
   "source": [
    "## Generadores de gráficas estocásticas, e.g."
   ]
  },
  {
   "cell_type": "code",
   "execution_count": null,
   "metadata": {
    "collapsed": true
   },
   "outputs": [],
   "source": [
    "er=nx.erdos_renyi_graph(100,0.15)\n",
    "ws=nx.watts_strogatz_graph(30,3,0.1)\n",
    "ba=nx.barabasi_albert_graph(100,5)\n",
    "red=nx.random_lobster(100,0.9,0.9)"
   ]
  },
  {
   "cell_type": "markdown",
   "metadata": {},
   "source": [
    "# Dibujemos la gráfica"
   ]
  },
  {
   "cell_type": "code",
   "execution_count": null,
   "metadata": {
    "collapsed": false
   },
   "outputs": [],
   "source": [
    "ba=nx.barabasi_albert_graph(40,5)\n",
    "nx.draw(ba, node_size=80,node_color=\"blue\", alpha=0.5) \n",
    "#nx.draw_circular(ba, node_size=80,node_color=\"blue\", alpha=0.5) \n",
    "gr.title('Barabasi Albert Graph', fontsize= 18) # Se requiere de matplotlib... aqui esta importada como gr\n",
    "gr.show()"
   ]
  },
  {
   "cell_type": "code",
   "execution_count": null,
   "metadata": {
    "collapsed": false
   },
   "outputs": [],
   "source": [
    "ba=nx.barabasi_albert_graph(40,5)\n",
    "#nx.draw(ba, node_size=80,node_color=\"blue\", alpha=0.5) \n",
    "nx.draw_circular(ba, node_size=80,node_color=\"blue\", alpha=0.5) \n",
    "gr.title('Barabasi Albert Graph', fontsize= 18) # Se requiere de matplotlib... aqui esta importada como gr\n",
    "gr.show()"
   ]
  },
  {
   "cell_type": "code",
   "execution_count": null,
   "metadata": {
    "collapsed": false
   },
   "outputs": [],
   "source": [
    "nx.average_shortest_path_length(ba)"
   ]
  },
  {
   "cell_type": "code",
   "execution_count": null,
   "metadata": {
    "collapsed": false
   },
   "outputs": [],
   "source": [
    "nx.draw(ws, node_size=80,node_color=\"blue\", alpha=0.5)  \n",
    "gr.title('Watts Strogatz Grap', fontsize= 18) # Se requiere de matplotlib... aqui esta importada como gr\n",
    "gr.show()"
   ]
  },
  {
   "cell_type": "code",
   "execution_count": null,
   "metadata": {
    "collapsed": false
   },
   "outputs": [],
   "source": [
    "nx.average_shortest_path_length(ws)"
   ]
  },
  {
   "cell_type": "markdown",
   "metadata": {},
   "source": [
    "# A dibujar!!!\n",
    "\n",
    "Ahora elijan una gráfica de las que generamos anteriormente y muestrenla a los demás"
   ]
  },
  {
   "cell_type": "code",
   "execution_count": null,
   "metadata": {
    "collapsed": true
   },
   "outputs": [],
   "source": []
  },
  {
   "cell_type": "code",
   "execution_count": null,
   "metadata": {
    "collapsed": true
   },
   "outputs": [],
   "source": []
  },
  {
   "cell_type": "code",
   "execution_count": null,
   "metadata": {
    "collapsed": false
   },
   "outputs": [],
   "source": [
    "nx.draw(W, node_size=50,node_color=\"green\", alpha=0.5) \n",
    "gr.title('Wheel graph', fontsize= 18) \n",
    "gr.show()"
   ]
  },
  {
   "cell_type": "code",
   "execution_count": null,
   "metadata": {
    "collapsed": false
   },
   "outputs": [],
   "source": [
    "nx.average_shortest_path_length(W)"
   ]
  },
  {
   "cell_type": "code",
   "execution_count": null,
   "metadata": {
    "collapsed": false
   },
   "outputs": [],
   "source": [
    "Hyp=nx.hypercube_graph(6)\n",
    "nx.draw(Hyp, node_size=50,node_color=\"orange\", alpha=0.5) \n",
    "gr.title('Otra gráfica', fontsize= 18) \n",
    "gr.show()"
   ]
  },
  {
   "cell_type": "code",
   "execution_count": null,
   "metadata": {
    "collapsed": true
   },
   "outputs": [],
   "source": []
  },
  {
   "cell_type": "code",
   "execution_count": null,
   "metadata": {
    "collapsed": false
   },
   "outputs": [],
   "source": [
    "lollipop=nx.lollipop_graph(10,20)\n",
    "nx.draw(lollipop, node_size=50,node_color=\"orange\", alpha=0.5) \n",
    "gr.title('Otra gráfica', fontsize= 18) \n",
    "gr.show()"
   ]
  },
  {
   "cell_type": "code",
   "execution_count": null,
   "metadata": {
    "collapsed": false
   },
   "outputs": [],
   "source": [
    "nx.average_shortest_path_length(lollipop)"
   ]
  },
  {
   "cell_type": "code",
   "execution_count": null,
   "metadata": {
    "collapsed": false
   },
   "outputs": [],
   "source": [
    "nx.draw(GPL, node_size=100, node_color=\"pink\", alpha=0.5) \n",
    "gr.title('Pyladies graph', fontsize= 18) \n",
    "gr.show()"
   ]
  },
  {
   "cell_type": "code",
   "execution_count": null,
   "metadata": {
    "collapsed": false
   },
   "outputs": [],
   "source": [
    "nx.average_shortest_path_length(GPL)"
   ]
  },
  {
   "cell_type": "code",
   "execution_count": null,
   "metadata": {
    "collapsed": false
   },
   "outputs": [],
   "source": [
    "nx.draw_random(RB, node_size=100, node_color=\"RED\", alpha=0.5) \n",
    "gr.title('RHESUS BRAIN graph', fontsize= 18) \n",
    "gr.show()"
   ]
  },
  {
   "cell_type": "code",
   "execution_count": null,
   "metadata": {
    "collapsed": false
   },
   "outputs": [],
   "source": [
    "nx.average_shortest_path_length(RB)"
   ]
  },
  {
   "cell_type": "code",
   "execution_count": null,
   "metadata": {
    "collapsed": false
   },
   "outputs": [],
   "source": []
  },
  {
   "cell_type": "code",
   "execution_count": null,
   "metadata": {
    "collapsed": true
   },
   "outputs": [],
   "source": []
  },
  {
   "cell_type": "code",
   "execution_count": null,
   "metadata": {
    "collapsed": true
   },
   "outputs": [],
   "source": []
  }
 ],
 "metadata": {
  "anaconda-cloud": {},
  "kernelspec": {
   "display_name": "Python [Root]",
   "language": "python",
   "name": "Python [Root]"
  },
  "language_info": {
   "codemirror_mode": {
    "name": "ipython",
    "version": 3
   },
   "file_extension": ".py",
   "mimetype": "text/x-python",
   "name": "python",
   "nbconvert_exporter": "python",
   "pygments_lexer": "ipython3",
   "version": "3.5.2"
  }
 },
 "nbformat": 4,
 "nbformat_minor": 0
}
