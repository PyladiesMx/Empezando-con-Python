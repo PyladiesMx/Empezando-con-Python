{
 "cells": [
  {
   "cell_type": "markdown",
   "metadata": {},
   "source": [
    "# Hacking hour 2\n",
    "\n",
    "Después de un largo descanso (que para much@s de nosotr@s ni se sintió...) regresamos a las sesiones de Pyladies!!! En este semestre queremos hacer más actividades y que el grupo crezca así que tendremos una hora para hacer ejercicios o discutir problemas que les quiten el sueño (problemas de programación) y media hora más para discutir acerca de los rumbos que tomará el grupo y las propuestas que tenemos para ustedes (aquí si caben problemas existenciales o personales :P)...\n",
    "\n",
    "Así que sin más preámbulo desempolvemos los teclados y ejercitar nuestros códigos!!! "
   ]
  },
  {
   "cell_type": "markdown",
   "metadata": {},
   "source": [
    "### Ejercicio 1\n",
    "\n",
    "Crea una función que genere una lista de \"n\" números impares.\n"
   ]
  },
  {
   "cell_type": "code",
   "execution_count": null,
   "metadata": {
    "collapsed": true
   },
   "outputs": [],
   "source": []
  },
  {
   "cell_type": "code",
   "execution_count": null,
   "metadata": {
    "collapsed": false
   },
   "outputs": [],
   "source": []
  },
  {
   "cell_type": "markdown",
   "metadata": {},
   "source": [
    "## Ejercicio 2\n",
    "\n",
    "Crea una función que genere una lista de \"n\" letras al azar, a partir de un string o lista de caracteres\n",
    "\n",
    "__hint:__ el módulu *random* de python tiene opciones para seleccionar elementos al azar\n",
    "\n",
    "__nota:__ recuerda que para importar módulos, paquetes y/o clases debes de usar ```import``` e.g. ```import math```"
   ]
  },
  {
   "cell_type": "code",
   "execution_count": null,
   "metadata": {
    "collapsed": false
   },
   "outputs": [],
   "source": []
  },
  {
   "cell_type": "code",
   "execution_count": null,
   "metadata": {
    "collapsed": false
   },
   "outputs": [],
   "source": []
  },
  {
   "cell_type": "markdown",
   "metadata": {},
   "source": [
    "### Ejercicio 3\n",
    "\n",
    "Importa la librería **\"Pandas\"** y haz una tabla de datos que tenga \"n\" filas y dos columnas. La primera columna se llamará 'Valores' y la segunda se llamará 'Condiciones'. Los elementos de la columna 'Valores' van a ser los de la lista de números impares y los elementos de la columna 'Condiciones' van a ser los de la lista de letras aleatorias que generaste"
   ]
  },
  {
   "cell_type": "code",
   "execution_count": null,
   "metadata": {
    "collapsed": true
   },
   "outputs": [],
   "source": []
  },
  {
   "cell_type": "code",
   "execution_count": null,
   "metadata": {
    "collapsed": true
   },
   "outputs": [],
   "source": []
  },
  {
   "cell_type": "code",
   "execution_count": null,
   "metadata": {
    "collapsed": true
   },
   "outputs": [],
   "source": []
  },
  {
   "cell_type": "markdown",
   "metadata": {},
   "source": [
    "## Ejercicio 4\n",
    "\n",
    "Analiza los datos de tu tabla y responde las siguientes preguntas:\n",
    "\n",
    "1. ¿Qué condición tuvo el valor mínimo?\n",
    "2. ¿Qué condición tuvo el valor máximo?\n",
    "3. ¿Cuál es el valor promedio de cada condición?\n",
    "4. ¿Puedes hacer una gráfica de los datos?"
   ]
  },
  {
   "cell_type": "markdown",
   "metadata": {},
   "source": [
    "## Felicidades!! has terminado tu hacking hour satisfactoriamente!!! ahora lo que resta es discutir cosas del grupo y socializar un poco ;)"
   ]
  },
  {
   "cell_type": "code",
   "execution_count": null,
   "metadata": {
    "collapsed": true
   },
   "outputs": [],
   "source": []
  }
 ],
 "metadata": {
  "kernelspec": {
   "display_name": "Python 3",
   "language": "python",
   "name": "python3"
  },
  "language_info": {
   "codemirror_mode": {
    "name": "ipython",
    "version": 3
   },
   "file_extension": ".py",
   "mimetype": "text/x-python",
   "name": "python",
   "nbconvert_exporter": "python",
   "pygments_lexer": "ipython3",
   "version": "3.5.2"
  }
 },
 "nbformat": 4,
 "nbformat_minor": 0
}
